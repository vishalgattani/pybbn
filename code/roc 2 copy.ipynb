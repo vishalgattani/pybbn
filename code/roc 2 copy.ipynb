{
 "cells": [
  {
   "cell_type": "markdown",
   "id": "2733881d",
   "metadata": {},
   "source": [
    "# Bayesian Network and Experimental Design"
   ]
  },
  {
   "cell_type": "markdown",
   "id": "6da33da7",
   "metadata": {},
   "source": [
    "# Libraries"
   ]
  },
  {
   "cell_type": "code",
   "execution_count": 36,
   "id": "2cf157cd",
   "metadata": {},
   "outputs": [
    {
     "name": "stdout",
     "output_type": "stream",
     "text": [
      "Requirement already satisfied: pybbn in /Users/vishalgattani/miniconda3/lib/python3.9/site-packages (3.2.3)\n",
      "Requirement already satisfied: networkx in /Users/vishalgattani/miniconda3/lib/python3.9/site-packages (from pybbn) (3.0)\n",
      "Requirement already satisfied: pandas in /Users/vishalgattani/miniconda3/lib/python3.9/site-packages (from pybbn) (1.5.3)\n",
      "Requirement already satisfied: scipy in /Users/vishalgattani/miniconda3/lib/python3.9/site-packages (from pybbn) (1.9.1)\n",
      "Requirement already satisfied: numpy in /Users/vishalgattani/miniconda3/lib/python3.9/site-packages (from pybbn) (1.24.2)\n",
      "Requirement already satisfied: python-dateutil>=2.8.1 in /Users/vishalgattani/miniconda3/lib/python3.9/site-packages (from pandas->pybbn) (2.8.2)\n",
      "Requirement already satisfied: pytz>=2020.1 in /Users/vishalgattani/miniconda3/lib/python3.9/site-packages (from pandas->pybbn) (2022.7.1)\n",
      "Requirement already satisfied: six>=1.5 in /Users/vishalgattani/miniconda3/lib/python3.9/site-packages (from python-dateutil>=2.8.1->pandas->pybbn) (1.16.0)\n"
     ]
    }
   ],
   "source": [
    "!pip install pybbn"
   ]
  },
  {
   "cell_type": "code",
   "execution_count": 37,
   "id": "4007246e",
   "metadata": {},
   "outputs": [],
   "source": [
    "import pybbn\n",
    "import pandas as pd\n",
    "pd.set_option('display.max_rows', None)\n",
    "import warnings\n",
    "warnings.simplefilter(action='ignore', category=FutureWarning)\n",
    "import networkx as nx \n",
    "import matplotlib.pyplot as plt\n",
    "%matplotlib inline\n",
    "import random\n",
    "import sys\n",
    "\n",
    "from utils_sys import Printer\n",
    "\n",
    "from pybbn.graph.dag import Bbn\n",
    "from pybbn.graph.edge import Edge, EdgeType\n",
    "from pybbn.graph.jointree import EvidenceBuilder\n",
    "from pybbn.graph.node import BbnNode\n",
    "from pybbn.graph.variable import Variable\n",
    "from pybbn.pptc.inferencecontroller import InferenceController\n",
    "from pybbn.sampling.sampling import LogicSampler\n",
    "\n",
    "from scipy.stats import binom\n",
    "import numpy as np\n",
    "np.seterr(invalid='ignore')\n",
    "import plotly\n",
    "import plotly.io as pio\n",
    "import chart_studio\n",
    "import chart_studio.plotly as cspy\n",
    "import chart_studio.tools as tls\n",
    "from plotly.subplots import make_subplots\n",
    "import plotly.graph_objects as go\n",
    "import plotly.express as px\n",
    "from urllib.request import urlopen\n",
    "import json\n",
    "\n",
    "import seaborn as sns \n",
    "\n",
    "from sklearn import datasets\n",
    "from sklearn.tree import DecisionTreeClassifier\n",
    "from sklearn.linear_model import LogisticRegression\n",
    "from sklearn.naive_bayes import GaussianNB\n",
    "from sklearn.metrics import roc_curve, auc\n",
    "from sklearn.model_selection import train_test_split\n",
    "# from sklearn.metrics import plot_roc_curve\n",
    "from sklearn.metrics import accuracy_score\n",
    "from sklearn.metrics import confusion_matrix\n",
    "\n",
    "username = 'vishalgattani' # your username\\n\",\n",
    "api_key = 'WSy2EFPTbxYYm3Rmcx53' # your api key - go to profile > settings > regenerate key\\n\",\n",
    "chart_studio.tools.set_credentials_file(username=username, api_key=api_key)\n"
   ]
  },
  {
   "cell_type": "markdown",
   "id": "d67dad74",
   "metadata": {},
   "source": [
    "# Functions"
   ]
  },
  {
   "cell_type": "code",
   "execution_count": 38,
   "id": "92ab0f0f",
   "metadata": {},
   "outputs": [],
   "source": [
    "def getBinomProb(total_exp_runs,p):\n",
    "    return list(binom.pmf(list(range(total_exp_runs + 1)),total_exp_runs, p))\n",
    "\n",
    "def evidence(join_tree,ev, nod, cat, val):\n",
    "    ev = EvidenceBuilder() \\\n",
    "    .with_node(join_tree.get_bbn_node_by_name(nod)) \\\n",
    "    .with_evidence(cat, val) \\\n",
    "    .build()\n",
    "    join_tree.set_observation(ev)\n",
    "    \n",
    "def resetEvidence(join_tree):\n",
    "    join_tree.unobserve_all()\n",
    "    \n",
    "def print_probs(join_tree):\n",
    "    for node in join_tree.get_bbn_nodes():\n",
    "        potential = join_tree.get_bbn_potential(node)\n",
    "        print(\"Node:\", node.to_dict())\n",
    "        print(\"Values:\")\n",
    "        print(potential)\n",
    "        print('----------------')\n",
    "        \n",
    "    print(\"=\"*90)\n",
    "        \n",
    "def print_probs_top_node(join_tree):\n",
    "    for node in join_tree.get_bbn_nodes():\n",
    "        if (node.to_dict()['variable']['id']==0):\n",
    "            potential = join_tree.get_bbn_potential(node)\n",
    "            df = potential_to_df(join_tree.get_bbn_potential(node))\n",
    "#             display(df)\n",
    "            return df\n",
    "            \n",
    "def potential_to_df(p):\n",
    "    data = []\n",
    "    for pe in p.entries:\n",
    "        try:\n",
    "            v = pe.entries.values()[0]\n",
    "        except:\n",
    "            v = list(pe.entries.values())[0]\n",
    "        p = pe.value\n",
    "        t = (v, p)\n",
    "        data.append(t)\n",
    "    return pd.DataFrame(data, columns=['val', 'p'])\n",
    "\n",
    "def potentials_to_dfs(join_tree):\n",
    "    data = []\n",
    "    for node in join_tree.get_bbn_nodes():\n",
    "        name = node.variable.name\n",
    "        df = potential_to_df(join_tree.get_bbn_potential(node))\n",
    "        display(df)\n",
    "        t = (name, df)\n",
    "        data.append(t)\n",
    "    return data\n",
    "\n",
    "def drawBBN(bbn):\n",
    "    n, d = bbn.to_nx_graph()\n",
    "    pos = nx.spring_layout(n)\n",
    "    nx.draw_spring(n, with_labels=True,labels=d)\n",
    "    ax = plt.gca()\n",
    "    \n",
    "    plt.show()\n",
    "\n",
    "def plotROC(p,r,fpr_tree, tpr_tree,fpr_lr, tpr_lr,fpr_lrl2, tpr_lrl2,fpr_nb, tpr_nb):\n",
    "    fig = go.Figure()\n",
    "    fig.add_trace(go.Scatter(x=fpr_tree, y=tpr_tree, mode=\"markers+lines\",name='DT'))\n",
    "    fig.add_trace(go.Scatter(x=fpr_lr, y=tpr_lr, mode=\"markers+lines\",name='LR'))\n",
    "    fig.add_trace(go.Scatter(x=fpr_lrl2, y=tpr_lrl2, mode=\"markers+lines\",name='LR(L2)'))\n",
    "#     fig.add_trace(go.Scatter(x=fpr_nb, y=tpr_nb, mode=\"markers+lines\",name='NB'))\n",
    "    fig.update_layout(hovermode=\"x\",title='Receiver Operating Characteristic '+\"p=\"+str(p)+\",r=\"+str(r))\n",
    "    fig.update_xaxes(title_text='TPR')\n",
    "    fig.update_yaxes(title_text='FPR')\n",
    "    fig.show()"
   ]
  },
  {
   "cell_type": "markdown",
   "id": "c10d32fc",
   "metadata": {},
   "source": [
    "# Bayesian Network using `pybbn`"
   ]
  },
  {
   "cell_type": "code",
   "execution_count": 39,
   "id": "33013301",
   "metadata": {},
   "outputs": [],
   "source": [
    "threshold_num_runs = 2 # rule\n",
    "total_exp_runs = 3\n",
    "\n",
    "p = 0.8\n",
    "r = 0.01\n",
    "\n",
    "exp_T = getBinomProb(total_exp_runs,p)\n",
    "exp_F = getBinomProb(total_exp_runs,r)\n",
    "\n",
    "\n",
    "exp_dict = {\"True\":exp_T,\"False\":exp_F}\n",
    "exp_cpt = pd.DataFrame(exp_dict)\n",
    "\n",
    "test_keys = []\n",
    "test_values = []\n",
    "\n",
    "for i in range(total_exp_runs+1):\n",
    "    test_keys.append(str(i))\n",
    "    if i >= threshold_num_runs:\n",
    "        test_values.append([1,0])\n",
    "    else:\n",
    "        test_values.append([0,1])\n",
    "\n",
    "test_results_dict = dict(zip(test_keys, test_values))\n",
    "test_results_cpt = pd.DataFrame(test_results_dict) \n",
    "test_results_cpt[\"States\"] = ['Correct','Incorrect']\n",
    "test_results_cpt.set_index(\"States\",inplace=True)\n",
    "\n",
    "\n",
    "# Create nodes by manually typing in probabilities\n",
    "test_results = BbnNode(Variable(0, 'Test Results say it works properly', test_results_cpt.index.values.tolist()), np.ndarray.flatten(test_results_cpt.values.transpose()).tolist())\n",
    "exp1 = BbnNode(Variable(1, 'Experiment 1 - Successes', test_results_cpt.columns), exp_T+exp_F)\n",
    "algo = BbnNode(Variable(2, 'Algorithm works correctly', [\"True\",\"False\"]), [0.5,0.5])\n",
    "\n",
    "bbn = Bbn() \\\n",
    "    .add_node(algo) \\\n",
    "    .add_node(exp1) \\\n",
    "    .add_node(test_results) \\\n",
    "    .add_edge(Edge(algo, exp1, EdgeType.DIRECTED)) \\\n",
    "    .add_edge(Edge(exp1, test_results, EdgeType.DIRECTED))\n",
    "join_tree = InferenceController.apply(bbn)"
   ]
  },
  {
   "cell_type": "markdown",
   "id": "629469ad",
   "metadata": {},
   "source": [
    "# Plotting the BBN"
   ]
  },
  {
   "cell_type": "code",
   "execution_count": 40,
   "id": "f06fd1f6",
   "metadata": {},
   "outputs": [
    {
     "data": {
      "image/png": "[encoded data removed]",
      "text/plain": [
       "<Figure size 640x480 with 1 Axes>"
      ]
     },
     "metadata": {},
     "output_type": "display_data"
    }
   ],
   "source": [
    "drawBBN(bbn)  "
   ]
  },
  {
   "cell_type": "markdown",
   "id": "07fa7ee0",
   "metadata": {},
   "source": [
    "# Printing values of nodes within BBN without setting evidence"
   ]
  },
  {
   "cell_type": "code",
   "execution_count": 41,
   "id": "878649d9",
   "metadata": {},
   "outputs": [
    {
     "name": "stdout",
     "output_type": "stream",
     "text": [
      "Node: {'probs': [0.007999999999999995, 0.0960000000000001, 0.3840000000000001, 0.5120000000000001, 0.970299, 0.02940300000000001, 0.000297, 1.0000000000000002e-06], 'variable': {'id': 1, 'name': 'Experiment 1 - Successes', 'values': Index(['0', '1', '2', '3'], dtype='object')}}\n",
      "Values:\n",
      "1=0|0.48915\n",
      "1=1|0.06270\n",
      "1=2|0.19215\n",
      "1=3|0.25600\n",
      "----------------\n",
      "Node: {'probs': [0, 1, 0, 1, 1, 0, 1, 0], 'variable': {'id': 0, 'name': 'Test Results say it works properly', 'values': ['Correct', 'Incorrect']}}\n",
      "Values:\n",
      "0=Correct|0.44815\n",
      "0=Incorrect|0.55185\n",
      "----------------\n",
      "Node: {'probs': [0.5, 0.5], 'variable': {'id': 2, 'name': 'Algorithm works correctly', 'values': ['True', 'False']}}\n",
      "Values:\n",
      "2=True|0.50000\n",
      "2=False|0.50000\n",
      "----------------\n",
      "==========================================================================================\n"
     ]
    }
   ],
   "source": [
    "print_probs(join_tree)"
   ]
  },
  {
   "cell_type": "markdown",
   "id": "9b7bb1e4",
   "metadata": {},
   "source": [
    "# Setting evidence in BBN"
   ]
  },
  {
   "cell_type": "code",
   "execution_count": 42,
   "id": "055b0fa2",
   "metadata": {},
   "outputs": [
    {
     "name": "stdout",
     "output_type": "stream",
     "text": [
      "Node: {'probs': [0.007999999999999995, 0.0960000000000001, 0.3840000000000001, 0.5120000000000001, 0.970299, 0.02940300000000001, 0.000297, 1.0000000000000002e-06], 'variable': {'id': 1, 'name': 'Experiment 1 - Successes', 'values': Index(['0', '1', '2', '3'], dtype='object')}}\n",
      "Values:\n",
      "1=0|0.00800\n",
      "1=1|0.09600\n",
      "1=2|0.38400\n",
      "1=3|0.51200\n",
      "----------------\n",
      "Node: {'probs': [0, 1, 0, 1, 1, 0, 1, 0], 'variable': {'id': 0, 'name': 'Test Results say it works properly', 'values': ['Correct', 'Incorrect']}}\n",
      "Values:\n",
      "0=Correct|0.89600\n",
      "0=Incorrect|0.10400\n",
      "----------------\n",
      "Node: {'probs': [0.5, 0.5], 'variable': {'id': 2, 'name': 'Algorithm works correctly', 'values': ['True', 'False']}}\n",
      "Values:\n",
      "2=True|1.00000\n",
      "2=False|0.00000\n",
      "----------------\n",
      "==========================================================================================\n"
     ]
    },
    {
     "data": {
      "text/html": [
       "<div>\n",
       "<style scoped>\n",
       "    .dataframe tbody tr th:only-of-type {\n",
       "        vertical-align: middle;\n",
       "    }\n",
       "\n",
       "    .dataframe tbody tr th {\n",
       "        vertical-align: top;\n",
       "    }\n",
       "\n",
       "    .dataframe thead th {\n",
       "        text-align: right;\n",
       "    }\n",
       "</style>\n",
       "<table border=\"1\" class=\"dataframe\">\n",
       "  <thead>\n",
       "    <tr style=\"text-align: right;\">\n",
       "      <th></th>\n",
       "      <th>val</th>\n",
       "      <th>p</th>\n",
       "    </tr>\n",
       "  </thead>\n",
       "  <tbody>\n",
       "    <tr>\n",
       "      <th>0</th>\n",
       "      <td>Correct</td>\n",
       "      <td>0.896</td>\n",
       "    </tr>\n",
       "    <tr>\n",
       "      <th>1</th>\n",
       "      <td>Incorrect</td>\n",
       "      <td>0.104</td>\n",
       "    </tr>\n",
       "  </tbody>\n",
       "</table>\n",
       "</div>"
      ],
      "text/plain": [
       "         val      p\n",
       "0    Correct  0.896\n",
       "1  Incorrect  0.104"
      ]
     },
     "metadata": {},
     "output_type": "display_data"
    }
   ],
   "source": [
    "evidence(join_tree,'ev1', 'Algorithm works correctly', 'True', 1.0)\n",
    "print_probs(join_tree)\n",
    "df = print_probs_top_node(join_tree)\n",
    "display(df)\n",
    "resetEvidence(join_tree)"
   ]
  },
  {
   "cell_type": "markdown",
   "id": "e63a8e43",
   "metadata": {},
   "source": [
    "# Generating graphs\n",
    "\n",
    "- Setting `r` as a fraction of `p`.\n",
    "- Changing `threshold_num_runs` from `1...n` where `n` is experiment runs.\n",
    "- Gathering false positives and true positives from the above methods for a certain `p,r` combination."
   ]
  },
  {
   "cell_type": "markdown",
   "id": "493ed347",
   "metadata": {},
   "source": [
    "# False Negatives and False Positives\n",
    "\n",
    "- False negative (FN): The probability of node “test results say it works properly” is `incorrect` given the node “Algorithm works correctly” is `True`. \n",
    "\n",
    "- False Positive (FP): The probability of node “test results say it works properly” is `correct` given the node “Algorithm works correctly” is `False`. "
   ]
  },
  {
   "cell_type": "code",
   "execution_count": 43,
   "id": "642a9362",
   "metadata": {},
   "outputs": [],
   "source": [
    "def getFPTN(join_tree):\n",
    "    evidence(join_tree,'ev1', 'Algorithm works correctly', 'False', 1.0)\n",
    "    df = print_probs_top_node(join_tree)\n",
    "    resetEvidence(join_tree)\n",
    "    dffp = df[df['val']=='Correct']['p']\n",
    "    dftn = df[df['val']=='Incorrect']['p']\n",
    "    return dffp,dftn\n",
    "    \n",
    "def getFNTP(join_tree):\n",
    "    evidence(join_tree,'ev1', 'Algorithm works correctly', 'True', 1.0)\n",
    "    df = print_probs_top_node(join_tree)\n",
    "    resetEvidence(join_tree)\n",
    "    dffn = df[df['val']=='Incorrect']['p']\n",
    "    dftp = df[df['val']=='Correct']['p']\n",
    "    return dffn,dftp"
   ]
  },
  {
   "cell_type": "code",
   "execution_count": 44,
   "id": "3d4f81c4",
   "metadata": {
    "scrolled": true
   },
   "outputs": [],
   "source": [
    "threshold_num_runs = 2 # rule\n",
    "min_exp_runs = 3\n",
    "max_exp_runs = 4\n",
    "\n",
    "total_exp_runs_list = list(range(min_exp_runs,max_exp_runs+1))\n",
    "\n",
    "p_list = list(np.linspace(0,1,11))\n",
    "proportionality_factor = list(np.linspace(0.1,1,10))\n",
    "\n",
    "row = []\n",
    "\n",
    "for total_exp_runs in total_exp_runs_list:\n",
    "    for threshold_num_runs in range(1,total_exp_runs+1):\n",
    "        for k in proportionality_factor:\n",
    "            for p in p_list:\n",
    "                r = k*p\n",
    "#                 print(\"p(successful run|algo = T):\",p)\n",
    "#                 print(\"p(successful run|algo = F):\",r,\" r = \",k,\"*\",\"p\")\n",
    "                exp_T = getBinomProb(total_exp_runs,p)\n",
    "                exp_F = getBinomProb(total_exp_runs,r)\n",
    "                exp_dict = {\"True\":exp_T,\"False\":exp_F}\n",
    "                exp_cpt = pd.DataFrame(exp_dict)\n",
    "                test_keys = []\n",
    "                test_values = []\n",
    "\n",
    "                for i in range(total_exp_runs+1):\n",
    "                    test_keys.append(str(i))\n",
    "                    if i >= threshold_num_runs:\n",
    "                        test_values.append([1,0])\n",
    "                    else:\n",
    "                        test_values.append([0,1])\n",
    "\n",
    "                test_results_dict = dict(zip(test_keys, test_values))\n",
    "                test_results_cpt = pd.DataFrame(test_results_dict) \n",
    "                test_results_cpt[\"States\"] = ['Correct','Incorrect']\n",
    "                test_results_cpt.set_index(\"States\",inplace=True)\n",
    "\n",
    "\n",
    "                # Create nodes by manually typing in probabilities\n",
    "                test_results = BbnNode(Variable(0, 'Test Results say it works properly', test_results_cpt.index.values.tolist()), np.ndarray.flatten(test_results_cpt.values.transpose()).tolist())\n",
    "                exp1 = BbnNode(Variable(1, 'Experiment 1 - Successes', test_results_cpt.columns), exp_T+exp_F)\n",
    "                algo = BbnNode(Variable(2, 'Algorithm works correctly', [\"True\",\"False\"]), [0.5,0.5])\n",
    "\n",
    "                bbn = Bbn() \\\n",
    "                    .add_node(algo) \\\n",
    "                    .add_node(exp1) \\\n",
    "                    .add_node(test_results) \\\n",
    "                    .add_edge(Edge(algo, exp1, EdgeType.DIRECTED)) \\\n",
    "                    .add_edge(Edge(exp1, test_results, EdgeType.DIRECTED))\n",
    "\n",
    "                join_tree = InferenceController.apply(bbn)\n",
    "\n",
    "                dffp,dftn = getFPTN(join_tree)\n",
    "                dffn,dftp = getFNTP(join_tree)\n",
    "                \n",
    "#                 print(\"FP : P(Test=T|Algo=F)=\",dffp.tolist())\n",
    "#                 print(\"TN : P(Test=F|Algo=F)=\",dftn.tolist())\n",
    "#                 print(\"FN : P(Test=F|Algo=T)=\",dffn.tolist())\n",
    "#                 print(\"TP : P(Test=T|Algo=T)=\",dftp.tolist())\n",
    "\n",
    "                fp = dffp.tolist()[0]\n",
    "                tn = dftn.tolist()[0]\n",
    "                fn = dffn.tolist()[0]\n",
    "                tp = dftp.tolist()[0]\n",
    "\n",
    "                data = [total_exp_runs,threshold_num_runs,p,r,fp,tn,fn,tp]\n",
    "                row.append(data)\n",
    "#                 print(\"+\"*80)\n",
    "                \n",
    "    checkdf = pd.DataFrame(row, columns = ['n_exp','threshold_exp','p','r','fp','tn','fn','tp'])\n",
    "#     display(checkdf)\n",
    "    \n",
    "df = pd.DataFrame(row, columns = ['n_exp','threshold_exp','p','r','fp','tn','fn','tp'])\n",
    "# display(df)    \n"
   ]
  },
  {
   "cell_type": "markdown",
   "id": "3b756009",
   "metadata": {},
   "source": [
    "02/28/2023\n",
    "\n",
    "# TP vs FP\n",
    "\n",
    "Plotting the `True Positive` vs `False Positive` while varying `p`,`r` and `threshold_exp`."
   ]
  },
  {
   "cell_type": "code",
   "execution_count": null,
   "id": "cf9bcf37",
   "metadata": {
    "scrolled": false
   },
   "outputs": [
    {
     "data": {
      "application/vnd.plotly.v1+json": {
       "config": {
        "plotlyServerURL": "https://plotly.com"
       },
       "data": [
        {
         "customdata": [
          [
           3,
           "1",
           0,
           0
          ],
          [
           3,
           "1",
           0.1,
           0.010000000000000002
          ],
          [
           3,
           "1",
           0.2,
           0.020000000000000004
          ],
          [
           3,
           "1",
           0.30000000000000004,
           0.030000000000000006
          ],
          [
           3,
           "1",
           0.4,
           0.04000000000000001
          ],
          [
           3,
           "1",
           0.5,
           0.05
          ],
          [
           3,
           "1",
           0.6000000000000001,
           0.06000000000000001
          ],
          [
           3,
           "1",
           0.7000000000000001,
           0.07
          ],
          [
           3,
           "1",
           0.8,
           0.08000000000000002
          ],
          [
           3,
           "1",
           0.9,
           0.09000000000000001
          ],
          [
           3,
           "1",
           1,
           0.1
          ]
         ],
         "hovertemplate": "k=0.1<br>fp=%{x}<br>tp=%{y}<br>n_exp=%{customdata[0]}<br>threshold_exp=%{customdata[1]}<br>p=%{customdata[2]}<br>r=%{customdata[3]}<extra></extra>",
         "legendgroup": "0.1",
         "line": {
          "color": "#636efa",
          "dash": "solid"
         },
         "marker": {
          "symbol": "circle"
         },
         "mode": "markers+lines",
         "name": "0.1",
         "orientation": "v",
         "showlegend": true,
         "type": "scatter",
         "x": [
          0,
          0.02970100000000002,
          0.05880800000000003,
          0.08732700000000004,
          0.115264,
          0.14262500000000006,
          0.16941600000000007,
          0.19564300000000012,
          0.2213120000000001,
          0.24642900000000006,
          0.271
         ],
         "xaxis": "x",
         "y": [
          0,
          0.271,
          0.488,
          0.6570000000000001,
          0.7840000000000001,
          0.8750000000000001,
          0.9359999999999999,
          0.973,
          0.9920000000000001,
          0.9990000000000001,
          1
         ],
         "yaxis": "y"
        },
        {
         "customdata": [
          [
           3,
           "1",
           0,
           0
          ],
          [
           3,
           "1",
           0.1,
           0.020000000000000004
          ],
          [
           3,
           "1",
           0.2,
           0.04000000000000001
          ],
          [
           3,
           "1",
           0.30000000000000004,
           0.06000000000000001
          ],
          [
           3,
           "1",
           0.4,
           0.08000000000000002
          ],
          [
           3,
           "1",
           0.5,
           0.1
          ],
          [
           3,
           "1",
           0.6000000000000001,
           0.12000000000000002
          ],
          [
           3,
           "1",
           0.7000000000000001,
           0.14
          ],
          [
           3,
           "1",
           0.8,
           0.16000000000000003
          ],
          [
           3,
           "1",
           0.9,
           0.18000000000000002
          ],
          [
           3,
           "1",
           1,
           0.2
          ]
         ],
         "hovertemplate": "k=0.2<br>fp=%{x}<br>tp=%{y}<br>n_exp=%{customdata[0]}<br>threshold_exp=%{customdata[1]}<br>p=%{customdata[2]}<br>r=%{customdata[3]}<extra></extra>",
         "legendgroup": "0.2",
         "line": {
          "color": "#EF553B",
          "dash": "solid"
         },
         "marker": {
          "symbol": "circle"
         },
         "mode": "markers+lines",
         "name": "0.2",
         "orientation": "v",
         "showlegend": true,
         "type": "scatter",
         "x": [
          0,
          0.05880800000000003,
          0.115264,
          0.16941600000000007,
          0.2213120000000001,
          0.271,
          0.3185280000000001,
          0.36394400000000016,
          0.4072960000000002,
          0.4486320000000003,
          0.488
         ],
         "xaxis": "x",
         "y": [
          0,
          0.271,
          0.488,
          0.6570000000000001,
          0.7840000000000001,
          0.8750000000000001,
          0.9359999999999999,
          0.973,
          0.9920000000000001,
          0.9990000000000001,
          1
         ],
         "yaxis": "y"
        },
        {
         "customdata": [
          [
           3,
           "1",
           0,
           0
          ],
          [
           3,
           "1",
           0.1,
           0.030000000000000006
          ],
          [
           3,
           "1",
           0.2,
           0.06000000000000001
          ],
          [
           3,
           "1",
           0.30000000000000004,
           0.09000000000000002
          ],
          [
           3,
           "1",
           0.4,
           0.12000000000000002
          ],
          [
           3,
           "1",
           0.5,
           0.15000000000000002
          ],
          [
           3,
           "1",
           0.6000000000000001,
           0.18000000000000005
          ],
          [
           3,
           "1",
           0.7000000000000001,
           0.21000000000000005
          ],
          [
           3,
           "1",
           0.8,
           0.24000000000000005
          ],
          [
           3,
           "1",
           0.9,
           0.2700000000000001
          ],
          [
           3,
           "1",
           1,
           0.30000000000000004
          ]
         ],
         "hovertemplate": "k=0.30000000000000004<br>fp=%{x}<br>tp=%{y}<br>n_exp=%{customdata[0]}<br>threshold_exp=%{customdata[1]}<br>p=%{customdata[2]}<br>r=%{customdata[3]}<extra></extra>",
         "legendgroup": "0.30000000000000004",
         "line": {
          "color": "#00cc96",
          "dash": "solid"
         },
         "marker": {
          "symbol": "circle"
         },
         "mode": "markers+lines",
         "name": "0.30000000000000004",
         "orientation": "v",
         "showlegend": true,
         "type": "scatter",
         "x": [
          0,
          0.08732700000000004,
          0.16941600000000007,
          0.24642900000000006,
          0.3185280000000001,
          0.38587500000000013,
          0.4486320000000002,
          0.5069610000000003,
          0.5610240000000001,
          0.6109830000000002,
          0.6570000000000001
         ],
         "xaxis": "x",
         "y": [
          0,
          0.271,
          0.488,
          0.6570000000000001,
          0.7840000000000001,
          0.8750000000000001,
          0.9359999999999999,
          0.973,
          0.9920000000000001,
          0.9990000000000001,
          1
         ],
         "yaxis": "y"
        },
        {
         "customdata": [
          [
           3,
           "1",
           0,
           0
          ],
          [
           3,
           "1",
           0.1,
           0.04000000000000001
          ],
          [
           3,
           "1",
           0.2,
           0.08000000000000002
          ],
          [
           3,
           "1",
           0.30000000000000004,
           0.12000000000000002
          ],
          [
           3,
           "1",
           0.4,
           0.16000000000000003
          ],
          [
           3,
           "1",
           0.5,
           0.2
          ],
          [
           3,
           "1",
           0.6000000000000001,
           0.24000000000000005
          ],
          [
           3,
           "1",
           0.7000000000000001,
           0.28
          ],
          [
           3,
           "1",
           0.8,
           0.32000000000000006
          ],
          [
           3,
           "1",
           0.9,
           0.36000000000000004
          ],
          [
           3,
           "1",
           1,
           0.4
          ]
         ],
         "hovertemplate": "k=0.4<br>fp=%{x}<br>tp=%{y}<br>n_exp=%{customdata[0]}<br>threshold_exp=%{customdata[1]}<br>p=%{customdata[2]}<br>r=%{customdata[3]}<extra></extra>",
         "legendgroup": "0.4",
         "line": {
          "color": "#ab63fa",
          "dash": "solid"
         },
         "marker": {
          "symbol": "circle"
         },
         "mode": "markers+lines",
         "name": "0.4",
         "orientation": "v",
         "showlegend": true,
         "type": "scatter",
         "x": [
          0,
          0.115264,
          0.2213120000000001,
          0.3185280000000001,
          0.4072960000000002,
          0.488,
          0.5610240000000001,
          0.6267520000000002,
          0.6855680000000001,
          0.7378560000000003,
          0.7840000000000001
         ],
         "xaxis": "x",
         "y": [
          0,
          0.271,
          0.488,
          0.6570000000000001,
          0.7840000000000001,
          0.8750000000000001,
          0.9359999999999999,
          0.973,
          0.9920000000000001,
          0.9990000000000001,
          1
         ],
         "yaxis": "y"
        },
        {
         "customdata": [
          [
           3,
           "1",
           0,
           0
          ],
          [
           3,
           "1",
           0.1,
           0.05
          ],
          [
           3,
           "1",
           0.2,
           0.1
          ],
          [
           3,
           "1",
           0.30000000000000004,
           0.15000000000000002
          ],
          [
           3,
           "1",
           0.4,
           0.2
          ],
          [
           3,
           "1",
           0.5,
           0.25
          ],
          [
           3,
           "1",
           0.6000000000000001,
           0.30000000000000004
          ],
          [
           3,
           "1",
           0.7000000000000001,
           0.35000000000000003
          ],
          [
           3,
           "1",
           0.8,
           0.4
          ],
          [
           3,
           "1",
           0.9,
           0.45
          ],
          [
           3,
           "1",
           1,
           0.5
          ]
         ],
         "hovertemplate": "k=0.5<br>fp=%{x}<br>tp=%{y}<br>n_exp=%{customdata[0]}<br>threshold_exp=%{customdata[1]}<br>p=%{customdata[2]}<br>r=%{customdata[3]}<extra></extra>",
         "legendgroup": "0.5",
         "line": {
          "color": "#FFA15A",
          "dash": "solid"
         },
         "marker": {
          "symbol": "circle"
         },
         "mode": "markers+lines",
         "name": "0.5",
         "orientation": "v",
         "showlegend": true,
         "type": "scatter",
         "x": [
          0,
          0.14262500000000006,
          0.271,
          0.38587500000000013,
          0.488,
          0.5781250000000001,
          0.6570000000000001,
          0.7253750000000002,
          0.7840000000000001,
          0.8336250000000001,
          0.8750000000000001
         ],
         "xaxis": "x",
         "y": [
          0,
          0.271,
          0.488,
          0.6570000000000001,
          0.7840000000000001,
          0.8750000000000001,
          0.9359999999999999,
          0.973,
          0.9920000000000001,
          0.9990000000000001,
          1
         ],
         "yaxis": "y"
        },
        {
         "customdata": [
          [
           3,
           "1",
           0,
           0
          ],
          [
           3,
           "1",
           0.1,
           0.06
          ],
          [
           3,
           "1",
           0.2,
           0.12
          ],
          [
           3,
           "1",
           0.30000000000000004,
           0.18000000000000002
          ],
          [
           3,
           "1",
           0.4,
           0.24
          ],
          [
           3,
           "1",
           0.5,
           0.3
          ],
          [
           3,
           "1",
           0.6000000000000001,
           0.36000000000000004
          ],
          [
           3,
           "1",
           0.7000000000000001,
           0.42000000000000004
          ],
          [
           3,
           "1",
           0.8,
           0.48
          ],
          [
           3,
           "1",
           0.9,
           0.54
          ],
          [
           3,
           "1",
           1,
           0.6
          ]
         ],
         "hovertemplate": "k=0.6<br>fp=%{x}<br>tp=%{y}<br>n_exp=%{customdata[0]}<br>threshold_exp=%{customdata[1]}<br>p=%{customdata[2]}<br>r=%{customdata[3]}<extra></extra>",
         "legendgroup": "0.6",
         "line": {
          "color": "#19d3f3",
          "dash": "solid"
         },
         "marker": {
          "symbol": "circle"
         },
         "mode": "markers+lines",
         "name": "0.6",
         "orientation": "v",
         "showlegend": true,
         "type": "scatter",
         "x": [
          0,
          0.16941600000000004,
          0.31852800000000014,
          0.4486320000000003,
          0.5610240000000001,
          0.6570000000000001,
          0.7378560000000003,
          0.8048880000000003,
          0.859392,
          0.9026640000000001,
          0.936
         ],
         "xaxis": "x",
         "y": [
          0,
          0.271,
          0.488,
          0.6570000000000001,
          0.7840000000000001,
          0.8750000000000001,
          0.9359999999999999,
          0.973,
          0.9920000000000001,
          0.9990000000000001,
          1
         ],
         "yaxis": "y"
        },
        {
         "customdata": [
          [
           3,
           "1",
           0,
           0
          ],
          [
           3,
           "1",
           0.1,
           0.07
          ],
          [
           3,
           "1",
           0.2,
           0.14
          ],
          [
           3,
           "1",
           0.30000000000000004,
           0.21000000000000005
          ],
          [
           3,
           "1",
           0.4,
           0.28
          ],
          [
           3,
           "1",
           0.5,
           0.35000000000000003
          ],
          [
           3,
           "1",
           0.6000000000000001,
           0.4200000000000001
          ],
          [
           3,
           "1",
           0.7000000000000001,
           0.4900000000000001
          ],
          [
           3,
           "1",
           0.8,
           0.56
          ],
          [
           3,
           "1",
           0.9,
           0.6300000000000001
          ],
          [
           3,
           "1",
           1,
           0.7000000000000001
          ]
         ],
         "hovertemplate": "k=0.7000000000000001<br>fp=%{x}<br>tp=%{y}<br>n_exp=%{customdata[0]}<br>threshold_exp=%{customdata[1]}<br>p=%{customdata[2]}<br>r=%{customdata[3]}<extra></extra>",
         "legendgroup": "0.7000000000000001",
         "line": {
          "color": "#FF6692",
          "dash": "solid"
         },
         "marker": {
          "symbol": "circle"
         },
         "mode": "markers+lines",
         "name": "0.7000000000000001",
         "orientation": "v",
         "showlegend": true,
         "type": "scatter",
         "x": [
          0,
          0.19564300000000012,
          0.36394400000000016,
          0.5069610000000003,
          0.6267520000000002,
          0.7253750000000002,
          0.8048880000000004,
          0.8673490000000001,
          0.9148160000000001,
          0.9493469999999999,
          0.973
         ],
         "xaxis": "x",
         "y": [
          0,
          0.271,
          0.488,
          0.6570000000000001,
          0.7840000000000001,
          0.8750000000000001,
          0.9359999999999999,
          0.973,
          0.9920000000000001,
          0.9990000000000001,
          1
         ],
         "yaxis": "y"
        },
        {
         "customdata": [
          [
           3,
           "1",
           0,
           0
          ],
          [
           3,
           "1",
           0.1,
           0.08000000000000002
          ],
          [
           3,
           "1",
           0.2,
           0.16000000000000003
          ],
          [
           3,
           "1",
           0.30000000000000004,
           0.24000000000000005
          ],
          [
           3,
           "1",
           0.4,
           0.32000000000000006
          ],
          [
           3,
           "1",
           0.5,
           0.4
          ],
          [
           3,
           "1",
           0.6000000000000001,
           0.4800000000000001
          ],
          [
           3,
           "1",
           0.7000000000000001,
           0.56
          ],
          [
           3,
           "1",
           0.8,
           0.6400000000000001
          ],
          [
           3,
           "1",
           0.9,
           0.7200000000000001
          ],
          [
           3,
           "1",
           1,
           0.8
          ]
         ],
         "hovertemplate": "k=0.8<br>fp=%{x}<br>tp=%{y}<br>n_exp=%{customdata[0]}<br>threshold_exp=%{customdata[1]}<br>p=%{customdata[2]}<br>r=%{customdata[3]}<extra></extra>",
         "legendgroup": "0.8",
         "line": {
          "color": "#B6E880",
          "dash": "solid"
         },
         "marker": {
          "symbol": "circle"
         },
         "mode": "markers+lines",
         "name": "0.8",
         "orientation": "v",
         "showlegend": true,
         "type": "scatter",
         "x": [
          0,
          0.2213120000000001,
          0.4072960000000002,
          0.5610240000000001,
          0.6855680000000001,
          0.7840000000000001,
          0.859392,
          0.9148160000000001,
          0.953344,
          0.9780479999999999,
          0.9920000000000001
         ],
         "xaxis": "x",
         "y": [
          0,
          0.271,
          0.488,
          0.6570000000000001,
          0.7840000000000001,
          0.8750000000000001,
          0.9359999999999999,
          0.973,
          0.9920000000000001,
          0.9990000000000001,
          1
         ],
         "yaxis": "y"
        },
        {
         "customdata": [
          [
           3,
           "1",
           0,
           0
          ],
          [
           3,
           "1",
           0.1,
           0.09000000000000001
          ],
          [
           3,
           "1",
           0.2,
           0.18000000000000002
          ],
          [
           3,
           "1",
           0.30000000000000004,
           0.2700000000000001
          ],
          [
           3,
           "1",
           0.4,
           0.36000000000000004
          ],
          [
           3,
           "1",
           0.5,
           0.45
          ],
          [
           3,
           "1",
           0.6000000000000001,
           0.5400000000000001
          ],
          [
           3,
           "1",
           0.7000000000000001,
           0.6300000000000001
          ],
          [
           3,
           "1",
           0.8,
           0.7200000000000001
          ],
          [
           3,
           "1",
           0.9,
           0.81
          ],
          [
           3,
           "1",
           1,
           0.9
          ]
         ],
         "hovertemplate": "k=0.9<br>fp=%{x}<br>tp=%{y}<br>n_exp=%{customdata[0]}<br>threshold_exp=%{customdata[1]}<br>p=%{customdata[2]}<br>r=%{customdata[3]}<extra></extra>",
         "legendgroup": "0.9",
         "line": {
          "color": "#FF97FF",
          "dash": "solid"
         },
         "marker": {
          "symbol": "circle"
         },
         "mode": "markers+lines",
         "name": "0.9",
         "orientation": "v",
         "showlegend": true,
         "type": "scatter",
         "x": [
          0,
          0.24642900000000006,
          0.4486320000000003,
          0.6109830000000002,
          0.7378560000000003,
          0.8336250000000001,
          0.902664,
          0.9493469999999999,
          0.9780479999999999,
          0.9931409999999999,
          0.9990000000000001
         ],
         "xaxis": "x",
         "y": [
          0,
          0.271,
          0.488,
          0.6570000000000001,
          0.7840000000000001,
          0.8750000000000001,
          0.9359999999999999,
          0.973,
          0.9920000000000001,
          0.9990000000000001,
          1
         ],
         "yaxis": "y"
        },
        {
         "customdata": [
          [
           3,
           "1",
           0,
           0
          ],
          [
           3,
           "1",
           0.1,
           0.1
          ],
          [
           3,
           "1",
           0.2,
           0.2
          ],
          [
           3,
           "1",
           0.30000000000000004,
           0.30000000000000004
          ],
          [
           3,
           "1",
           0.4,
           0.4
          ],
          [
           3,
           "1",
           0.5,
           0.5
          ],
          [
           3,
           "1",
           0.6000000000000001,
           0.6000000000000001
          ],
          [
           3,
           "1",
           0.7000000000000001,
           0.7000000000000001
          ],
          [
           3,
           "1",
           0.8,
           0.8
          ],
          [
           3,
           "1",
           0.9,
           0.9
          ],
          [
           3,
           "1",
           1,
           1
          ]
         ],
         "hovertemplate": "k=1.0<br>fp=%{x}<br>tp=%{y}<br>n_exp=%{customdata[0]}<br>threshold_exp=%{customdata[1]}<br>p=%{customdata[2]}<br>r=%{customdata[3]}<extra></extra>",
         "legendgroup": "1.0",
         "line": {
          "color": "#FECB52",
          "dash": "solid"
         },
         "marker": {
          "symbol": "circle"
         },
         "mode": "markers+lines",
         "name": "1.0",
         "orientation": "v",
         "showlegend": true,
         "type": "scatter",
         "x": [
          0,
          0.271,
          0.488,
          0.6570000000000001,
          0.7840000000000001,
          0.8750000000000001,
          0.9359999999999999,
          0.973,
          0.9920000000000001,
          0.9990000000000001,
          1
         ],
         "xaxis": "x",
         "y": [
          0,
          0.271,
          0.488,
          0.6570000000000001,
          0.7840000000000001,
          0.8750000000000001,
          0.9359999999999999,
          0.973,
          0.9920000000000001,
          0.9990000000000001,
          1
         ],
         "yaxis": "y"
        }
       ],
       "layout": {
        "legend": {
         "title": {
          "text": "k"
         },
         "tracegroupgap": 0
        },
        "margin": {
         "t": 60
        },
        "template": {
         "data": {
          "bar": [
           {
            "error_x": {
             "color": "#2a3f5f"
            },
            "error_y": {
             "color": "#2a3f5f"
            },
            "marker": {
             "line": {
              "color": "#E5ECF6",
              "width": 0.5
             },
             "pattern": {
              "fillmode": "overlay",
              "size": 10,
              "solidity": 0.2
             }
            },
            "type": "bar"
           }
          ],
          "barpolar": [
           {
            "marker": {
             "line": {
              "color": "#E5ECF6",
              "width": 0.5
             },
             "pattern": {
              "fillmode": "overlay",
              "size": 10,
              "solidity": 0.2
             }
            },
            "type": "barpolar"
           }
          ],
          "carpet": [
           {
            "aaxis": {
             "endlinecolor": "#2a3f5f",
             "gridcolor": "white",
             "linecolor": "white",
             "minorgridcolor": "white",
             "startlinecolor": "#2a3f5f"
            },
            "baxis": {
             "endlinecolor": "#2a3f5f",
             "gridcolor": "white",
             "linecolor": "white",
             "minorgridcolor": "white",
             "startlinecolor": "#2a3f5f"
            },
            "type": "carpet"
           }
          ],
          "choropleth": [
           {
            "colorbar": {
             "outlinewidth": 0,
             "ticks": ""
            },
            "type": "choropleth"
           }
          ],
          "contour": [
           {
            "colorbar": {
             "outlinewidth": 0,
             "ticks": ""
            },
            "colorscale": [
             [
              0,
              "#0d0887"
             ],
             [
              0.1111111111111111,
              "#46039f"
             ],
             [
              0.2222222222222222,
              "#7201a8"
             ],
             [
              0.3333333333333333,
              "#9c179e"
             ],
             [
              0.4444444444444444,
              "#bd3786"
             ],
             [
              0.5555555555555556,
              "#d8576b"
             ],
             [
              0.6666666666666666,
              "#ed7953"
             ],
             [
              0.7777777777777778,
              "#fb9f3a"
             ],
             [
              0.8888888888888888,
              "#fdca26"
             ],
             [
              1,
              "#f0f921"
             ]
            ],
            "type": "contour"
           }
          ],
          "contourcarpet": [
           {
            "colorbar": {
             "outlinewidth": 0,
             "ticks": ""
            },
            "type": "contourcarpet"
           }
          ],
          "heatmap": [
           {
            "colorbar": {
             "outlinewidth": 0,
             "ticks": ""
            },
            "colorscale": [
             [
              0,
              "#0d0887"
             ],
             [
              0.1111111111111111,
              "#46039f"
             ],
             [
              0.2222222222222222,
              "#7201a8"
             ],
             [
              0.3333333333333333,
              "#9c179e"
             ],
             [
              0.4444444444444444,
              "#bd3786"
             ],
             [
              0.5555555555555556,
              "#d8576b"
             ],
             [
              0.6666666666666666,
              "#ed7953"
             ],
             [
              0.7777777777777778,
              "#fb9f3a"
             ],
             [
              0.8888888888888888,
              "#fdca26"
             ],
             [
              1,
              "#f0f921"
             ]
            ],
            "type": "heatmap"
           }
          ],
          "heatmapgl": [
           {
            "colorbar": {
             "outlinewidth": 0,
             "ticks": ""
            },
            "colorscale": [
             [
              0,
              "#0d0887"
             ],
             [
              0.1111111111111111,
              "#46039f"
             ],
             [
              0.2222222222222222,
              "#7201a8"
             ],
             [
              0.3333333333333333,
              "#9c179e"
             ],
             [
              0.4444444444444444,
              "#bd3786"
             ],
             [
              0.5555555555555556,
              "#d8576b"
             ],
             [
              0.6666666666666666,
              "#ed7953"
             ],
             [
              0.7777777777777778,
              "#fb9f3a"
             ],
             [
              0.8888888888888888,
              "#fdca26"
             ],
             [
              1,
              "#f0f921"
             ]
            ],
            "type": "heatmapgl"
           }
          ],
          "histogram": [
           {
            "marker": {
             "pattern": {
              "fillmode": "overlay",
              "size": 10,
              "solidity": 0.2
             }
            },
            "type": "histogram"
           }
          ],
          "histogram2d": [
           {
            "colorbar": {
             "outlinewidth": 0,
             "ticks": ""
            },
            "colorscale": [
             [
              0,
              "#0d0887"
             ],
             [
              0.1111111111111111,
              "#46039f"
             ],
             [
              0.2222222222222222,
              "#7201a8"
             ],
             [
              0.3333333333333333,
              "#9c179e"
             ],
             [
              0.4444444444444444,
              "#bd3786"
             ],
             [
              0.5555555555555556,
              "#d8576b"
             ],
             [
              0.6666666666666666,
              "#ed7953"
             ],
             [
              0.7777777777777778,
              "#fb9f3a"
             ],
             [
              0.8888888888888888,
              "#fdca26"
             ],
             [
              1,
              "#f0f921"
             ]
            ],
            "type": "histogram2d"
           }
          ],
          "histogram2dcontour": [
           {
            "colorbar": {
             "outlinewidth": 0,
             "ticks": ""
            },
            "colorscale": [
             [
              0,
              "#0d0887"
             ],
             [
              0.1111111111111111,
              "#46039f"
             ],
             [
              0.2222222222222222,
              "#7201a8"
             ],
             [
              0.3333333333333333,
              "#9c179e"
             ],
             [
              0.4444444444444444,
              "#bd3786"
             ],
             [
              0.5555555555555556,
              "#d8576b"
             ],
             [
              0.6666666666666666,
              "#ed7953"
             ],
             [
              0.7777777777777778,
              "#fb9f3a"
             ],
             [
              0.8888888888888888,
              "#fdca26"
             ],
             [
              1,
              "#f0f921"
             ]
            ],
            "type": "histogram2dcontour"
           }
          ],
          "mesh3d": [
           {
            "colorbar": {
             "outlinewidth": 0,
             "ticks": ""
            },
            "type": "mesh3d"
           }
          ],
          "parcoords": [
           {
            "line": {
             "colorbar": {
              "outlinewidth": 0,
              "ticks": ""
             }
            },
            "type": "parcoords"
           }
          ],
          "pie": [
           {
            "automargin": true,
            "type": "pie"
           }
          ],
          "scatter": [
           {
            "fillpattern": {
             "fillmode": "overlay",
             "size": 10,
             "solidity": 0.2
            },
            "type": "scatter"
           }
          ],
          "scatter3d": [
           {
            "line": {
             "colorbar": {
              "outlinewidth": 0,
              "ticks": ""
             }
            },
            "marker": {
             "colorbar": {
              "outlinewidth": 0,
              "ticks": ""
             }
            },
            "type": "scatter3d"
           }
          ],
          "scattercarpet": [
           {
            "marker": {
             "colorbar": {
              "outlinewidth": 0,
              "ticks": ""
             }
            },
            "type": "scattercarpet"
           }
          ],
          "scattergeo": [
           {
            "marker": {
             "colorbar": {
              "outlinewidth": 0,
              "ticks": ""
             }
            },
            "type": "scattergeo"
           }
          ],
          "scattergl": [
           {
            "marker": {
             "colorbar": {
              "outlinewidth": 0,
              "ticks": ""
             }
            },
            "type": "scattergl"
           }
          ],
          "scattermapbox": [
           {
            "marker": {
             "colorbar": {
              "outlinewidth": 0,
              "ticks": ""
             }
            },
            "type": "scattermapbox"
           }
          ],
          "scatterpolar": [
           {
            "marker": {
             "colorbar": {
              "outlinewidth": 0,
              "ticks": ""
             }
            },
            "type": "scatterpolar"
           }
          ],
          "scatterpolargl": [
           {
            "marker": {
             "colorbar": {
              "outlinewidth": 0,
              "ticks": ""
             }
            },
            "type": "scatterpolargl"
           }
          ],
          "scatterternary": [
           {
            "marker": {
             "colorbar": {
              "outlinewidth": 0,
              "ticks": ""
             }
            },
            "type": "scatterternary"
           }
          ],
          "surface": [
           {
            "colorbar": {
             "outlinewidth": 0,
             "ticks": ""
            },
            "colorscale": [
             [
              0,
              "#0d0887"
             ],
             [
              0.1111111111111111,
              "#46039f"
             ],
             [
              0.2222222222222222,
              "#7201a8"
             ],
             [
              0.3333333333333333,
              "#9c179e"
             ],
             [
              0.4444444444444444,
              "#bd3786"
             ],
             [
              0.5555555555555556,
              "#d8576b"
             ],
             [
              0.6666666666666666,
              "#ed7953"
             ],
             [
              0.7777777777777778,
              "#fb9f3a"
             ],
             [
              0.8888888888888888,
              "#fdca26"
             ],
             [
              1,
              "#f0f921"
             ]
            ],
            "type": "surface"
           }
          ],
          "table": [
           {
            "cells": {
             "fill": {
              "color": "#EBF0F8"
             },
             "line": {
              "color": "white"
             }
            },
            "header": {
             "fill": {
              "color": "#C8D4E3"
             },
             "line": {
              "color": "white"
             }
            },
            "type": "table"
           }
          ]
         },
         "layout": {
          "annotationdefaults": {
           "arrowcolor": "#2a3f5f",
           "arrowhead": 0,
           "arrowwidth": 1
          },
          "autotypenumbers": "strict",
          "coloraxis": {
           "colorbar": {
            "outlinewidth": 0,
            "ticks": ""
           }
          },
          "colorscale": {
           "diverging": [
            [
             0,
             "#8e0152"
            ],
            [
             0.1,
             "#c51b7d"
            ],
            [
             0.2,
             "#de77ae"
            ],
            [
             0.3,
             "#f1b6da"
            ],
            [
             0.4,
             "#fde0ef"
            ],
            [
             0.5,
             "#f7f7f7"
            ],
            [
             0.6,
             "#e6f5d0"
            ],
            [
             0.7,
             "#b8e186"
            ],
            [
             0.8,
             "#7fbc41"
            ],
            [
             0.9,
             "#4d9221"
            ],
            [
             1,
             "#276419"
            ]
           ],
           "sequential": [
            [
             0,
             "#0d0887"
            ],
            [
             0.1111111111111111,
             "#46039f"
            ],
            [
             0.2222222222222222,
             "#7201a8"
            ],
            [
             0.3333333333333333,
             "#9c179e"
            ],
            [
             0.4444444444444444,
             "#bd3786"
            ],
            [
             0.5555555555555556,
             "#d8576b"
            ],
            [
             0.6666666666666666,
             "#ed7953"
            ],
            [
             0.7777777777777778,
             "#fb9f3a"
            ],
            [
             0.8888888888888888,
             "#fdca26"
            ],
            [
             1,
             "#f0f921"
            ]
           ],
           "sequentialminus": [
            [
             0,
             "#0d0887"
            ],
            [
             0.1111111111111111,
             "#46039f"
            ],
            [
             0.2222222222222222,
             "#7201a8"
            ],
            [
             0.3333333333333333,
             "#9c179e"
            ],
            [
             0.4444444444444444,
             "#bd3786"
            ],
            [
             0.5555555555555556,
             "#d8576b"
            ],
            [
             0.6666666666666666,
             "#ed7953"
            ],
            [
             0.7777777777777778,
             "#fb9f3a"
            ],
            [
             0.8888888888888888,
             "#fdca26"
            ],
            [
             1,
             "#f0f921"
            ]
           ]
          },
          "colorway": [
           "#636efa",
           "#EF553B",
           "#00cc96",
           "#ab63fa",
           "#FFA15A",
           "#19d3f3",
           "#FF6692",
           "#B6E880",
           "#FF97FF",
           "#FECB52"
          ],
          "font": {
           "color": "#2a3f5f"
          },
          "geo": {
           "bgcolor": "white",
           "lakecolor": "white",
           "landcolor": "#E5ECF6",
           "showlakes": true,
           "showland": true,
           "subunitcolor": "white"
          },
          "hoverlabel": {
           "align": "left"
          },
          "hovermode": "closest",
          "mapbox": {
           "style": "light"
          },
          "paper_bgcolor": "white",
          "plot_bgcolor": "#E5ECF6",
          "polar": {
           "angularaxis": {
            "gridcolor": "white",
            "linecolor": "white",
            "ticks": ""
           },
           "bgcolor": "#E5ECF6",
           "radialaxis": {
            "gridcolor": "white",
            "linecolor": "white",
            "ticks": ""
           }
          },
          "scene": {
           "xaxis": {
            "backgroundcolor": "#E5ECF6",
            "gridcolor": "white",
            "gridwidth": 2,
            "linecolor": "white",
            "showbackground": true,
            "ticks": "",
            "zerolinecolor": "white"
           },
           "yaxis": {
            "backgroundcolor": "#E5ECF6",
            "gridcolor": "white",
            "gridwidth": 2,
            "linecolor": "white",
            "showbackground": true,
            "ticks": "",
            "zerolinecolor": "white"
           },
           "zaxis": {
            "backgroundcolor": "#E5ECF6",
            "gridcolor": "white",
            "gridwidth": 2,
            "linecolor": "white",
            "showbackground": true,
            "ticks": "",
            "zerolinecolor": "white"
           }
          },
          "shapedefaults": {
           "line": {
            "color": "#2a3f5f"
           }
          },
          "ternary": {
           "aaxis": {
            "gridcolor": "white",
            "linecolor": "white",
            "ticks": ""
           },
           "baxis": {
            "gridcolor": "white",
            "linecolor": "white",
            "ticks": ""
           },
           "bgcolor": "#E5ECF6",
           "caxis": {
            "gridcolor": "white",
            "linecolor": "white",
            "ticks": ""
           }
          },
          "title": {
           "x": 0.05
          },
          "xaxis": {
           "automargin": true,
           "gridcolor": "white",
           "linecolor": "white",
           "ticks": "",
           "title": {
            "standoff": 15
           },
           "zerolinecolor": "white",
           "zerolinewidth": 2
          },
          "yaxis": {
           "automargin": true,
           "gridcolor": "white",
           "linecolor": "white",
           "ticks": "",
           "title": {
            "standoff": 15
           },
           "zerolinecolor": "white",
           "zerolinewidth": 2
          }
         }
        },
        "title": {
         "text": "{Number of experiments:3}{Threshold Runs:1}"
        },
        "xaxis": {
         "anchor": "y",
         "domain": [
          0,
          1
         ],
         "title": {
          "text": "fp"
         }
        },
        "yaxis": {
         "anchor": "x",
         "domain": [
          0,
          1
         ],
         "title": {
          "text": "tp"
         }
        }
       }
      }
     },
     "metadata": {},
     "output_type": "display_data"
    },
    {
     "data": {
      "application/vnd.plotly.v1+json": {
       "config": {
        "plotlyServerURL": "https://plotly.com"
       },
       "data": [
        {
         "customdata": [
          [
           3,
           "2",
           0,
           0
          ],
          [
           3,
           "2",
           0.1,
           0.010000000000000002
          ],
          [
           3,
           "2",
           0.2,
           0.020000000000000004
          ],
          [
           3,
           "2",
           0.30000000000000004,
           0.030000000000000006
          ],
          [
           3,
           "2",
           0.4,
           0.04000000000000001
          ],
          [
           3,
           "2",
           0.5,
           0.05
          ],
          [
           3,
           "2",
           0.6000000000000001,
           0.06000000000000001
          ],
          [
           3,
           "2",
           0.7000000000000001,
           0.07
          ],
          [
           3,
           "2",
           0.8,
           0.08000000000000002
          ],
          [
           3,
           "2",
           0.9,
           0.09000000000000001
          ],
          [
           3,
           "2",
           1,
           0.1
          ]
         ],
         "hovertemplate": "k=0.1<br>fp=%{x}<br>tp=%{y}<br>n_exp=%{customdata[0]}<br>threshold_exp=%{customdata[1]}<br>p=%{customdata[2]}<br>r=%{customdata[3]}<extra></extra>",
         "legendgroup": "0.1",
         "line": {
          "color": "#636efa",
          "dash": "solid"
         },
         "marker": {
          "symbol": "circle"
         },
         "mode": "markers+lines",
         "name": "0.1",
         "orientation": "v",
         "showlegend": true,
         "type": "scatter",
         "x": [
          0,
          0.0002980000000000002,
          0.0011840000000000012,
          0.0026460000000000016,
          0.004672000000000005,
          0.007250000000000003,
          0.010368000000000006,
          0.014014000000000009,
          0.018176000000000015,
          0.022842000000000015,
          0.028000000000000004
         ],
         "xaxis": "x",
         "y": [
          0,
          0.028000000000000004,
          0.10400000000000002,
          0.21600000000000008,
          0.35200000000000004,
          0.5,
          0.6479999999999999,
          0.7840000000000001,
          0.8959999999999998,
          0.972,
          1
         ],
         "yaxis": "y"
        },
        {
         "customdata": [
          [
           3,
           "2",
           0,
           0
          ],
          [
           3,
           "2",
           0.1,
           0.020000000000000004
          ],
          [
           3,
           "2",
           0.2,
           0.04000000000000001
          ],
          [
           3,
           "2",
           0.30000000000000004,
           0.06000000000000001
          ],
          [
           3,
           "2",
           0.4,
           0.08000000000000002
          ],
          [
           3,
           "2",
           0.5,
           0.1
          ],
          [
           3,
           "2",
           0.6000000000000001,
           0.12000000000000002
          ],
          [
           3,
           "2",
           0.7000000000000001,
           0.14
          ],
          [
           3,
           "2",
           0.8,
           0.16000000000000003
          ],
          [
           3,
           "2",
           0.9,
           0.18000000000000002
          ],
          [
           3,
           "2",
           1,
           0.2
          ]
         ],
         "hovertemplate": "k=0.2<br>fp=%{x}<br>tp=%{y}<br>n_exp=%{customdata[0]}<br>threshold_exp=%{customdata[1]}<br>p=%{customdata[2]}<br>r=%{customdata[3]}<extra></extra>",
         "legendgroup": "0.2",
         "line": {
          "color": "#EF553B",
          "dash": "solid"
         },
         "marker": {
          "symbol": "circle"
         },
         "mode": "markers+lines",
         "name": "0.2",
         "orientation": "v",
         "showlegend": true,
         "type": "scatter",
         "x": [
          0,
          0.0011840000000000012,
          0.004672000000000005,
          0.010368000000000006,
          0.018176000000000015,
          0.028000000000000004,
          0.039744000000000015,
          0.05331200000000002,
          0.06860800000000003,
          0.08553600000000006,
          0.10400000000000002
         ],
         "xaxis": "x",
         "y": [
          0,
          0.028000000000000004,
          0.10400000000000002,
          0.21600000000000008,
          0.35200000000000004,
          0.5,
          0.6479999999999999,
          0.7840000000000001,
          0.8959999999999998,
          0.972,
          1
         ],
         "yaxis": "y"
        },
        {
         "customdata": [
          [
           3,
           "2",
           0,
           0
          ],
          [
           3,
           "2",
           0.1,
           0.030000000000000006
          ],
          [
           3,
           "2",
           0.2,
           0.06000000000000001
          ],
          [
           3,
           "2",
           0.30000000000000004,
           0.09000000000000002
          ],
          [
           3,
           "2",
           0.4,
           0.12000000000000002
          ],
          [
           3,
           "2",
           0.5,
           0.15000000000000002
          ],
          [
           3,
           "2",
           0.6000000000000001,
           0.18000000000000005
          ],
          [
           3,
           "2",
           0.7000000000000001,
           0.21000000000000005
          ],
          [
           3,
           "2",
           0.8,
           0.24000000000000005
          ],
          [
           3,
           "2",
           0.9,
           0.2700000000000001
          ],
          [
           3,
           "2",
           1,
           0.30000000000000004
          ]
         ],
         "hovertemplate": "k=0.30000000000000004<br>fp=%{x}<br>tp=%{y}<br>n_exp=%{customdata[0]}<br>threshold_exp=%{customdata[1]}<br>p=%{customdata[2]}<br>r=%{customdata[3]}<extra></extra>",
         "legendgroup": "0.30000000000000004",
         "line": {
          "color": "#00cc96",
          "dash": "solid"
         },
         "marker": {
          "symbol": "circle"
         },
         "mode": "markers+lines",
         "name": "0.30000000000000004",
         "orientation": "v",
         "showlegend": true,
         "type": "scatter",
         "x": [
          0,
          0.0026460000000000016,
          0.010368000000000006,
          0.022842000000000022,
          0.039744000000000015,
          0.060750000000000005,
          0.08553600000000006,
          0.1137780000000001,
          0.14515200000000006,
          0.17933400000000002,
          0.21600000000000008
         ],
         "xaxis": "x",
         "y": [
          0,
          0.028000000000000004,
          0.10400000000000002,
          0.21600000000000008,
          0.35200000000000004,
          0.5,
          0.6479999999999999,
          0.7840000000000001,
          0.8959999999999998,
          0.972,
          1
         ],
         "yaxis": "y"
        },
        {
         "customdata": [
          [
           3,
           "2",
           0,
           0
          ],
          [
           3,
           "2",
           0.1,
           0.04000000000000001
          ],
          [
           3,
           "2",
           0.2,
           0.08000000000000002
          ],
          [
           3,
           "2",
           0.30000000000000004,
           0.12000000000000002
          ],
          [
           3,
           "2",
           0.4,
           0.16000000000000003
          ],
          [
           3,
           "2",
           0.5,
           0.2
          ],
          [
           3,
           "2",
           0.6000000000000001,
           0.24000000000000005
          ],
          [
           3,
           "2",
           0.7000000000000001,
           0.28
          ],
          [
           3,
           "2",
           0.8,
           0.32000000000000006
          ],
          [
           3,
           "2",
           0.9,
           0.36000000000000004
          ],
          [
           3,
           "2",
           1,
           0.4
          ]
         ],
         "hovertemplate": "k=0.4<br>fp=%{x}<br>tp=%{y}<br>n_exp=%{customdata[0]}<br>threshold_exp=%{customdata[1]}<br>p=%{customdata[2]}<br>r=%{customdata[3]}<extra></extra>",
         "legendgroup": "0.4",
         "line": {
          "color": "#ab63fa",
          "dash": "solid"
         },
         "marker": {
          "symbol": "circle"
         },
         "mode": "markers+lines",
         "name": "0.4",
         "orientation": "v",
         "showlegend": true,
         "type": "scatter",
         "x": [
          0,
          0.004672000000000005,
          0.018176000000000015,
          0.039744000000000015,
          0.06860800000000003,
          0.10400000000000002,
          0.14515200000000006,
          0.19129600000000008,
          0.24166400000000016,
          0.29548800000000014,
          0.35200000000000004
         ],
         "xaxis": "x",
         "y": [
          0,
          0.028000000000000004,
          0.10400000000000002,
          0.21600000000000008,
          0.35200000000000004,
          0.5,
          0.6479999999999999,
          0.7840000000000001,
          0.8959999999999998,
          0.972,
          1
         ],
         "yaxis": "y"
        },
        {
         "customdata": [
          [
           3,
           "2",
           0,
           0
          ],
          [
           3,
           "2",
           0.1,
           0.05
          ],
          [
           3,
           "2",
           0.2,
           0.1
          ],
          [
           3,
           "2",
           0.30000000000000004,
           0.15000000000000002
          ],
          [
           3,
           "2",
           0.4,
           0.2
          ],
          [
           3,
           "2",
           0.5,
           0.25
          ],
          [
           3,
           "2",
           0.6000000000000001,
           0.30000000000000004
          ],
          [
           3,
           "2",
           0.7000000000000001,
           0.35000000000000003
          ],
          [
           3,
           "2",
           0.8,
           0.4
          ],
          [
           3,
           "2",
           0.9,
           0.45
          ],
          [
           3,
           "2",
           1,
           0.5
          ]
         ],
         "hovertemplate": "k=0.5<br>fp=%{x}<br>tp=%{y}<br>n_exp=%{customdata[0]}<br>threshold_exp=%{customdata[1]}<br>p=%{customdata[2]}<br>r=%{customdata[3]}<extra></extra>",
         "legendgroup": "0.5",
         "line": {
          "color": "#FFA15A",
          "dash": "solid"
         },
         "marker": {
          "symbol": "circle"
         },
         "mode": "markers+lines",
         "name": "0.5",
         "orientation": "v",
         "showlegend": true,
         "type": "scatter",
         "x": [
          0,
          0.007250000000000003,
          0.028000000000000004,
          0.060750000000000005,
          0.10400000000000002,
          0.15625,
          0.21600000000000008,
          0.2817500000000001,
          0.35200000000000004,
          0.4252500000000001,
          0.5
         ],
         "xaxis": "x",
         "y": [
          0,
          0.028000000000000004,
          0.10400000000000002,
          0.21600000000000008,
          0.35200000000000004,
          0.5,
          0.6479999999999999,
          0.7840000000000001,
          0.8959999999999998,
          0.972,
          1
         ],
         "yaxis": "y"
        },
        {
         "customdata": [
          [
           3,
           "2",
           0,
           0
          ],
          [
           3,
           "2",
           0.1,
           0.06
          ],
          [
           3,
           "2",
           0.2,
           0.12
          ],
          [
           3,
           "2",
           0.30000000000000004,
           0.18000000000000002
          ],
          [
           3,
           "2",
           0.4,
           0.24
          ],
          [
           3,
           "2",
           0.5,
           0.3
          ],
          [
           3,
           "2",
           0.6000000000000001,
           0.36000000000000004
          ],
          [
           3,
           "2",
           0.7000000000000001,
           0.42000000000000004
          ],
          [
           3,
           "2",
           0.8,
           0.48
          ],
          [
           3,
           "2",
           0.9,
           0.54
          ],
          [
           3,
           "2",
           1,
           0.6
          ]
         ],
         "hovertemplate": "k=0.6<br>fp=%{x}<br>tp=%{y}<br>n_exp=%{customdata[0]}<br>threshold_exp=%{customdata[1]}<br>p=%{customdata[2]}<br>r=%{customdata[3]}<extra></extra>",
         "legendgroup": "0.6",
         "line": {
          "color": "#19d3f3",
          "dash": "solid"
         },
         "marker": {
          "symbol": "circle"
         },
         "mode": "markers+lines",
         "name": "0.6",
         "orientation": "v",
         "showlegend": true,
         "type": "scatter",
         "x": [
          0,
          0.010368000000000004,
          0.039744,
          0.08553600000000006,
          0.145152,
          0.216,
          0.29548800000000014,
          0.3810240000000001,
          0.470016,
          0.559872,
          0.6479999999999999
         ],
         "xaxis": "x",
         "y": [
          0,
          0.028000000000000004,
          0.10400000000000002,
          0.21600000000000008,
          0.35200000000000004,
          0.5,
          0.6479999999999999,
          0.7840000000000001,
          0.8959999999999998,
          0.972,
          1
         ],
         "yaxis": "y"
        },
        {
         "customdata": [
          [
           3,
           "2",
           0,
           0
          ],
          [
           3,
           "2",
           0.1,
           0.07
          ],
          [
           3,
           "2",
           0.2,
           0.14
          ],
          [
           3,
           "2",
           0.30000000000000004,
           0.21000000000000005
          ],
          [
           3,
           "2",
           0.4,
           0.28
          ],
          [
           3,
           "2",
           0.5,
           0.35000000000000003
          ],
          [
           3,
           "2",
           0.6000000000000001,
           0.4200000000000001
          ],
          [
           3,
           "2",
           0.7000000000000001,
           0.4900000000000001
          ],
          [
           3,
           "2",
           0.8,
           0.56
          ],
          [
           3,
           "2",
           0.9,
           0.6300000000000001
          ],
          [
           3,
           "2",
           1,
           0.7000000000000001
          ]
         ],
         "hovertemplate": "k=0.7000000000000001<br>fp=%{x}<br>tp=%{y}<br>n_exp=%{customdata[0]}<br>threshold_exp=%{customdata[1]}<br>p=%{customdata[2]}<br>r=%{customdata[3]}<extra></extra>",
         "legendgroup": "0.7000000000000001",
         "line": {
          "color": "#FF6692",
          "dash": "solid"
         },
         "marker": {
          "symbol": "circle"
         },
         "mode": "markers+lines",
         "name": "0.7000000000000001",
         "orientation": "v",
         "showlegend": true,
         "type": "scatter",
         "x": [
          0,
          0.014014000000000009,
          0.05331200000000002,
          0.1137780000000001,
          0.19129600000000008,
          0.2817500000000001,
          0.38102400000000014,
          0.48500200000000016,
          0.5895680000000001,
          0.6906060000000002,
          0.7840000000000001
         ],
         "xaxis": "x",
         "y": [
          0,
          0.028000000000000004,
          0.10400000000000002,
          0.21600000000000008,
          0.35200000000000004,
          0.5,
          0.6479999999999999,
          0.7840000000000001,
          0.8959999999999998,
          0.972,
          1
         ],
         "yaxis": "y"
        },
        {
         "customdata": [
          [
           3,
           "2",
           0,
           0
          ],
          [
           3,
           "2",
           0.1,
           0.08000000000000002
          ],
          [
           3,
           "2",
           0.2,
           0.16000000000000003
          ],
          [
           3,
           "2",
           0.30000000000000004,
           0.24000000000000005
          ],
          [
           3,
           "2",
           0.4,
           0.32000000000000006
          ],
          [
           3,
           "2",
           0.5,
           0.4
          ],
          [
           3,
           "2",
           0.6000000000000001,
           0.4800000000000001
          ],
          [
           3,
           "2",
           0.7000000000000001,
           0.56
          ],
          [
           3,
           "2",
           0.8,
           0.6400000000000001
          ],
          [
           3,
           "2",
           0.9,
           0.7200000000000001
          ],
          [
           3,
           "2",
           1,
           0.8
          ]
         ],
         "hovertemplate": "k=0.8<br>fp=%{x}<br>tp=%{y}<br>n_exp=%{customdata[0]}<br>threshold_exp=%{customdata[1]}<br>p=%{customdata[2]}<br>r=%{customdata[3]}<extra></extra>",
         "legendgroup": "0.8",
         "line": {
          "color": "#B6E880",
          "dash": "solid"
         },
         "marker": {
          "symbol": "circle"
         },
         "mode": "markers+lines",
         "name": "0.8",
         "orientation": "v",
         "showlegend": true,
         "type": "scatter",
         "x": [
          0,
          0.018176000000000015,
          0.06860800000000003,
          0.14515200000000006,
          0.24166400000000016,
          0.35200000000000004,
          0.47001600000000016,
          0.5895680000000001,
          0.7045120000000002,
          0.8087040000000001,
          0.8959999999999998
         ],
         "xaxis": "x",
         "y": [
          0,
          0.028000000000000004,
          0.10400000000000002,
          0.21600000000000008,
          0.35200000000000004,
          0.5,
          0.6479999999999999,
          0.7840000000000001,
          0.8959999999999998,
          0.972,
          1
         ],
         "yaxis": "y"
        },
        {
         "customdata": [
          [
           3,
           "2",
           0,
           0
          ],
          [
           3,
           "2",
           0.1,
           0.09000000000000001
          ],
          [
           3,
           "2",
           0.2,
           0.18000000000000002
          ],
          [
           3,
           "2",
           0.30000000000000004,
           0.2700000000000001
          ],
          [
           3,
           "2",
           0.4,
           0.36000000000000004
          ],
          [
           3,
           "2",
           0.5,
           0.45
          ],
          [
           3,
           "2",
           0.6000000000000001,
           0.5400000000000001
          ],
          [
           3,
           "2",
           0.7000000000000001,
           0.6300000000000001
          ],
          [
           3,
           "2",
           0.8,
           0.7200000000000001
          ],
          [
           3,
           "2",
           0.9,
           0.81
          ],
          [
           3,
           "2",
           1,
           0.9
          ]
         ],
         "hovertemplate": "k=0.9<br>fp=%{x}<br>tp=%{y}<br>n_exp=%{customdata[0]}<br>threshold_exp=%{customdata[1]}<br>p=%{customdata[2]}<br>r=%{customdata[3]}<extra></extra>",
         "legendgroup": "0.9",
         "line": {
          "color": "#FF97FF",
          "dash": "solid"
         },
         "marker": {
          "symbol": "circle"
         },
         "mode": "markers+lines",
         "name": "0.9",
         "orientation": "v",
         "showlegend": true,
         "type": "scatter",
         "x": [
          0,
          0.022842000000000015,
          0.08553600000000006,
          0.17933400000000002,
          0.29548800000000014,
          0.4252500000000001,
          0.5598720000000001,
          0.6906060000000002,
          0.8087040000000001,
          0.9054180000000001,
          0.972
         ],
         "xaxis": "x",
         "y": [
          0,
          0.028000000000000004,
          0.10400000000000002,
          0.21600000000000008,
          0.35200000000000004,
          0.5,
          0.6479999999999999,
          0.7840000000000001,
          0.8959999999999998,
          0.972,
          1
         ],
         "yaxis": "y"
        },
        {
         "customdata": [
          [
           3,
           "2",
           0,
           0
          ],
          [
           3,
           "2",
           0.1,
           0.1
          ],
          [
           3,
           "2",
           0.2,
           0.2
          ],
          [
           3,
           "2",
           0.30000000000000004,
           0.30000000000000004
          ],
          [
           3,
           "2",
           0.4,
           0.4
          ],
          [
           3,
           "2",
           0.5,
           0.5
          ],
          [
           3,
           "2",
           0.6000000000000001,
           0.6000000000000001
          ],
          [
           3,
           "2",
           0.7000000000000001,
           0.7000000000000001
          ],
          [
           3,
           "2",
           0.8,
           0.8
          ],
          [
           3,
           "2",
           0.9,
           0.9
          ],
          [
           3,
           "2",
           1,
           1
          ]
         ],
         "hovertemplate": "k=1.0<br>fp=%{x}<br>tp=%{y}<br>n_exp=%{customdata[0]}<br>threshold_exp=%{customdata[1]}<br>p=%{customdata[2]}<br>r=%{customdata[3]}<extra></extra>",
         "legendgroup": "1.0",
         "line": {
          "color": "#FECB52",
          "dash": "solid"
         },
         "marker": {
          "symbol": "circle"
         },
         "mode": "markers+lines",
         "name": "1.0",
         "orientation": "v",
         "showlegend": true,
         "type": "scatter",
         "x": [
          0,
          0.028000000000000004,
          0.10400000000000002,
          0.21600000000000008,
          0.35200000000000004,
          0.5,
          0.6479999999999999,
          0.7840000000000001,
          0.8959999999999998,
          0.972,
          1
         ],
         "xaxis": "x",
         "y": [
          0,
          0.028000000000000004,
          0.10400000000000002,
          0.21600000000000008,
          0.35200000000000004,
          0.5,
          0.6479999999999999,
          0.7840000000000001,
          0.8959999999999998,
          0.972,
          1
         ],
         "yaxis": "y"
        }
       ],
       "layout": {
        "legend": {
         "title": {
          "text": "k"
         },
         "tracegroupgap": 0
        },
        "margin": {
         "t": 60
        },
        "template": {
         "data": {
          "bar": [
           {
            "error_x": {
             "color": "#2a3f5f"
            },
            "error_y": {
             "color": "#2a3f5f"
            },
            "marker": {
             "line": {
              "color": "#E5ECF6",
              "width": 0.5
             },
             "pattern": {
              "fillmode": "overlay",
              "size": 10,
              "solidity": 0.2
             }
            },
            "type": "bar"
           }
          ],
          "barpolar": [
           {
            "marker": {
             "line": {
              "color": "#E5ECF6",
              "width": 0.5
             },
             "pattern": {
              "fillmode": "overlay",
              "size": 10,
              "solidity": 0.2
             }
            },
            "type": "barpolar"
           }
          ],
          "carpet": [
           {
            "aaxis": {
             "endlinecolor": "#2a3f5f",
             "gridcolor": "white",
             "linecolor": "white",
             "minorgridcolor": "white",
             "startlinecolor": "#2a3f5f"
            },
            "baxis": {
             "endlinecolor": "#2a3f5f",
             "gridcolor": "white",
             "linecolor": "white",
             "minorgridcolor": "white",
             "startlinecolor": "#2a3f5f"
            },
            "type": "carpet"
           }
          ],
          "choropleth": [
           {
            "colorbar": {
             "outlinewidth": 0,
             "ticks": ""
            },
            "type": "choropleth"
           }
          ],
          "contour": [
           {
            "colorbar": {
             "outlinewidth": 0,
             "ticks": ""
            },
            "colorscale": [
             [
              0,
              "#0d0887"
             ],
             [
              0.1111111111111111,
              "#46039f"
             ],
             [
              0.2222222222222222,
              "#7201a8"
             ],
             [
              0.3333333333333333,
              "#9c179e"
             ],
             [
              0.4444444444444444,
              "#bd3786"
             ],
             [
              0.5555555555555556,
              "#d8576b"
             ],
             [
              0.6666666666666666,
              "#ed7953"
             ],
             [
              0.7777777777777778,
              "#fb9f3a"
             ],
             [
              0.8888888888888888,
              "#fdca26"
             ],
             [
              1,
              "#f0f921"
             ]
            ],
            "type": "contour"
           }
          ],
          "contourcarpet": [
           {
            "colorbar": {
             "outlinewidth": 0,
             "ticks": ""
            },
            "type": "contourcarpet"
           }
          ],
          "heatmap": [
           {
            "colorbar": {
             "outlinewidth": 0,
             "ticks": ""
            },
            "colorscale": [
             [
              0,
              "#0d0887"
             ],
             [
              0.1111111111111111,
              "#46039f"
             ],
             [
              0.2222222222222222,
              "#7201a8"
             ],
             [
              0.3333333333333333,
              "#9c179e"
             ],
             [
              0.4444444444444444,
              "#bd3786"
             ],
             [
              0.5555555555555556,
              "#d8576b"
             ],
             [
              0.6666666666666666,
              "#ed7953"
             ],
             [
              0.7777777777777778,
              "#fb9f3a"
             ],
             [
              0.8888888888888888,
              "#fdca26"
             ],
             [
              1,
              "#f0f921"
             ]
            ],
            "type": "heatmap"
           }
          ],
          "heatmapgl": [
           {
            "colorbar": {
             "outlinewidth": 0,
             "ticks": ""
            },
            "colorscale": [
             [
              0,
              "#0d0887"
             ],
             [
              0.1111111111111111,
              "#46039f"
             ],
             [
              0.2222222222222222,
              "#7201a8"
             ],
             [
              0.3333333333333333,
              "#9c179e"
             ],
             [
              0.4444444444444444,
              "#bd3786"
             ],
             [
              0.5555555555555556,
              "#d8576b"
             ],
             [
              0.6666666666666666,
              "#ed7953"
             ],
             [
              0.7777777777777778,
              "#fb9f3a"
             ],
             [
              0.8888888888888888,
              "#fdca26"
             ],
             [
              1,
              "#f0f921"
             ]
            ],
            "type": "heatmapgl"
           }
          ],
          "histogram": [
           {
            "marker": {
             "pattern": {
              "fillmode": "overlay",
              "size": 10,
              "solidity": 0.2
             }
            },
            "type": "histogram"
           }
          ],
          "histogram2d": [
           {
            "colorbar": {
             "outlinewidth": 0,
             "ticks": ""
            },
            "colorscale": [
             [
              0,
              "#0d0887"
             ],
             [
              0.1111111111111111,
              "#46039f"
             ],
             [
              0.2222222222222222,
              "#7201a8"
             ],
             [
              0.3333333333333333,
              "#9c179e"
             ],
             [
              0.4444444444444444,
              "#bd3786"
             ],
             [
              0.5555555555555556,
              "#d8576b"
             ],
             [
              0.6666666666666666,
              "#ed7953"
             ],
             [
              0.7777777777777778,
              "#fb9f3a"
             ],
             [
              0.8888888888888888,
              "#fdca26"
             ],
             [
              1,
              "#f0f921"
             ]
            ],
            "type": "histogram2d"
           }
          ],
          "histogram2dcontour": [
           {
            "colorbar": {
             "outlinewidth": 0,
             "ticks": ""
            },
            "colorscale": [
             [
              0,
              "#0d0887"
             ],
             [
              0.1111111111111111,
              "#46039f"
             ],
             [
              0.2222222222222222,
              "#7201a8"
             ],
             [
              0.3333333333333333,
              "#9c179e"
             ],
             [
              0.4444444444444444,
              "#bd3786"
             ],
             [
              0.5555555555555556,
              "#d8576b"
             ],
             [
              0.6666666666666666,
              "#ed7953"
             ],
             [
              0.7777777777777778,
              "#fb9f3a"
             ],
             [
              0.8888888888888888,
              "#fdca26"
             ],
             [
              1,
              "#f0f921"
             ]
            ],
            "type": "histogram2dcontour"
           }
          ],
          "mesh3d": [
           {
            "colorbar": {
             "outlinewidth": 0,
             "ticks": ""
            },
            "type": "mesh3d"
           }
          ],
          "parcoords": [
           {
            "line": {
             "colorbar": {
              "outlinewidth": 0,
              "ticks": ""
             }
            },
            "type": "parcoords"
           }
          ],
          "pie": [
           {
            "automargin": true,
            "type": "pie"
           }
          ],
          "scatter": [
           {
            "fillpattern": {
             "fillmode": "overlay",
             "size": 10,
             "solidity": 0.2
            },
            "type": "scatter"
           }
          ],
          "scatter3d": [
           {
            "line": {
             "colorbar": {
              "outlinewidth": 0,
              "ticks": ""
             }
            },
            "marker": {
             "colorbar": {
              "outlinewidth": 0,
              "ticks": ""
             }
            },
            "type": "scatter3d"
           }
          ],
          "scattercarpet": [
           {
            "marker": {
             "colorbar": {
              "outlinewidth": 0,
              "ticks": ""
             }
            },
            "type": "scattercarpet"
           }
          ],
          "scattergeo": [
           {
            "marker": {
             "colorbar": {
              "outlinewidth": 0,
              "ticks": ""
             }
            },
            "type": "scattergeo"
           }
          ],
          "scattergl": [
           {
            "marker": {
             "colorbar": {
              "outlinewidth": 0,
              "ticks": ""
             }
            },
            "type": "scattergl"
           }
          ],
          "scattermapbox": [
           {
            "marker": {
             "colorbar": {
              "outlinewidth": 0,
              "ticks": ""
             }
            },
            "type": "scattermapbox"
           }
          ],
          "scatterpolar": [
           {
            "marker": {
             "colorbar": {
              "outlinewidth": 0,
              "ticks": ""
             }
            },
            "type": "scatterpolar"
           }
          ],
          "scatterpolargl": [
           {
            "marker": {
             "colorbar": {
              "outlinewidth": 0,
              "ticks": ""
             }
            },
            "type": "scatterpolargl"
           }
          ],
          "scatterternary": [
           {
            "marker": {
             "colorbar": {
              "outlinewidth": 0,
              "ticks": ""
             }
            },
            "type": "scatterternary"
           }
          ],
          "surface": [
           {
            "colorbar": {
             "outlinewidth": 0,
             "ticks": ""
            },
            "colorscale": [
             [
              0,
              "#0d0887"
             ],
             [
              0.1111111111111111,
              "#46039f"
             ],
             [
              0.2222222222222222,
              "#7201a8"
             ],
             [
              0.3333333333333333,
              "#9c179e"
             ],
             [
              0.4444444444444444,
              "#bd3786"
             ],
             [
              0.5555555555555556,
              "#d8576b"
             ],
             [
              0.6666666666666666,
              "#ed7953"
             ],
             [
              0.7777777777777778,
              "#fb9f3a"
             ],
             [
              0.8888888888888888,
              "#fdca26"
             ],
             [
              1,
              "#f0f921"
             ]
            ],
            "type": "surface"
           }
          ],
          "table": [
           {
            "cells": {
             "fill": {
              "color": "#EBF0F8"
             },
             "line": {
              "color": "white"
             }
            },
            "header": {
             "fill": {
              "color": "#C8D4E3"
             },
             "line": {
              "color": "white"
             }
            },
            "type": "table"
           }
          ]
         },
         "layout": {
          "annotationdefaults": {
           "arrowcolor": "#2a3f5f",
           "arrowhead": 0,
           "arrowwidth": 1
          },
          "autotypenumbers": "strict",
          "coloraxis": {
           "colorbar": {
            "outlinewidth": 0,
            "ticks": ""
           }
          },
          "colorscale": {
           "diverging": [
            [
             0,
             "#8e0152"
            ],
            [
             0.1,
             "#c51b7d"
            ],
            [
             0.2,
             "#de77ae"
            ],
            [
             0.3,
             "#f1b6da"
            ],
            [
             0.4,
             "#fde0ef"
            ],
            [
             0.5,
             "#f7f7f7"
            ],
            [
             0.6,
             "#e6f5d0"
            ],
            [
             0.7,
             "#b8e186"
            ],
            [
             0.8,
             "#7fbc41"
            ],
            [
             0.9,
             "#4d9221"
            ],
            [
             1,
             "#276419"
            ]
           ],
           "sequential": [
            [
             0,
             "#0d0887"
            ],
            [
             0.1111111111111111,
             "#46039f"
            ],
            [
             0.2222222222222222,
             "#7201a8"
            ],
            [
             0.3333333333333333,
             "#9c179e"
            ],
            [
             0.4444444444444444,
             "#bd3786"
            ],
            [
             0.5555555555555556,
             "#d8576b"
            ],
            [
             0.6666666666666666,
             "#ed7953"
            ],
            [
             0.7777777777777778,
             "#fb9f3a"
            ],
            [
             0.8888888888888888,
             "#fdca26"
            ],
            [
             1,
             "#f0f921"
            ]
           ],
           "sequentialminus": [
            [
             0,
             "#0d0887"
            ],
            [
             0.1111111111111111,
             "#46039f"
            ],
            [
             0.2222222222222222,
             "#7201a8"
            ],
            [
             0.3333333333333333,
             "#9c179e"
            ],
            [
             0.4444444444444444,
             "#bd3786"
            ],
            [
             0.5555555555555556,
             "#d8576b"
            ],
            [
             0.6666666666666666,
             "#ed7953"
            ],
            [
             0.7777777777777778,
             "#fb9f3a"
            ],
            [
             0.8888888888888888,
             "#fdca26"
            ],
            [
             1,
             "#f0f921"
            ]
           ]
          },
          "colorway": [
           "#636efa",
           "#EF553B",
           "#00cc96",
           "#ab63fa",
           "#FFA15A",
           "#19d3f3",
           "#FF6692",
           "#B6E880",
           "#FF97FF",
           "#FECB52"
          ],
          "font": {
           "color": "#2a3f5f"
          },
          "geo": {
           "bgcolor": "white",
           "lakecolor": "white",
           "landcolor": "#E5ECF6",
           "showlakes": true,
           "showland": true,
           "subunitcolor": "white"
          },
          "hoverlabel": {
           "align": "left"
          },
          "hovermode": "closest",
          "mapbox": {
           "style": "light"
          },
          "paper_bgcolor": "white",
          "plot_bgcolor": "#E5ECF6",
          "polar": {
           "angularaxis": {
            "gridcolor": "white",
            "linecolor": "white",
            "ticks": ""
           },
           "bgcolor": "#E5ECF6",
           "radialaxis": {
            "gridcolor": "white",
            "linecolor": "white",
            "ticks": ""
           }
          },
          "scene": {
           "xaxis": {
            "backgroundcolor": "#E5ECF6",
            "gridcolor": "white",
            "gridwidth": 2,
            "linecolor": "white",
            "showbackground": true,
            "ticks": "",
            "zerolinecolor": "white"
           },
           "yaxis": {
            "backgroundcolor": "#E5ECF6",
            "gridcolor": "white",
            "gridwidth": 2,
            "linecolor": "white",
            "showbackground": true,
            "ticks": "",
            "zerolinecolor": "white"
           },
           "zaxis": {
            "backgroundcolor": "#E5ECF6",
            "gridcolor": "white",
            "gridwidth": 2,
            "linecolor": "white",
            "showbackground": true,
            "ticks": "",
            "zerolinecolor": "white"
           }
          },
          "shapedefaults": {
           "line": {
            "color": "#2a3f5f"
           }
          },
          "ternary": {
           "aaxis": {
            "gridcolor": "white",
            "linecolor": "white",
            "ticks": ""
           },
           "baxis": {
            "gridcolor": "white",
            "linecolor": "white",
            "ticks": ""
           },
           "bgcolor": "#E5ECF6",
           "caxis": {
            "gridcolor": "white",
            "linecolor": "white",
            "ticks": ""
           }
          },
          "title": {
           "x": 0.05
          },
          "xaxis": {
           "automargin": true,
           "gridcolor": "white",
           "linecolor": "white",
           "ticks": "",
           "title": {
            "standoff": 15
           },
           "zerolinecolor": "white",
           "zerolinewidth": 2
          },
          "yaxis": {
           "automargin": true,
           "gridcolor": "white",
           "linecolor": "white",
           "ticks": "",
           "title": {
            "standoff": 15
           },
           "zerolinecolor": "white",
           "zerolinewidth": 2
          }
         }
        },
        "title": {
         "text": "{Number of experiments:3}{Threshold Runs:2}"
        },
        "xaxis": {
         "anchor": "y",
         "domain": [
          0,
          1
         ],
         "title": {
          "text": "fp"
         }
        },
        "yaxis": {
         "anchor": "x",
         "domain": [
          0,
          1
         ],
         "title": {
          "text": "tp"
         }
        }
       }
      }
     },
     "metadata": {},
     "output_type": "display_data"
    },
    {
     "data": {
      "application/vnd.plotly.v1+json": {
       "config": {
        "plotlyServerURL": "https://plotly.com"
       },
       "data": [
        {
         "customdata": [
          [
           3,
           "3",
           0,
           0
          ],
          [
           3,
           "3",
           0.1,
           0.010000000000000002
          ],
          [
           3,
           "3",
           0.2,
           0.020000000000000004
          ],
          [
           3,
           "3",
           0.30000000000000004,
           0.030000000000000006
          ],
          [
           3,
           "3",
           0.4,
           0.04000000000000001
          ],
          [
           3,
           "3",
           0.5,
           0.05
          ],
          [
           3,
           "3",
           0.6000000000000001,
           0.06000000000000001
          ],
          [
           3,
           "3",
           0.7000000000000001,
           0.07
          ],
          [
           3,
           "3",
           0.8,
           0.08000000000000002
          ],
          [
           3,
           "3",
           0.9,
           0.09000000000000001
          ],
          [
           3,
           "3",
           1,
           0.1
          ]
         ],
         "hovertemplate": "k=0.1<br>fp=%{x}<br>tp=%{y}<br>n_exp=%{customdata[0]}<br>threshold_exp=%{customdata[1]}<br>p=%{customdata[2]}<br>r=%{customdata[3]}<extra></extra>",
         "legendgroup": "0.1",
         "line": {
          "color": "#636efa",
          "dash": "solid"
         },
         "marker": {
          "symbol": "circle"
         },
         "mode": "markers+lines",
         "name": "0.1",
         "orientation": "v",
         "showlegend": true,
         "type": "scatter",
         "x": [
          0,
          0.0000010000000000000006,
          0.000008000000000000006,
          0.000027000000000000016,
          0.00006400000000000005,
          0.00012500000000000003,
          0.00021600000000000013,
          0.0003430000000000001,
          0.0005120000000000004,
          0.0007290000000000002,
          0.001
         ],
         "xaxis": "x",
         "y": [
          0,
          0.001,
          0.007999999999999998,
          0.027000000000000014,
          0.06399999999999999,
          0.12499999999999992,
          0.21600000000000003,
          0.3429999999999999,
          0.5119999999999999,
          0.729,
          1
         ],
         "yaxis": "y"
        },
        {
         "customdata": [
          [
           3,
           "3",
           0,
           0
          ],
          [
           3,
           "3",
           0.1,
           0.020000000000000004
          ],
          [
           3,
           "3",
           0.2,
           0.04000000000000001
          ],
          [
           3,
           "3",
           0.30000000000000004,
           0.06000000000000001
          ],
          [
           3,
           "3",
           0.4,
           0.08000000000000002
          ],
          [
           3,
           "3",
           0.5,
           0.1
          ],
          [
           3,
           "3",
           0.6000000000000001,
           0.12000000000000002
          ],
          [
           3,
           "3",
           0.7000000000000001,
           0.14
          ],
          [
           3,
           "3",
           0.8,
           0.16000000000000003
          ],
          [
           3,
           "3",
           0.9,
           0.18000000000000002
          ],
          [
           3,
           "3",
           1,
           0.2
          ]
         ],
         "hovertemplate": "k=0.2<br>fp=%{x}<br>tp=%{y}<br>n_exp=%{customdata[0]}<br>threshold_exp=%{customdata[1]}<br>p=%{customdata[2]}<br>r=%{customdata[3]}<extra></extra>",
         "legendgroup": "0.2",
         "line": {
          "color": "#EF553B",
          "dash": "solid"
         },
         "marker": {
          "symbol": "circle"
         },
         "mode": "markers+lines",
         "name": "0.2",
         "orientation": "v",
         "showlegend": true,
         "type": "scatter",
         "x": [
          0,
          0.000008000000000000006,
          0.00006400000000000005,
          0.00021600000000000013,
          0.0005120000000000004,
          0.001,
          0.001728000000000001,
          0.0027440000000000003,
          0.0040960000000000015,
          0.005832000000000001,
          0.007999999999999998
         ],
         "xaxis": "x",
         "y": [
          0,
          0.001,
          0.007999999999999998,
          0.027000000000000014,
          0.06399999999999999,
          0.12499999999999992,
          0.21600000000000003,
          0.3429999999999999,
          0.5119999999999999,
          0.729,
          1
         ],
         "yaxis": "y"
        },
        {
         "customdata": [
          [
           3,
           "3",
           0,
           0
          ],
          [
           3,
           "3",
           0.1,
           0.030000000000000006
          ],
          [
           3,
           "3",
           0.2,
           0.06000000000000001
          ],
          [
           3,
           "3",
           0.30000000000000004,
           0.09000000000000002
          ],
          [
           3,
           "3",
           0.4,
           0.12000000000000002
          ],
          [
           3,
           "3",
           0.5,
           0.15000000000000002
          ],
          [
           3,
           "3",
           0.6000000000000001,
           0.18000000000000005
          ],
          [
           3,
           "3",
           0.7000000000000001,
           0.21000000000000005
          ],
          [
           3,
           "3",
           0.8,
           0.24000000000000005
          ],
          [
           3,
           "3",
           0.9,
           0.2700000000000001
          ],
          [
           3,
           "3",
           1,
           0.30000000000000004
          ]
         ],
         "hovertemplate": "k=0.30000000000000004<br>fp=%{x}<br>tp=%{y}<br>n_exp=%{customdata[0]}<br>threshold_exp=%{customdata[1]}<br>p=%{customdata[2]}<br>r=%{customdata[3]}<extra></extra>",
         "legendgroup": "0.30000000000000004",
         "line": {
          "color": "#00cc96",
          "dash": "solid"
         },
         "marker": {
          "symbol": "circle"
         },
         "mode": "markers+lines",
         "name": "0.30000000000000004",
         "orientation": "v",
         "showlegend": true,
         "type": "scatter",
         "x": [
          0,
          0.000027000000000000016,
          0.00021600000000000013,
          0.0007290000000000007,
          0.001728000000000001,
          0.0033750000000000017,
          0.005832000000000004,
          0.009261000000000004,
          0.013824000000000005,
          0.019683000000000013,
          0.027000000000000014
         ],
         "xaxis": "x",
         "y": [
          0,
          0.001,
          0.007999999999999998,
          0.027000000000000014,
          0.06399999999999999,
          0.12499999999999992,
          0.21600000000000003,
          0.3429999999999999,
          0.5119999999999999,
          0.729,
          1
         ],
         "yaxis": "y"
        },
        {
         "customdata": [
          [
           3,
           "3",
           0,
           0
          ],
          [
           3,
           "3",
           0.1,
           0.04000000000000001
          ],
          [
           3,
           "3",
           0.2,
           0.08000000000000002
          ],
          [
           3,
           "3",
           0.30000000000000004,
           0.12000000000000002
          ],
          [
           3,
           "3",
           0.4,
           0.16000000000000003
          ],
          [
           3,
           "3",
           0.5,
           0.2
          ],
          [
           3,
           "3",
           0.6000000000000001,
           0.24000000000000005
          ],
          [
           3,
           "3",
           0.7000000000000001,
           0.28
          ],
          [
           3,
           "3",
           0.8,
           0.32000000000000006
          ],
          [
           3,
           "3",
           0.9,
           0.36000000000000004
          ],
          [
           3,
           "3",
           1,
           0.4
          ]
         ],
         "hovertemplate": "k=0.4<br>fp=%{x}<br>tp=%{y}<br>n_exp=%{customdata[0]}<br>threshold_exp=%{customdata[1]}<br>p=%{customdata[2]}<br>r=%{customdata[3]}<extra></extra>",
         "legendgroup": "0.4",
         "line": {
          "color": "#ab63fa",
          "dash": "solid"
         },
         "marker": {
          "symbol": "circle"
         },
         "mode": "markers+lines",
         "name": "0.4",
         "orientation": "v",
         "showlegend": true,
         "type": "scatter",
         "x": [
          0,
          0.00006400000000000005,
          0.0005120000000000004,
          0.001728000000000001,
          0.0040960000000000015,
          0.007999999999999998,
          0.013824000000000005,
          0.021952000000000003,
          0.032768000000000005,
          0.04665600000000001,
          0.06399999999999999
         ],
         "xaxis": "x",
         "y": [
          0,
          0.001,
          0.007999999999999998,
          0.027000000000000014,
          0.06399999999999999,
          0.12499999999999992,
          0.21600000000000003,
          0.3429999999999999,
          0.5119999999999999,
          0.729,
          1
         ],
         "yaxis": "y"
        },
        {
         "customdata": [
          [
           3,
           "3",
           0,
           0
          ],
          [
           3,
           "3",
           0.1,
           0.05
          ],
          [
           3,
           "3",
           0.2,
           0.1
          ],
          [
           3,
           "3",
           0.30000000000000004,
           0.15000000000000002
          ],
          [
           3,
           "3",
           0.4,
           0.2
          ],
          [
           3,
           "3",
           0.5,
           0.25
          ],
          [
           3,
           "3",
           0.6000000000000001,
           0.30000000000000004
          ],
          [
           3,
           "3",
           0.7000000000000001,
           0.35000000000000003
          ],
          [
           3,
           "3",
           0.8,
           0.4
          ],
          [
           3,
           "3",
           0.9,
           0.45
          ],
          [
           3,
           "3",
           1,
           0.5
          ]
         ],
         "hovertemplate": "k=0.5<br>fp=%{x}<br>tp=%{y}<br>n_exp=%{customdata[0]}<br>threshold_exp=%{customdata[1]}<br>p=%{customdata[2]}<br>r=%{customdata[3]}<extra></extra>",
         "legendgroup": "0.5",
         "line": {
          "color": "#FFA15A",
          "dash": "solid"
         },
         "marker": {
          "symbol": "circle"
         },
         "mode": "markers+lines",
         "name": "0.5",
         "orientation": "v",
         "showlegend": true,
         "type": "scatter",
         "x": [
          0,
          0.00012500000000000003,
          0.001,
          0.0033750000000000017,
          0.007999999999999998,
          0.015624999999999997,
          0.027000000000000014,
          0.042875,
          0.06399999999999999,
          0.09112499999999997,
          0.12499999999999992
         ],
         "xaxis": "x",
         "y": [
          0,
          0.001,
          0.007999999999999998,
          0.027000000000000014,
          0.06399999999999999,
          0.12499999999999992,
          0.21600000000000003,
          0.3429999999999999,
          0.5119999999999999,
          0.729,
          1
         ],
         "yaxis": "y"
        },
        {
         "customdata": [
          [
           3,
           "3",
           0,
           0
          ],
          [
           3,
           "3",
           0.1,
           0.06
          ],
          [
           3,
           "3",
           0.2,
           0.12
          ],
          [
           3,
           "3",
           0.30000000000000004,
           0.18000000000000002
          ],
          [
           3,
           "3",
           0.4,
           0.24
          ],
          [
           3,
           "3",
           0.5,
           0.3
          ],
          [
           3,
           "3",
           0.6000000000000001,
           0.36000000000000004
          ],
          [
           3,
           "3",
           0.7000000000000001,
           0.42000000000000004
          ],
          [
           3,
           "3",
           0.8,
           0.48
          ],
          [
           3,
           "3",
           0.9,
           0.54
          ],
          [
           3,
           "3",
           1,
           0.6
          ]
         ],
         "hovertemplate": "k=0.6<br>fp=%{x}<br>tp=%{y}<br>n_exp=%{customdata[0]}<br>threshold_exp=%{customdata[1]}<br>p=%{customdata[2]}<br>r=%{customdata[3]}<extra></extra>",
         "legendgroup": "0.6",
         "line": {
          "color": "#19d3f3",
          "dash": "solid"
         },
         "marker": {
          "symbol": "circle"
         },
         "mode": "markers+lines",
         "name": "0.6",
         "orientation": "v",
         "showlegend": true,
         "type": "scatter",
         "x": [
          0,
          0.000216,
          0.0017279999999999993,
          0.005832000000000001,
          0.013823999999999994,
          0.026999999999999996,
          0.04665600000000001,
          0.07408799999999999,
          0.11059199999999993,
          0.157464,
          0.21599999999999991
         ],
         "xaxis": "x",
         "y": [
          0,
          0.001,
          0.007999999999999998,
          0.027000000000000014,
          0.06399999999999999,
          0.12499999999999992,
          0.21600000000000003,
          0.3429999999999999,
          0.5119999999999999,
          0.729,
          1
         ],
         "yaxis": "y"
        },
        {
         "customdata": [
          [
           3,
           "3",
           0,
           0
          ],
          [
           3,
           "3",
           0.1,
           0.07
          ],
          [
           3,
           "3",
           0.2,
           0.14
          ],
          [
           3,
           "3",
           0.30000000000000004,
           0.21000000000000005
          ],
          [
           3,
           "3",
           0.4,
           0.28
          ],
          [
           3,
           "3",
           0.5,
           0.35000000000000003
          ],
          [
           3,
           "3",
           0.6000000000000001,
           0.4200000000000001
          ],
          [
           3,
           "3",
           0.7000000000000001,
           0.4900000000000001
          ],
          [
           3,
           "3",
           0.8,
           0.56
          ],
          [
           3,
           "3",
           0.9,
           0.6300000000000001
          ],
          [
           3,
           "3",
           1,
           0.7000000000000001
          ]
         ],
         "hovertemplate": "k=0.7000000000000001<br>fp=%{x}<br>tp=%{y}<br>n_exp=%{customdata[0]}<br>threshold_exp=%{customdata[1]}<br>p=%{customdata[2]}<br>r=%{customdata[3]}<extra></extra>",
         "legendgroup": "0.7000000000000001",
         "line": {
          "color": "#FF6692",
          "dash": "solid"
         },
         "marker": {
          "symbol": "circle"
         },
         "mode": "markers+lines",
         "name": "0.7000000000000001",
         "orientation": "v",
         "showlegend": true,
         "type": "scatter",
         "x": [
          0,
          0.0003430000000000001,
          0.0027440000000000003,
          0.009261000000000004,
          0.021952000000000003,
          0.042875,
          0.074088,
          0.11764900000000005,
          0.17561600000000002,
          0.2500470000000001,
          0.3429999999999999
         ],
         "xaxis": "x",
         "y": [
          0,
          0.001,
          0.007999999999999998,
          0.027000000000000014,
          0.06399999999999999,
          0.12499999999999992,
          0.21600000000000003,
          0.3429999999999999,
          0.5119999999999999,
          0.729,
          1
         ],
         "yaxis": "y"
        },
        {
         "customdata": [
          [
           3,
           "3",
           0,
           0
          ],
          [
           3,
           "3",
           0.1,
           0.08000000000000002
          ],
          [
           3,
           "3",
           0.2,
           0.16000000000000003
          ],
          [
           3,
           "3",
           0.30000000000000004,
           0.24000000000000005
          ],
          [
           3,
           "3",
           0.4,
           0.32000000000000006
          ],
          [
           3,
           "3",
           0.5,
           0.4
          ],
          [
           3,
           "3",
           0.6000000000000001,
           0.4800000000000001
          ],
          [
           3,
           "3",
           0.7000000000000001,
           0.56
          ],
          [
           3,
           "3",
           0.8,
           0.6400000000000001
          ],
          [
           3,
           "3",
           0.9,
           0.7200000000000001
          ],
          [
           3,
           "3",
           1,
           0.8
          ]
         ],
         "hovertemplate": "k=0.8<br>fp=%{x}<br>tp=%{y}<br>n_exp=%{customdata[0]}<br>threshold_exp=%{customdata[1]}<br>p=%{customdata[2]}<br>r=%{customdata[3]}<extra></extra>",
         "legendgroup": "0.8",
         "line": {
          "color": "#B6E880",
          "dash": "solid"
         },
         "marker": {
          "symbol": "circle"
         },
         "mode": "markers+lines",
         "name": "0.8",
         "orientation": "v",
         "showlegend": true,
         "type": "scatter",
         "x": [
          0,
          0.0005120000000000004,
          0.0040960000000000015,
          0.013824000000000005,
          0.032768000000000005,
          0.06399999999999999,
          0.11059200000000004,
          0.17561600000000002,
          0.26214400000000004,
          0.37324799999999997,
          0.5119999999999999
         ],
         "xaxis": "x",
         "y": [
          0,
          0.001,
          0.007999999999999998,
          0.027000000000000014,
          0.06399999999999999,
          0.12499999999999992,
          0.21600000000000003,
          0.3429999999999999,
          0.5119999999999999,
          0.729,
          1
         ],
         "yaxis": "y"
        },
        {
         "customdata": [
          [
           3,
           "3",
           0,
           0
          ],
          [
           3,
           "3",
           0.1,
           0.09000000000000001
          ],
          [
           3,
           "3",
           0.2,
           0.18000000000000002
          ],
          [
           3,
           "3",
           0.30000000000000004,
           0.2700000000000001
          ],
          [
           3,
           "3",
           0.4,
           0.36000000000000004
          ],
          [
           3,
           "3",
           0.5,
           0.45
          ],
          [
           3,
           "3",
           0.6000000000000001,
           0.5400000000000001
          ],
          [
           3,
           "3",
           0.7000000000000001,
           0.6300000000000001
          ],
          [
           3,
           "3",
           0.8,
           0.7200000000000001
          ],
          [
           3,
           "3",
           0.9,
           0.81
          ],
          [
           3,
           "3",
           1,
           0.9
          ]
         ],
         "hovertemplate": "k=0.9<br>fp=%{x}<br>tp=%{y}<br>n_exp=%{customdata[0]}<br>threshold_exp=%{customdata[1]}<br>p=%{customdata[2]}<br>r=%{customdata[3]}<extra></extra>",
         "legendgroup": "0.9",
         "line": {
          "color": "#FF97FF",
          "dash": "solid"
         },
         "marker": {
          "symbol": "circle"
         },
         "mode": "markers+lines",
         "name": "0.9",
         "orientation": "v",
         "showlegend": true,
         "type": "scatter",
         "x": [
          0,
          0.0007290000000000002,
          0.005832000000000001,
          0.019683000000000013,
          0.04665600000000001,
          0.09112499999999997,
          0.1574640000000001,
          0.2500470000000001,
          0.37324799999999997,
          0.5314409999999999,
          0.729
         ],
         "xaxis": "x",
         "y": [
          0,
          0.001,
          0.007999999999999998,
          0.027000000000000014,
          0.06399999999999999,
          0.12499999999999992,
          0.21600000000000003,
          0.3429999999999999,
          0.5119999999999999,
          0.729,
          1
         ],
         "yaxis": "y"
        },
        {
         "customdata": [
          [
           3,
           "3",
           0,
           0
          ],
          [
           3,
           "3",
           0.1,
           0.1
          ],
          [
           3,
           "3",
           0.2,
           0.2
          ],
          [
           3,
           "3",
           0.30000000000000004,
           0.30000000000000004
          ],
          [
           3,
           "3",
           0.4,
           0.4
          ],
          [
           3,
           "3",
           0.5,
           0.5
          ],
          [
           3,
           "3",
           0.6000000000000001,
           0.6000000000000001
          ],
          [
           3,
           "3",
           0.7000000000000001,
           0.7000000000000001
          ],
          [
           3,
           "3",
           0.8,
           0.8
          ],
          [
           3,
           "3",
           0.9,
           0.9
          ],
          [
           3,
           "3",
           1,
           1
          ]
         ],
         "hovertemplate": "k=1.0<br>fp=%{x}<br>tp=%{y}<br>n_exp=%{customdata[0]}<br>threshold_exp=%{customdata[1]}<br>p=%{customdata[2]}<br>r=%{customdata[3]}<extra></extra>",
         "legendgroup": "1.0",
         "line": {
          "color": "#FECB52",
          "dash": "solid"
         },
         "marker": {
          "symbol": "circle"
         },
         "mode": "markers+lines",
         "name": "1.0",
         "orientation": "v",
         "showlegend": true,
         "type": "scatter",
         "x": [
          0,
          0.001,
          0.007999999999999998,
          0.027000000000000014,
          0.06399999999999999,
          0.12499999999999992,
          0.21600000000000003,
          0.3429999999999999,
          0.5119999999999999,
          0.729,
          1
         ],
         "xaxis": "x",
         "y": [
          0,
          0.001,
          0.007999999999999998,
          0.027000000000000014,
          0.06399999999999999,
          0.12499999999999992,
          0.21600000000000003,
          0.3429999999999999,
          0.5119999999999999,
          0.729,
          1
         ],
         "yaxis": "y"
        }
       ],
       "layout": {
        "legend": {
         "title": {
          "text": "k"
         },
         "tracegroupgap": 0
        },
        "margin": {
         "t": 60
        },
        "template": {
         "data": {
          "bar": [
           {
            "error_x": {
             "color": "#2a3f5f"
            },
            "error_y": {
             "color": "#2a3f5f"
            },
            "marker": {
             "line": {
              "color": "#E5ECF6",
              "width": 0.5
             },
             "pattern": {
              "fillmode": "overlay",
              "size": 10,
              "solidity": 0.2
             }
            },
            "type": "bar"
           }
          ],
          "barpolar": [
           {
            "marker": {
             "line": {
              "color": "#E5ECF6",
              "width": 0.5
             },
             "pattern": {
              "fillmode": "overlay",
              "size": 10,
              "solidity": 0.2
             }
            },
            "type": "barpolar"
           }
          ],
          "carpet": [
           {
            "aaxis": {
             "endlinecolor": "#2a3f5f",
             "gridcolor": "white",
             "linecolor": "white",
             "minorgridcolor": "white",
             "startlinecolor": "#2a3f5f"
            },
            "baxis": {
             "endlinecolor": "#2a3f5f",
             "gridcolor": "white",
             "linecolor": "white",
             "minorgridcolor": "white",
             "startlinecolor": "#2a3f5f"
            },
            "type": "carpet"
           }
          ],
          "choropleth": [
           {
            "colorbar": {
             "outlinewidth": 0,
             "ticks": ""
            },
            "type": "choropleth"
           }
          ],
          "contour": [
           {
            "colorbar": {
             "outlinewidth": 0,
             "ticks": ""
            },
            "colorscale": [
             [
              0,
              "#0d0887"
             ],
             [
              0.1111111111111111,
              "#46039f"
             ],
             [
              0.2222222222222222,
              "#7201a8"
             ],
             [
              0.3333333333333333,
              "#9c179e"
             ],
             [
              0.4444444444444444,
              "#bd3786"
             ],
             [
              0.5555555555555556,
              "#d8576b"
             ],
             [
              0.6666666666666666,
              "#ed7953"
             ],
             [
              0.7777777777777778,
              "#fb9f3a"
             ],
             [
              0.8888888888888888,
              "#fdca26"
             ],
             [
              1,
              "#f0f921"
             ]
            ],
            "type": "contour"
           }
          ],
          "contourcarpet": [
           {
            "colorbar": {
             "outlinewidth": 0,
             "ticks": ""
            },
            "type": "contourcarpet"
           }
          ],
          "heatmap": [
           {
            "colorbar": {
             "outlinewidth": 0,
             "ticks": ""
            },
            "colorscale": [
             [
              0,
              "#0d0887"
             ],
             [
              0.1111111111111111,
              "#46039f"
             ],
             [
              0.2222222222222222,
              "#7201a8"
             ],
             [
              0.3333333333333333,
              "#9c179e"
             ],
             [
              0.4444444444444444,
              "#bd3786"
             ],
             [
              0.5555555555555556,
              "#d8576b"
             ],
             [
              0.6666666666666666,
              "#ed7953"
             ],
             [
              0.7777777777777778,
              "#fb9f3a"
             ],
             [
              0.8888888888888888,
              "#fdca26"
             ],
             [
              1,
              "#f0f921"
             ]
            ],
            "type": "heatmap"
           }
          ],
          "heatmapgl": [
           {
            "colorbar": {
             "outlinewidth": 0,
             "ticks": ""
            },
            "colorscale": [
             [
              0,
              "#0d0887"
             ],
             [
              0.1111111111111111,
              "#46039f"
             ],
             [
              0.2222222222222222,
              "#7201a8"
             ],
             [
              0.3333333333333333,
              "#9c179e"
             ],
             [
              0.4444444444444444,
              "#bd3786"
             ],
             [
              0.5555555555555556,
              "#d8576b"
             ],
             [
              0.6666666666666666,
              "#ed7953"
             ],
             [
              0.7777777777777778,
              "#fb9f3a"
             ],
             [
              0.8888888888888888,
              "#fdca26"
             ],
             [
              1,
              "#f0f921"
             ]
            ],
            "type": "heatmapgl"
           }
          ],
          "histogram": [
           {
            "marker": {
             "pattern": {
              "fillmode": "overlay",
              "size": 10,
              "solidity": 0.2
             }
            },
            "type": "histogram"
           }
          ],
          "histogram2d": [
           {
            "colorbar": {
             "outlinewidth": 0,
             "ticks": ""
            },
            "colorscale": [
             [
              0,
              "#0d0887"
             ],
             [
              0.1111111111111111,
              "#46039f"
             ],
             [
              0.2222222222222222,
              "#7201a8"
             ],
             [
              0.3333333333333333,
              "#9c179e"
             ],
             [
              0.4444444444444444,
              "#bd3786"
             ],
             [
              0.5555555555555556,
              "#d8576b"
             ],
             [
              0.6666666666666666,
              "#ed7953"
             ],
             [
              0.7777777777777778,
              "#fb9f3a"
             ],
             [
              0.8888888888888888,
              "#fdca26"
             ],
             [
              1,
              "#f0f921"
             ]
            ],
            "type": "histogram2d"
           }
          ],
          "histogram2dcontour": [
           {
            "colorbar": {
             "outlinewidth": 0,
             "ticks": ""
            },
            "colorscale": [
             [
              0,
              "#0d0887"
             ],
             [
              0.1111111111111111,
              "#46039f"
             ],
             [
              0.2222222222222222,
              "#7201a8"
             ],
             [
              0.3333333333333333,
              "#9c179e"
             ],
             [
              0.4444444444444444,
              "#bd3786"
             ],
             [
              0.5555555555555556,
              "#d8576b"
             ],
             [
              0.6666666666666666,
              "#ed7953"
             ],
             [
              0.7777777777777778,
              "#fb9f3a"
             ],
             [
              0.8888888888888888,
              "#fdca26"
             ],
             [
              1,
              "#f0f921"
             ]
            ],
            "type": "histogram2dcontour"
           }
          ],
          "mesh3d": [
           {
            "colorbar": {
             "outlinewidth": 0,
             "ticks": ""
            },
            "type": "mesh3d"
           }
          ],
          "parcoords": [
           {
            "line": {
             "colorbar": {
              "outlinewidth": 0,
              "ticks": ""
             }
            },
            "type": "parcoords"
           }
          ],
          "pie": [
           {
            "automargin": true,
            "type": "pie"
           }
          ],
          "scatter": [
           {
            "fillpattern": {
             "fillmode": "overlay",
             "size": 10,
             "solidity": 0.2
            },
            "type": "scatter"
           }
          ],
          "scatter3d": [
           {
            "line": {
             "colorbar": {
              "outlinewidth": 0,
              "ticks": ""
             }
            },
            "marker": {
             "colorbar": {
              "outlinewidth": 0,
              "ticks": ""
             }
            },
            "type": "scatter3d"
           }
          ],
          "scattercarpet": [
           {
            "marker": {
             "colorbar": {
              "outlinewidth": 0,
              "ticks": ""
             }
            },
            "type": "scattercarpet"
           }
          ],
          "scattergeo": [
           {
            "marker": {
             "colorbar": {
              "outlinewidth": 0,
              "ticks": ""
             }
            },
            "type": "scattergeo"
           }
          ],
          "scattergl": [
           {
            "marker": {
             "colorbar": {
              "outlinewidth": 0,
              "ticks": ""
             }
            },
            "type": "scattergl"
           }
          ],
          "scattermapbox": [
           {
            "marker": {
             "colorbar": {
              "outlinewidth": 0,
              "ticks": ""
             }
            },
            "type": "scattermapbox"
           }
          ],
          "scatterpolar": [
           {
            "marker": {
             "colorbar": {
              "outlinewidth": 0,
              "ticks": ""
             }
            },
            "type": "scatterpolar"
           }
          ],
          "scatterpolargl": [
           {
            "marker": {
             "colorbar": {
              "outlinewidth": 0,
              "ticks": ""
             }
            },
            "type": "scatterpolargl"
           }
          ],
          "scatterternary": [
           {
            "marker": {
             "colorbar": {
              "outlinewidth": 0,
              "ticks": ""
             }
            },
            "type": "scatterternary"
           }
          ],
          "surface": [
           {
            "colorbar": {
             "outlinewidth": 0,
             "ticks": ""
            },
            "colorscale": [
             [
              0,
              "#0d0887"
             ],
             [
              0.1111111111111111,
              "#46039f"
             ],
             [
              0.2222222222222222,
              "#7201a8"
             ],
             [
              0.3333333333333333,
              "#9c179e"
             ],
             [
              0.4444444444444444,
              "#bd3786"
             ],
             [
              0.5555555555555556,
              "#d8576b"
             ],
             [
              0.6666666666666666,
              "#ed7953"
             ],
             [
              0.7777777777777778,
              "#fb9f3a"
             ],
             [
              0.8888888888888888,
              "#fdca26"
             ],
             [
              1,
              "#f0f921"
             ]
            ],
            "type": "surface"
           }
          ],
          "table": [
           {
            "cells": {
             "fill": {
              "color": "#EBF0F8"
             },
             "line": {
              "color": "white"
             }
            },
            "header": {
             "fill": {
              "color": "#C8D4E3"
             },
             "line": {
              "color": "white"
             }
            },
            "type": "table"
           }
          ]
         },
         "layout": {
          "annotationdefaults": {
           "arrowcolor": "#2a3f5f",
           "arrowhead": 0,
           "arrowwidth": 1
          },
          "autotypenumbers": "strict",
          "coloraxis": {
           "colorbar": {
            "outlinewidth": 0,
            "ticks": ""
           }
          },
          "colorscale": {
           "diverging": [
            [
             0,
             "#8e0152"
            ],
            [
             0.1,
             "#c51b7d"
            ],
            [
             0.2,
             "#de77ae"
            ],
            [
             0.3,
             "#f1b6da"
            ],
            [
             0.4,
             "#fde0ef"
            ],
            [
             0.5,
             "#f7f7f7"
            ],
            [
             0.6,
             "#e6f5d0"
            ],
            [
             0.7,
             "#b8e186"
            ],
            [
             0.8,
             "#7fbc41"
            ],
            [
             0.9,
             "#4d9221"
            ],
            [
             1,
             "#276419"
            ]
           ],
           "sequential": [
            [
             0,
             "#0d0887"
            ],
            [
             0.1111111111111111,
             "#46039f"
            ],
            [
             0.2222222222222222,
             "#7201a8"
            ],
            [
             0.3333333333333333,
             "#9c179e"
            ],
            [
             0.4444444444444444,
             "#bd3786"
            ],
            [
             0.5555555555555556,
             "#d8576b"
            ],
            [
             0.6666666666666666,
             "#ed7953"
            ],
            [
             0.7777777777777778,
             "#fb9f3a"
            ],
            [
             0.8888888888888888,
             "#fdca26"
            ],
            [
             1,
             "#f0f921"
            ]
           ],
           "sequentialminus": [
            [
             0,
             "#0d0887"
            ],
            [
             0.1111111111111111,
             "#46039f"
            ],
            [
             0.2222222222222222,
             "#7201a8"
            ],
            [
             0.3333333333333333,
             "#9c179e"
            ],
            [
             0.4444444444444444,
             "#bd3786"
            ],
            [
             0.5555555555555556,
             "#d8576b"
            ],
            [
             0.6666666666666666,
             "#ed7953"
            ],
            [
             0.7777777777777778,
             "#fb9f3a"
            ],
            [
             0.8888888888888888,
             "#fdca26"
            ],
            [
             1,
             "#f0f921"
            ]
           ]
          },
          "colorway": [
           "#636efa",
           "#EF553B",
           "#00cc96",
           "#ab63fa",
           "#FFA15A",
           "#19d3f3",
           "#FF6692",
           "#B6E880",
           "#FF97FF",
           "#FECB52"
          ],
          "font": {
           "color": "#2a3f5f"
          },
          "geo": {
           "bgcolor": "white",
           "lakecolor": "white",
           "landcolor": "#E5ECF6",
           "showlakes": true,
           "showland": true,
           "subunitcolor": "white"
          },
          "hoverlabel": {
           "align": "left"
          },
          "hovermode": "closest",
          "mapbox": {
           "style": "light"
          },
          "paper_bgcolor": "white",
          "plot_bgcolor": "#E5ECF6",
          "polar": {
           "angularaxis": {
            "gridcolor": "white",
            "linecolor": "white",
            "ticks": ""
           },
           "bgcolor": "#E5ECF6",
           "radialaxis": {
            "gridcolor": "white",
            "linecolor": "white",
            "ticks": ""
           }
          },
          "scene": {
           "xaxis": {
            "backgroundcolor": "#E5ECF6",
            "gridcolor": "white",
            "gridwidth": 2,
            "linecolor": "white",
            "showbackground": true,
            "ticks": "",
            "zerolinecolor": "white"
           },
           "yaxis": {
            "backgroundcolor": "#E5ECF6",
            "gridcolor": "white",
            "gridwidth": 2,
            "linecolor": "white",
            "showbackground": true,
            "ticks": "",
            "zerolinecolor": "white"
           },
           "zaxis": {
            "backgroundcolor": "#E5ECF6",
            "gridcolor": "white",
            "gridwidth": 2,
            "linecolor": "white",
            "showbackground": true,
            "ticks": "",
            "zerolinecolor": "white"
           }
          },
          "shapedefaults": {
           "line": {
            "color": "#2a3f5f"
           }
          },
          "ternary": {
           "aaxis": {
            "gridcolor": "white",
            "linecolor": "white",
            "ticks": ""
           },
           "baxis": {
            "gridcolor": "white",
            "linecolor": "white",
            "ticks": ""
           },
           "bgcolor": "#E5ECF6",
           "caxis": {
            "gridcolor": "white",
            "linecolor": "white",
            "ticks": ""
           }
          },
          "title": {
           "x": 0.05
          },
          "xaxis": {
           "automargin": true,
           "gridcolor": "white",
           "linecolor": "white",
           "ticks": "",
           "title": {
            "standoff": 15
           },
           "zerolinecolor": "white",
           "zerolinewidth": 2
          },
          "yaxis": {
           "automargin": true,
           "gridcolor": "white",
           "linecolor": "white",
           "ticks": "",
           "title": {
            "standoff": 15
           },
           "zerolinecolor": "white",
           "zerolinewidth": 2
          }
         }
        },
        "title": {
         "text": "{Number of experiments:3}{Threshold Runs:3}"
        },
        "xaxis": {
         "anchor": "y",
         "domain": [
          0,
          1
         ],
         "title": {
          "text": "fp"
         }
        },
        "yaxis": {
         "anchor": "x",
         "domain": [
          0,
          1
         ],
         "title": {
          "text": "tp"
         }
        }
       }
      }
     },
     "metadata": {},
     "output_type": "display_data"
    },
    {
     "data": {
      "application/vnd.plotly.v1+json": {
       "config": {
        "plotlyServerURL": "https://plotly.com"
       },
       "data": [
        {
         "customdata": [
          [
           4,
           "1",
           0,
           0
          ],
          [
           4,
           "1",
           0.1,
           0.010000000000000002
          ],
          [
           4,
           "1",
           0.2,
           0.020000000000000004
          ],
          [
           4,
           "1",
           0.30000000000000004,
           0.030000000000000006
          ],
          [
           4,
           "1",
           0.4,
           0.04000000000000001
          ],
          [
           4,
           "1",
           0.5,
           0.05
          ],
          [
           4,
           "1",
           0.6000000000000001,
           0.06000000000000001
          ],
          [
           4,
           "1",
           0.7000000000000001,
           0.07
          ],
          [
           4,
           "1",
           0.8,
           0.08000000000000002
          ],
          [
           4,
           "1",
           0.9,
           0.09000000000000001
          ],
          [
           4,
           "1",
           1,
           0.1
          ]
         ],
         "hovertemplate": "k=0.1<br>fp=%{x}<br>tp=%{y}<br>n_exp=%{customdata[0]}<br>threshold_exp=%{customdata[1]}<br>p=%{customdata[2]}<br>r=%{customdata[3]}<extra></extra>",
         "legendgroup": "0.1",
         "line": {
          "color": "#636efa",
          "dash": "solid"
         },
         "marker": {
          "symbol": "circle"
         },
         "mode": "markers+lines",
         "name": "0.1",
         "orientation": "v",
         "showlegend": true,
         "type": "scatter",
         "x": [
          0,
          0.03940398999999999,
          0.07763184000000002,
          0.11470719000000004,
          0.15065344000000008,
          0.1854937500000001,
          0.21925104000000023,
          0.2519479900000002,
          0.2836070400000001,
          0.31425039000000005,
          0.34389999999999993
         ],
         "xaxis": "x",
         "y": [
          0,
          0.34389999999999993,
          0.5903999999999999,
          0.7599000000000001,
          0.8704000000000001,
          0.9375000000000001,
          0.9744,
          0.9919,
          0.9984000000000001,
          0.9999,
          1
         ],
         "yaxis": "y"
        },
        {
         "customdata": [
          [
           4,
           "1",
           0,
           0
          ],
          [
           4,
           "1",
           0.1,
           0.020000000000000004
          ],
          [
           4,
           "1",
           0.2,
           0.04000000000000001
          ],
          [
           4,
           "1",
           0.30000000000000004,
           0.06000000000000001
          ],
          [
           4,
           "1",
           0.4,
           0.08000000000000002
          ],
          [
           4,
           "1",
           0.5,
           0.1
          ],
          [
           4,
           "1",
           0.6000000000000001,
           0.12000000000000002
          ],
          [
           4,
           "1",
           0.7000000000000001,
           0.14
          ],
          [
           4,
           "1",
           0.8,
           0.16000000000000003
          ],
          [
           4,
           "1",
           0.9,
           0.18000000000000002
          ],
          [
           4,
           "1",
           1,
           0.2
          ]
         ],
         "hovertemplate": "k=0.2<br>fp=%{x}<br>tp=%{y}<br>n_exp=%{customdata[0]}<br>threshold_exp=%{customdata[1]}<br>p=%{customdata[2]}<br>r=%{customdata[3]}<extra></extra>",
         "legendgroup": "0.2",
         "line": {
          "color": "#EF553B",
          "dash": "solid"
         },
         "marker": {
          "symbol": "circle"
         },
         "mode": "markers+lines",
         "name": "0.2",
         "orientation": "v",
         "showlegend": true,
         "type": "scatter",
         "x": [
          0,
          0.07763184000000002,
          0.15065344000000008,
          0.21925104000000023,
          0.2836070400000001,
          0.34389999999999993,
          0.4003046400000001,
          0.4529918400000001,
          0.5021286400000001,
          0.5478782400000001,
          0.5903999999999999
         ],
         "xaxis": "x",
         "y": [
          0,
          0.34389999999999993,
          0.5903999999999999,
          0.7599000000000001,
          0.8704000000000001,
          0.9375000000000001,
          0.9744,
          0.9919,
          0.9984000000000001,
          0.9999,
          1
         ],
         "yaxis": "y"
        },
        {
         "customdata": [
          [
           4,
           "1",
           0,
           0
          ],
          [
           4,
           "1",
           0.1,
           0.030000000000000006
          ],
          [
           4,
           "1",
           0.2,
           0.06000000000000001
          ],
          [
           4,
           "1",
           0.30000000000000004,
           0.09000000000000002
          ],
          [
           4,
           "1",
           0.4,
           0.12000000000000002
          ],
          [
           4,
           "1",
           0.5,
           0.15000000000000002
          ],
          [
           4,
           "1",
           0.6000000000000001,
           0.18000000000000005
          ],
          [
           4,
           "1",
           0.7000000000000001,
           0.21000000000000005
          ],
          [
           4,
           "1",
           0.8,
           0.24000000000000005
          ],
          [
           4,
           "1",
           0.9,
           0.2700000000000001
          ],
          [
           4,
           "1",
           1,
           0.30000000000000004
          ]
         ],
         "hovertemplate": "k=0.30000000000000004<br>fp=%{x}<br>tp=%{y}<br>n_exp=%{customdata[0]}<br>threshold_exp=%{customdata[1]}<br>p=%{customdata[2]}<br>r=%{customdata[3]}<extra></extra>",
         "legendgroup": "0.30000000000000004",
         "line": {
          "color": "#00cc96",
          "dash": "solid"
         },
         "marker": {
          "symbol": "circle"
         },
         "mode": "markers+lines",
         "name": "0.30000000000000004",
         "orientation": "v",
         "showlegend": true,
         "type": "scatter",
         "x": [
          0,
          0.11470719000000004,
          0.21925104000000023,
          0.3142503900000002,
          0.4003046400000001,
          0.47799375000000016,
          0.5478782400000001,
          0.6104991900000002,
          0.6663782400000001,
          0.7160175900000002,
          0.7599000000000001
         ],
         "xaxis": "x",
         "y": [
          0,
          0.34389999999999993,
          0.5903999999999999,
          0.7599000000000001,
          0.8704000000000001,
          0.9375000000000001,
          0.9744,
          0.9919,
          0.9984000000000001,
          0.9999,
          1
         ],
         "yaxis": "y"
        },
        {
         "customdata": [
          [
           4,
           "1",
           0,
           0
          ],
          [
           4,
           "1",
           0.1,
           0.04000000000000001
          ],
          [
           4,
           "1",
           0.2,
           0.08000000000000002
          ],
          [
           4,
           "1",
           0.30000000000000004,
           0.12000000000000002
          ],
          [
           4,
           "1",
           0.4,
           0.16000000000000003
          ],
          [
           4,
           "1",
           0.5,
           0.2
          ],
          [
           4,
           "1",
           0.6000000000000001,
           0.24000000000000005
          ],
          [
           4,
           "1",
           0.7000000000000001,
           0.28
          ],
          [
           4,
           "1",
           0.8,
           0.32000000000000006
          ],
          [
           4,
           "1",
           0.9,
           0.36000000000000004
          ],
          [
           4,
           "1",
           1,
           0.4
          ]
         ],
         "hovertemplate": "k=0.4<br>fp=%{x}<br>tp=%{y}<br>n_exp=%{customdata[0]}<br>threshold_exp=%{customdata[1]}<br>p=%{customdata[2]}<br>r=%{customdata[3]}<extra></extra>",
         "legendgroup": "0.4",
         "line": {
          "color": "#ab63fa",
          "dash": "solid"
         },
         "marker": {
          "symbol": "circle"
         },
         "mode": "markers+lines",
         "name": "0.4",
         "orientation": "v",
         "showlegend": true,
         "type": "scatter",
         "x": [
          0,
          0.15065344000000008,
          0.2836070400000001,
          0.4003046400000001,
          0.5021286400000001,
          0.5903999999999999,
          0.6663782400000001,
          0.73126144,
          0.7861862400000001,
          0.83222784,
          0.8704000000000001
         ],
         "xaxis": "x",
         "y": [
          0,
          0.34389999999999993,
          0.5903999999999999,
          0.7599000000000001,
          0.8704000000000001,
          0.9375000000000001,
          0.9744,
          0.9919,
          0.9984000000000001,
          0.9999,
          1
         ],
         "yaxis": "y"
        },
        {
         "customdata": [
          [
           4,
           "1",
           0,
           0
          ],
          [
           4,
           "1",
           0.1,
           0.05
          ],
          [
           4,
           "1",
           0.2,
           0.1
          ],
          [
           4,
           "1",
           0.30000000000000004,
           0.15000000000000002
          ],
          [
           4,
           "1",
           0.4,
           0.2
          ],
          [
           4,
           "1",
           0.5,
           0.25
          ],
          [
           4,
           "1",
           0.6000000000000001,
           0.30000000000000004
          ],
          [
           4,
           "1",
           0.7000000000000001,
           0.35000000000000003
          ],
          [
           4,
           "1",
           0.8,
           0.4
          ],
          [
           4,
           "1",
           0.9,
           0.45
          ],
          [
           4,
           "1",
           1,
           0.5
          ]
         ],
         "hovertemplate": "k=0.5<br>fp=%{x}<br>tp=%{y}<br>n_exp=%{customdata[0]}<br>threshold_exp=%{customdata[1]}<br>p=%{customdata[2]}<br>r=%{customdata[3]}<extra></extra>",
         "legendgroup": "0.5",
         "line": {
          "color": "#FFA15A",
          "dash": "solid"
         },
         "marker": {
          "symbol": "circle"
         },
         "mode": "markers+lines",
         "name": "0.5",
         "orientation": "v",
         "showlegend": true,
         "type": "scatter",
         "x": [
          0,
          0.1854937500000001,
          0.34389999999999993,
          0.47799375000000016,
          0.5903999999999999,
          0.6835937500000001,
          0.7599000000000001,
          0.8214937500000001,
          0.8704000000000001,
          0.90849375,
          0.9375000000000001
         ],
         "xaxis": "x",
         "y": [
          0,
          0.34389999999999993,
          0.5903999999999999,
          0.7599000000000001,
          0.8704000000000001,
          0.9375000000000001,
          0.9744,
          0.9919,
          0.9984000000000001,
          0.9999,
          1
         ],
         "yaxis": "y"
        },
        {
         "customdata": [
          [
           4,
           "1",
           0,
           0
          ],
          [
           4,
           "1",
           0.1,
           0.06
          ],
          [
           4,
           "1",
           0.2,
           0.12
          ],
          [
           4,
           "1",
           0.30000000000000004,
           0.18000000000000002
          ],
          [
           4,
           "1",
           0.4,
           0.24
          ],
          [
           4,
           "1",
           0.5,
           0.3
          ],
          [
           4,
           "1",
           0.6000000000000001,
           0.36000000000000004
          ],
          [
           4,
           "1",
           0.7000000000000001,
           0.42000000000000004
          ],
          [
           4,
           "1",
           0.8,
           0.48
          ],
          [
           4,
           "1",
           0.9,
           0.54
          ],
          [
           4,
           "1",
           1,
           0.6
          ]
         ],
         "hovertemplate": "k=0.6<br>fp=%{x}<br>tp=%{y}<br>n_exp=%{customdata[0]}<br>threshold_exp=%{customdata[1]}<br>p=%{customdata[2]}<br>r=%{customdata[3]}<extra></extra>",
         "legendgroup": "0.6",
         "line": {
          "color": "#19d3f3",
          "dash": "solid"
         },
         "marker": {
          "symbol": "circle"
         },
         "mode": "markers+lines",
         "name": "0.6",
         "orientation": "v",
         "showlegend": true,
         "type": "scatter",
         "x": [
          0,
          0.2192510400000001,
          0.40030464,
          0.5478782400000001,
          0.66637824,
          0.7599000000000001,
          0.83222784,
          0.88683504,
          0.9268838399999999,
          0.9552254400000001,
          0.9743999999999999
         ],
         "xaxis": "x",
         "y": [
          0,
          0.34389999999999993,
          0.5903999999999999,
          0.7599000000000001,
          0.8704000000000001,
          0.9375000000000001,
          0.9744,
          0.9919,
          0.9984000000000001,
          0.9999,
          1
         ],
         "yaxis": "y"
        },
        {
         "customdata": [
          [
           4,
           "1",
           0,
           0
          ],
          [
           4,
           "1",
           0.1,
           0.07
          ],
          [
           4,
           "1",
           0.2,
           0.14
          ],
          [
           4,
           "1",
           0.30000000000000004,
           0.21000000000000005
          ],
          [
           4,
           "1",
           0.4,
           0.28
          ],
          [
           4,
           "1",
           0.5,
           0.35000000000000003
          ],
          [
           4,
           "1",
           0.6000000000000001,
           0.4200000000000001
          ],
          [
           4,
           "1",
           0.7000000000000001,
           0.4900000000000001
          ],
          [
           4,
           "1",
           0.8,
           0.56
          ],
          [
           4,
           "1",
           0.9,
           0.6300000000000001
          ],
          [
           4,
           "1",
           1,
           0.7000000000000001
          ]
         ],
         "hovertemplate": "k=0.7000000000000001<br>fp=%{x}<br>tp=%{y}<br>n_exp=%{customdata[0]}<br>threshold_exp=%{customdata[1]}<br>p=%{customdata[2]}<br>r=%{customdata[3]}<extra></extra>",
         "legendgroup": "0.7000000000000001",
         "line": {
          "color": "#FF6692",
          "dash": "solid"
         },
         "marker": {
          "symbol": "circle"
         },
         "mode": "markers+lines",
         "name": "0.7000000000000001",
         "orientation": "v",
         "showlegend": true,
         "type": "scatter",
         "x": [
          0,
          0.2519479900000002,
          0.4529918400000001,
          0.6104991900000002,
          0.73126144,
          0.8214937500000001,
          0.8868350400000001,
          0.93234799,
          0.96251904,
          0.9812583899999999,
          0.9919
         ],
         "xaxis": "x",
         "y": [
          0,
          0.34389999999999993,
          0.5903999999999999,
          0.7599000000000001,
          0.8704000000000001,
          0.9375000000000001,
          0.9744,
          0.9919,
          0.9984000000000001,
          0.9999,
          1
         ],
         "yaxis": "y"
        },
        {
         "customdata": [
          [
           4,
           "1",
           0,
           0
          ],
          [
           4,
           "1",
           0.1,
           0.08000000000000002
          ],
          [
           4,
           "1",
           0.2,
           0.16000000000000003
          ],
          [
           4,
           "1",
           0.30000000000000004,
           0.24000000000000005
          ],
          [
           4,
           "1",
           0.4,
           0.32000000000000006
          ],
          [
           4,
           "1",
           0.5,
           0.4
          ],
          [
           4,
           "1",
           0.6000000000000001,
           0.4800000000000001
          ],
          [
           4,
           "1",
           0.7000000000000001,
           0.56
          ],
          [
           4,
           "1",
           0.8,
           0.6400000000000001
          ],
          [
           4,
           "1",
           0.9,
           0.7200000000000001
          ],
          [
           4,
           "1",
           1,
           0.8
          ]
         ],
         "hovertemplate": "k=0.8<br>fp=%{x}<br>tp=%{y}<br>n_exp=%{customdata[0]}<br>threshold_exp=%{customdata[1]}<br>p=%{customdata[2]}<br>r=%{customdata[3]}<extra></extra>",
         "legendgroup": "0.8",
         "line": {
          "color": "#B6E880",
          "dash": "solid"
         },
         "marker": {
          "symbol": "circle"
         },
         "mode": "markers+lines",
         "name": "0.8",
         "orientation": "v",
         "showlegend": true,
         "type": "scatter",
         "x": [
          0,
          0.2836070400000001,
          0.5021286400000001,
          0.6663782400000001,
          0.7861862400000001,
          0.8704000000000001,
          0.9268838400000001,
          0.96251904,
          0.98320384,
          0.9938534400000001,
          0.9984000000000001
         ],
         "xaxis": "x",
         "y": [
          0,
          0.34389999999999993,
          0.5903999999999999,
          0.7599000000000001,
          0.8704000000000001,
          0.9375000000000001,
          0.9744,
          0.9919,
          0.9984000000000001,
          0.9999,
          1
         ],
         "yaxis": "y"
        },
        {
         "customdata": [
          [
           4,
           "1",
           0,
           0
          ],
          [
           4,
           "1",
           0.1,
           0.09000000000000001
          ],
          [
           4,
           "1",
           0.2,
           0.18000000000000002
          ],
          [
           4,
           "1",
           0.30000000000000004,
           0.2700000000000001
          ],
          [
           4,
           "1",
           0.4,
           0.36000000000000004
          ],
          [
           4,
           "1",
           0.5,
           0.45
          ],
          [
           4,
           "1",
           0.6000000000000001,
           0.5400000000000001
          ],
          [
           4,
           "1",
           0.7000000000000001,
           0.6300000000000001
          ],
          [
           4,
           "1",
           0.8,
           0.7200000000000001
          ],
          [
           4,
           "1",
           0.9,
           0.81
          ],
          [
           4,
           "1",
           1,
           0.9
          ]
         ],
         "hovertemplate": "k=0.9<br>fp=%{x}<br>tp=%{y}<br>n_exp=%{customdata[0]}<br>threshold_exp=%{customdata[1]}<br>p=%{customdata[2]}<br>r=%{customdata[3]}<extra></extra>",
         "legendgroup": "0.9",
         "line": {
          "color": "#FF97FF",
          "dash": "solid"
         },
         "marker": {
          "symbol": "circle"
         },
         "mode": "markers+lines",
         "name": "0.9",
         "orientation": "v",
         "showlegend": true,
         "type": "scatter",
         "x": [
          0,
          0.31425039000000005,
          0.5478782400000001,
          0.7160175900000002,
          0.83222784,
          0.90849375,
          0.95522544,
          0.9812583899999999,
          0.9938534400000001,
          0.99869679,
          0.9999
         ],
         "xaxis": "x",
         "y": [
          0,
          0.34389999999999993,
          0.5903999999999999,
          0.7599000000000001,
          0.8704000000000001,
          0.9375000000000001,
          0.9744,
          0.9919,
          0.9984000000000001,
          0.9999,
          1
         ],
         "yaxis": "y"
        },
        {
         "customdata": [
          [
           4,
           "1",
           0,
           0
          ],
          [
           4,
           "1",
           0.1,
           0.1
          ],
          [
           4,
           "1",
           0.2,
           0.2
          ],
          [
           4,
           "1",
           0.30000000000000004,
           0.30000000000000004
          ],
          [
           4,
           "1",
           0.4,
           0.4
          ],
          [
           4,
           "1",
           0.5,
           0.5
          ],
          [
           4,
           "1",
           0.6000000000000001,
           0.6000000000000001
          ],
          [
           4,
           "1",
           0.7000000000000001,
           0.7000000000000001
          ],
          [
           4,
           "1",
           0.8,
           0.8
          ],
          [
           4,
           "1",
           0.9,
           0.9
          ],
          [
           4,
           "1",
           1,
           1
          ]
         ],
         "hovertemplate": "k=1.0<br>fp=%{x}<br>tp=%{y}<br>n_exp=%{customdata[0]}<br>threshold_exp=%{customdata[1]}<br>p=%{customdata[2]}<br>r=%{customdata[3]}<extra></extra>",
         "legendgroup": "1.0",
         "line": {
          "color": "#FECB52",
          "dash": "solid"
         },
         "marker": {
          "symbol": "circle"
         },
         "mode": "markers+lines",
         "name": "1.0",
         "orientation": "v",
         "showlegend": true,
         "type": "scatter",
         "x": [
          0,
          0.34389999999999993,
          0.5903999999999999,
          0.7599000000000001,
          0.8704000000000001,
          0.9375000000000001,
          0.9744,
          0.9919,
          0.9984000000000001,
          0.9999,
          1
         ],
         "xaxis": "x",
         "y": [
          0,
          0.34389999999999993,
          0.5903999999999999,
          0.7599000000000001,
          0.8704000000000001,
          0.9375000000000001,
          0.9744,
          0.9919,
          0.9984000000000001,
          0.9999,
          1
         ],
         "yaxis": "y"
        }
       ],
       "layout": {
        "legend": {
         "title": {
          "text": "k"
         },
         "tracegroupgap": 0
        },
        "margin": {
         "t": 60
        },
        "template": {
         "data": {
          "bar": [
           {
            "error_x": {
             "color": "#2a3f5f"
            },
            "error_y": {
             "color": "#2a3f5f"
            },
            "marker": {
             "line": {
              "color": "#E5ECF6",
              "width": 0.5
             },
             "pattern": {
              "fillmode": "overlay",
              "size": 10,
              "solidity": 0.2
             }
            },
            "type": "bar"
           }
          ],
          "barpolar": [
           {
            "marker": {
             "line": {
              "color": "#E5ECF6",
              "width": 0.5
             },
             "pattern": {
              "fillmode": "overlay",
              "size": 10,
              "solidity": 0.2
             }
            },
            "type": "barpolar"
           }
          ],
          "carpet": [
           {
            "aaxis": {
             "endlinecolor": "#2a3f5f",
             "gridcolor": "white",
             "linecolor": "white",
             "minorgridcolor": "white",
             "startlinecolor": "#2a3f5f"
            },
            "baxis": {
             "endlinecolor": "#2a3f5f",
             "gridcolor": "white",
             "linecolor": "white",
             "minorgridcolor": "white",
             "startlinecolor": "#2a3f5f"
            },
            "type": "carpet"
           }
          ],
          "choropleth": [
           {
            "colorbar": {
             "outlinewidth": 0,
             "ticks": ""
            },
            "type": "choropleth"
           }
          ],
          "contour": [
           {
            "colorbar": {
             "outlinewidth": 0,
             "ticks": ""
            },
            "colorscale": [
             [
              0,
              "#0d0887"
             ],
             [
              0.1111111111111111,
              "#46039f"
             ],
             [
              0.2222222222222222,
              "#7201a8"
             ],
             [
              0.3333333333333333,
              "#9c179e"
             ],
             [
              0.4444444444444444,
              "#bd3786"
             ],
             [
              0.5555555555555556,
              "#d8576b"
             ],
             [
              0.6666666666666666,
              "#ed7953"
             ],
             [
              0.7777777777777778,
              "#fb9f3a"
             ],
             [
              0.8888888888888888,
              "#fdca26"
             ],
             [
              1,
              "#f0f921"
             ]
            ],
            "type": "contour"
           }
          ],
          "contourcarpet": [
           {
            "colorbar": {
             "outlinewidth": 0,
             "ticks": ""
            },
            "type": "contourcarpet"
           }
          ],
          "heatmap": [
           {
            "colorbar": {
             "outlinewidth": 0,
             "ticks": ""
            },
            "colorscale": [
             [
              0,
              "#0d0887"
             ],
             [
              0.1111111111111111,
              "#46039f"
             ],
             [
              0.2222222222222222,
              "#7201a8"
             ],
             [
              0.3333333333333333,
              "#9c179e"
             ],
             [
              0.4444444444444444,
              "#bd3786"
             ],
             [
              0.5555555555555556,
              "#d8576b"
             ],
             [
              0.6666666666666666,
              "#ed7953"
             ],
             [
              0.7777777777777778,
              "#fb9f3a"
             ],
             [
              0.8888888888888888,
              "#fdca26"
             ],
             [
              1,
              "#f0f921"
             ]
            ],
            "type": "heatmap"
           }
          ],
          "heatmapgl": [
           {
            "colorbar": {
             "outlinewidth": 0,
             "ticks": ""
            },
            "colorscale": [
             [
              0,
              "#0d0887"
             ],
             [
              0.1111111111111111,
              "#46039f"
             ],
             [
              0.2222222222222222,
              "#7201a8"
             ],
             [
              0.3333333333333333,
              "#9c179e"
             ],
             [
              0.4444444444444444,
              "#bd3786"
             ],
             [
              0.5555555555555556,
              "#d8576b"
             ],
             [
              0.6666666666666666,
              "#ed7953"
             ],
             [
              0.7777777777777778,
              "#fb9f3a"
             ],
             [
              0.8888888888888888,
              "#fdca26"
             ],
             [
              1,
              "#f0f921"
             ]
            ],
            "type": "heatmapgl"
           }
          ],
          "histogram": [
           {
            "marker": {
             "pattern": {
              "fillmode": "overlay",
              "size": 10,
              "solidity": 0.2
             }
            },
            "type": "histogram"
           }
          ],
          "histogram2d": [
           {
            "colorbar": {
             "outlinewidth": 0,
             "ticks": ""
            },
            "colorscale": [
             [
              0,
              "#0d0887"
             ],
             [
              0.1111111111111111,
              "#46039f"
             ],
             [
              0.2222222222222222,
              "#7201a8"
             ],
             [
              0.3333333333333333,
              "#9c179e"
             ],
             [
              0.4444444444444444,
              "#bd3786"
             ],
             [
              0.5555555555555556,
              "#d8576b"
             ],
             [
              0.6666666666666666,
              "#ed7953"
             ],
             [
              0.7777777777777778,
              "#fb9f3a"
             ],
             [
              0.8888888888888888,
              "#fdca26"
             ],
             [
              1,
              "#f0f921"
             ]
            ],
            "type": "histogram2d"
           }
          ],
          "histogram2dcontour": [
           {
            "colorbar": {
             "outlinewidth": 0,
             "ticks": ""
            },
            "colorscale": [
             [
              0,
              "#0d0887"
             ],
             [
              0.1111111111111111,
              "#46039f"
             ],
             [
              0.2222222222222222,
              "#7201a8"
             ],
             [
              0.3333333333333333,
              "#9c179e"
             ],
             [
              0.4444444444444444,
              "#bd3786"
             ],
             [
              0.5555555555555556,
              "#d8576b"
             ],
             [
              0.6666666666666666,
              "#ed7953"
             ],
             [
              0.7777777777777778,
              "#fb9f3a"
             ],
             [
              0.8888888888888888,
              "#fdca26"
             ],
             [
              1,
              "#f0f921"
             ]
            ],
            "type": "histogram2dcontour"
           }
          ],
          "mesh3d": [
           {
            "colorbar": {
             "outlinewidth": 0,
             "ticks": ""
            },
            "type": "mesh3d"
           }
          ],
          "parcoords": [
           {
            "line": {
             "colorbar": {
              "outlinewidth": 0,
              "ticks": ""
             }
            },
            "type": "parcoords"
           }
          ],
          "pie": [
           {
            "automargin": true,
            "type": "pie"
           }
          ],
          "scatter": [
           {
            "fillpattern": {
             "fillmode": "overlay",
             "size": 10,
             "solidity": 0.2
            },
            "type": "scatter"
           }
          ],
          "scatter3d": [
           {
            "line": {
             "colorbar": {
              "outlinewidth": 0,
              "ticks": ""
             }
            },
            "marker": {
             "colorbar": {
              "outlinewidth": 0,
              "ticks": ""
             }
            },
            "type": "scatter3d"
           }
          ],
          "scattercarpet": [
           {
            "marker": {
             "colorbar": {
              "outlinewidth": 0,
              "ticks": ""
             }
            },
            "type": "scattercarpet"
           }
          ],
          "scattergeo": [
           {
            "marker": {
             "colorbar": {
              "outlinewidth": 0,
              "ticks": ""
             }
            },
            "type": "scattergeo"
           }
          ],
          "scattergl": [
           {
            "marker": {
             "colorbar": {
              "outlinewidth": 0,
              "ticks": ""
             }
            },
            "type": "scattergl"
           }
          ],
          "scattermapbox": [
           {
            "marker": {
             "colorbar": {
              "outlinewidth": 0,
              "ticks": ""
             }
            },
            "type": "scattermapbox"
           }
          ],
          "scatterpolar": [
           {
            "marker": {
             "colorbar": {
              "outlinewidth": 0,
              "ticks": ""
             }
            },
            "type": "scatterpolar"
           }
          ],
          "scatterpolargl": [
           {
            "marker": {
             "colorbar": {
              "outlinewidth": 0,
              "ticks": ""
             }
            },
            "type": "scatterpolargl"
           }
          ],
          "scatterternary": [
           {
            "marker": {
             "colorbar": {
              "outlinewidth": 0,
              "ticks": ""
             }
            },
            "type": "scatterternary"
           }
          ],
          "surface": [
           {
            "colorbar": {
             "outlinewidth": 0,
             "ticks": ""
            },
            "colorscale": [
             [
              0,
              "#0d0887"
             ],
             [
              0.1111111111111111,
              "#46039f"
             ],
             [
              0.2222222222222222,
              "#7201a8"
             ],
             [
              0.3333333333333333,
              "#9c179e"
             ],
             [
              0.4444444444444444,
              "#bd3786"
             ],
             [
              0.5555555555555556,
              "#d8576b"
             ],
             [
              0.6666666666666666,
              "#ed7953"
             ],
             [
              0.7777777777777778,
              "#fb9f3a"
             ],
             [
              0.8888888888888888,
              "#fdca26"
             ],
             [
              1,
              "#f0f921"
             ]
            ],
            "type": "surface"
           }
          ],
          "table": [
           {
            "cells": {
             "fill": {
              "color": "#EBF0F8"
             },
             "line": {
              "color": "white"
             }
            },
            "header": {
             "fill": {
              "color": "#C8D4E3"
             },
             "line": {
              "color": "white"
             }
            },
            "type": "table"
           }
          ]
         },
         "layout": {
          "annotationdefaults": {
           "arrowcolor": "#2a3f5f",
           "arrowhead": 0,
           "arrowwidth": 1
          },
          "autotypenumbers": "strict",
          "coloraxis": {
           "colorbar": {
            "outlinewidth": 0,
            "ticks": ""
           }
          },
          "colorscale": {
           "diverging": [
            [
             0,
             "#8e0152"
            ],
            [
             0.1,
             "#c51b7d"
            ],
            [
             0.2,
             "#de77ae"
            ],
            [
             0.3,
             "#f1b6da"
            ],
            [
             0.4,
             "#fde0ef"
            ],
            [
             0.5,
             "#f7f7f7"
            ],
            [
             0.6,
             "#e6f5d0"
            ],
            [
             0.7,
             "#b8e186"
            ],
            [
             0.8,
             "#7fbc41"
            ],
            [
             0.9,
             "#4d9221"
            ],
            [
             1,
             "#276419"
            ]
           ],
           "sequential": [
            [
             0,
             "#0d0887"
            ],
            [
             0.1111111111111111,
             "#46039f"
            ],
            [
             0.2222222222222222,
             "#7201a8"
            ],
            [
             0.3333333333333333,
             "#9c179e"
            ],
            [
             0.4444444444444444,
             "#bd3786"
            ],
            [
             0.5555555555555556,
             "#d8576b"
            ],
            [
             0.6666666666666666,
             "#ed7953"
            ],
            [
             0.7777777777777778,
             "#fb9f3a"
            ],
            [
             0.8888888888888888,
             "#fdca26"
            ],
            [
             1,
             "#f0f921"
            ]
           ],
           "sequentialminus": [
            [
             0,
             "#0d0887"
            ],
            [
             0.1111111111111111,
             "#46039f"
            ],
            [
             0.2222222222222222,
             "#7201a8"
            ],
            [
             0.3333333333333333,
             "#9c179e"
            ],
            [
             0.4444444444444444,
             "#bd3786"
            ],
            [
             0.5555555555555556,
             "#d8576b"
            ],
            [
             0.6666666666666666,
             "#ed7953"
            ],
            [
             0.7777777777777778,
             "#fb9f3a"
            ],
            [
             0.8888888888888888,
             "#fdca26"
            ],
            [
             1,
             "#f0f921"
            ]
           ]
          },
          "colorway": [
           "#636efa",
           "#EF553B",
           "#00cc96",
           "#ab63fa",
           "#FFA15A",
           "#19d3f3",
           "#FF6692",
           "#B6E880",
           "#FF97FF",
           "#FECB52"
          ],
          "font": {
           "color": "#2a3f5f"
          },
          "geo": {
           "bgcolor": "white",
           "lakecolor": "white",
           "landcolor": "#E5ECF6",
           "showlakes": true,
           "showland": true,
           "subunitcolor": "white"
          },
          "hoverlabel": {
           "align": "left"
          },
          "hovermode": "closest",
          "mapbox": {
           "style": "light"
          },
          "paper_bgcolor": "white",
          "plot_bgcolor": "#E5ECF6",
          "polar": {
           "angularaxis": {
            "gridcolor": "white",
            "linecolor": "white",
            "ticks": ""
           },
           "bgcolor": "#E5ECF6",
           "radialaxis": {
            "gridcolor": "white",
            "linecolor": "white",
            "ticks": ""
           }
          },
          "scene": {
           "xaxis": {
            "backgroundcolor": "#E5ECF6",
            "gridcolor": "white",
            "gridwidth": 2,
            "linecolor": "white",
            "showbackground": true,
            "ticks": "",
            "zerolinecolor": "white"
           },
           "yaxis": {
            "backgroundcolor": "#E5ECF6",
            "gridcolor": "white",
            "gridwidth": 2,
            "linecolor": "white",
            "showbackground": true,
            "ticks": "",
            "zerolinecolor": "white"
           },
           "zaxis": {
            "backgroundcolor": "#E5ECF6",
            "gridcolor": "white",
            "gridwidth": 2,
            "linecolor": "white",
            "showbackground": true,
            "ticks": "",
            "zerolinecolor": "white"
           }
          },
          "shapedefaults": {
           "line": {
            "color": "#2a3f5f"
           }
          },
          "ternary": {
           "aaxis": {
            "gridcolor": "white",
            "linecolor": "white",
            "ticks": ""
           },
           "baxis": {
            "gridcolor": "white",
            "linecolor": "white",
            "ticks": ""
           },
           "bgcolor": "#E5ECF6",
           "caxis": {
            "gridcolor": "white",
            "linecolor": "white",
            "ticks": ""
           }
          },
          "title": {
           "x": 0.05
          },
          "xaxis": {
           "automargin": true,
           "gridcolor": "white",
           "linecolor": "white",
           "ticks": "",
           "title": {
            "standoff": 15
           },
           "zerolinecolor": "white",
           "zerolinewidth": 2
          },
          "yaxis": {
           "automargin": true,
           "gridcolor": "white",
           "linecolor": "white",
           "ticks": "",
           "title": {
            "standoff": 15
           },
           "zerolinecolor": "white",
           "zerolinewidth": 2
          }
         }
        },
        "title": {
         "text": "{Number of experiments:4}{Threshold Runs:1}"
        },
        "xaxis": {
         "anchor": "y",
         "domain": [
          0,
          1
         ],
         "title": {
          "text": "fp"
         }
        },
        "yaxis": {
         "anchor": "x",
         "domain": [
          0,
          1
         ],
         "title": {
          "text": "tp"
         }
        }
       }
      }
     },
     "metadata": {},
     "output_type": "display_data"
    },
    {
     "data": {
      "application/vnd.plotly.v1+json": {
       "config": {
        "plotlyServerURL": "https://plotly.com"
       },
       "data": [
        {
         "customdata": [
          [
           4,
           "2",
           0,
           0
          ],
          [
           4,
           "2",
           0.1,
           0.010000000000000002
          ],
          [
           4,
           "2",
           0.2,
           0.020000000000000004
          ],
          [
           4,
           "2",
           0.30000000000000004,
           0.030000000000000006
          ],
          [
           4,
           "2",
           0.4,
           0.04000000000000001
          ],
          [
           4,
           "2",
           0.5,
           0.05
          ],
          [
           4,
           "2",
           0.6000000000000001,
           0.06000000000000001
          ],
          [
           4,
           "2",
           0.7000000000000001,
           0.07
          ],
          [
           4,
           "2",
           0.8,
           0.08000000000000002
          ],
          [
           4,
           "2",
           0.9,
           0.09000000000000001
          ],
          [
           4,
           "2",
           1,
           0.1
          ]
         ],
         "hovertemplate": "k=0.1<br>fp=%{x}<br>tp=%{y}<br>n_exp=%{customdata[0]}<br>threshold_exp=%{customdata[1]}<br>p=%{customdata[2]}<br>r=%{customdata[3]}<extra></extra>",
         "legendgroup": "0.1",
         "line": {
          "color": "#636efa",
          "dash": "solid"
         },
         "marker": {
          "symbol": "circle"
         },
         "mode": "markers+lines",
         "name": "0.1",
         "orientation": "v",
         "showlegend": true,
         "type": "scatter",
         "x": [
          0,
          0.0005920300000000007,
          0.0023364800000000015,
          0.005186430000000005,
          0.00909568000000001,
          0.014018750000000009,
          0.019910880000000023,
          0.026728030000000024,
          0.034426880000000035,
          0.04296483000000005,
          0.05230000000000002
         ],
         "xaxis": "x",
         "y": [
          0,
          0.05230000000000002,
          0.1807999999999999,
          0.3483000000000001,
          0.5248000000000002,
          0.6875000000000001,
          0.8208000000000002,
          0.9163,
          0.9728000000000001,
          0.9963,
          1
         ],
         "yaxis": "y"
        },
        {
         "customdata": [
          [
           4,
           "2",
           0,
           0
          ],
          [
           4,
           "2",
           0.1,
           0.020000000000000004
          ],
          [
           4,
           "2",
           0.2,
           0.04000000000000001
          ],
          [
           4,
           "2",
           0.30000000000000004,
           0.06000000000000001
          ],
          [
           4,
           "2",
           0.4,
           0.08000000000000002
          ],
          [
           4,
           "2",
           0.5,
           0.1
          ],
          [
           4,
           "2",
           0.6000000000000001,
           0.12000000000000002
          ],
          [
           4,
           "2",
           0.7000000000000001,
           0.14
          ],
          [
           4,
           "2",
           0.8,
           0.16000000000000003
          ],
          [
           4,
           "2",
           0.9,
           0.18000000000000002
          ],
          [
           4,
           "2",
           1,
           0.2
          ]
         ],
         "hovertemplate": "k=0.2<br>fp=%{x}<br>tp=%{y}<br>n_exp=%{customdata[0]}<br>threshold_exp=%{customdata[1]}<br>p=%{customdata[2]}<br>r=%{customdata[3]}<extra></extra>",
         "legendgroup": "0.2",
         "line": {
          "color": "#EF553B",
          "dash": "solid"
         },
         "marker": {
          "symbol": "circle"
         },
         "mode": "markers+lines",
         "name": "0.2",
         "orientation": "v",
         "showlegend": true,
         "type": "scatter",
         "x": [
          0,
          0.0023364800000000015,
          0.00909568000000001,
          0.019910880000000023,
          0.034426880000000035,
          0.05230000000000002,
          0.07319808000000005,
          0.09680048000000002,
          0.1227980800000001,
          0.15089328000000002,
          0.1807999999999999
         ],
         "xaxis": "x",
         "y": [
          0,
          0.05230000000000002,
          0.1807999999999999,
          0.3483000000000001,
          0.5248000000000002,
          0.6875000000000001,
          0.8208000000000002,
          0.9163,
          0.9728000000000001,
          0.9963,
          1
         ],
         "yaxis": "y"
        },
        {
         "customdata": [
          [
           4,
           "2",
           0,
           0
          ],
          [
           4,
           "2",
           0.1,
           0.030000000000000006
          ],
          [
           4,
           "2",
           0.2,
           0.06000000000000001
          ],
          [
           4,
           "2",
           0.30000000000000004,
           0.09000000000000002
          ],
          [
           4,
           "2",
           0.4,
           0.12000000000000002
          ],
          [
           4,
           "2",
           0.5,
           0.15000000000000002
          ],
          [
           4,
           "2",
           0.6000000000000001,
           0.18000000000000005
          ],
          [
           4,
           "2",
           0.7000000000000001,
           0.21000000000000005
          ],
          [
           4,
           "2",
           0.8,
           0.24000000000000005
          ],
          [
           4,
           "2",
           0.9,
           0.2700000000000001
          ],
          [
           4,
           "2",
           1,
           0.30000000000000004
          ]
         ],
         "hovertemplate": "k=0.30000000000000004<br>fp=%{x}<br>tp=%{y}<br>n_exp=%{customdata[0]}<br>threshold_exp=%{customdata[1]}<br>p=%{customdata[2]}<br>r=%{customdata[3]}<extra></extra>",
         "legendgroup": "0.30000000000000004",
         "line": {
          "color": "#00cc96",
          "dash": "solid"
         },
         "marker": {
          "symbol": "circle"
         },
         "mode": "markers+lines",
         "name": "0.30000000000000004",
         "orientation": "v",
         "showlegend": true,
         "type": "scatter",
         "x": [
          0,
          0.005186430000000005,
          0.019910880000000023,
          0.04296483000000006,
          0.07319808000000005,
          0.1095187500000001,
          0.15089328000000013,
          0.19634643000000016,
          0.24496128000000028,
          0.29587923000000016,
          0.3483000000000001
         ],
         "xaxis": "x",
         "y": [
          0,
          0.05230000000000002,
          0.1807999999999999,
          0.3483000000000001,
          0.5248000000000002,
          0.6875000000000001,
          0.8208000000000002,
          0.9163,
          0.9728000000000001,
          0.9963,
          1
         ],
         "yaxis": "y"
        },
        {
         "customdata": [
          [
           4,
           "2",
           0,
           0
          ],
          [
           4,
           "2",
           0.1,
           0.04000000000000001
          ],
          [
           4,
           "2",
           0.2,
           0.08000000000000002
          ],
          [
           4,
           "2",
           0.30000000000000004,
           0.12000000000000002
          ],
          [
           4,
           "2",
           0.4,
           0.16000000000000003
          ],
          [
           4,
           "2",
           0.5,
           0.2
          ],
          [
           4,
           "2",
           0.6000000000000001,
           0.24000000000000005
          ],
          [
           4,
           "2",
           0.7000000000000001,
           0.28
          ],
          [
           4,
           "2",
           0.8,
           0.32000000000000006
          ],
          [
           4,
           "2",
           0.9,
           0.36000000000000004
          ],
          [
           4,
           "2",
           1,
           0.4
          ]
         ],
         "hovertemplate": "k=0.4<br>fp=%{x}<br>tp=%{y}<br>n_exp=%{customdata[0]}<br>threshold_exp=%{customdata[1]}<br>p=%{customdata[2]}<br>r=%{customdata[3]}<extra></extra>",
         "legendgroup": "0.4",
         "line": {
          "color": "#ab63fa",
          "dash": "solid"
         },
         "marker": {
          "symbol": "circle"
         },
         "mode": "markers+lines",
         "name": "0.4",
         "orientation": "v",
         "showlegend": true,
         "type": "scatter",
         "x": [
          0,
          0.00909568000000001,
          0.034426880000000035,
          0.07319808000000005,
          0.1227980800000001,
          0.1807999999999999,
          0.24496128000000028,
          0.3132236800000003,
          0.38371328000000027,
          0.4547404800000003,
          0.5248000000000002
         ],
         "xaxis": "x",
         "y": [
          0,
          0.05230000000000002,
          0.1807999999999999,
          0.3483000000000001,
          0.5248000000000002,
          0.6875000000000001,
          0.8208000000000002,
          0.9163,
          0.9728000000000001,
          0.9963,
          1
         ],
         "yaxis": "y"
        },
        {
         "customdata": [
          [
           4,
           "2",
           0,
           0
          ],
          [
           4,
           "2",
           0.1,
           0.05
          ],
          [
           4,
           "2",
           0.2,
           0.1
          ],
          [
           4,
           "2",
           0.30000000000000004,
           0.15000000000000002
          ],
          [
           4,
           "2",
           0.4,
           0.2
          ],
          [
           4,
           "2",
           0.5,
           0.25
          ],
          [
           4,
           "2",
           0.6000000000000001,
           0.30000000000000004
          ],
          [
           4,
           "2",
           0.7000000000000001,
           0.35000000000000003
          ],
          [
           4,
           "2",
           0.8,
           0.4
          ],
          [
           4,
           "2",
           0.9,
           0.45
          ],
          [
           4,
           "2",
           1,
           0.5
          ]
         ],
         "hovertemplate": "k=0.5<br>fp=%{x}<br>tp=%{y}<br>n_exp=%{customdata[0]}<br>threshold_exp=%{customdata[1]}<br>p=%{customdata[2]}<br>r=%{customdata[3]}<extra></extra>",
         "legendgroup": "0.5",
         "line": {
          "color": "#FFA15A",
          "dash": "solid"
         },
         "marker": {
          "symbol": "circle"
         },
         "mode": "markers+lines",
         "name": "0.5",
         "orientation": "v",
         "showlegend": true,
         "type": "scatter",
         "x": [
          0,
          0.014018750000000009,
          0.05230000000000002,
          0.1095187500000001,
          0.1807999999999999,
          0.2617187500000001,
          0.3483000000000001,
          0.4370187500000002,
          0.5248000000000002,
          0.60901875,
          0.6875000000000001
         ],
         "xaxis": "x",
         "y": [
          0,
          0.05230000000000002,
          0.1807999999999999,
          0.3483000000000001,
          0.5248000000000002,
          0.6875000000000001,
          0.8208000000000002,
          0.9163,
          0.9728000000000001,
          0.9963,
          1
         ],
         "yaxis": "y"
        },
        {
         "customdata": [
          [
           4,
           "2",
           0,
           0
          ],
          [
           4,
           "2",
           0.1,
           0.06
          ],
          [
           4,
           "2",
           0.2,
           0.12
          ],
          [
           4,
           "2",
           0.30000000000000004,
           0.18000000000000002
          ],
          [
           4,
           "2",
           0.4,
           0.24
          ],
          [
           4,
           "2",
           0.5,
           0.3
          ],
          [
           4,
           "2",
           0.6000000000000001,
           0.36000000000000004
          ],
          [
           4,
           "2",
           0.7000000000000001,
           0.42000000000000004
          ],
          [
           4,
           "2",
           0.8,
           0.48
          ],
          [
           4,
           "2",
           0.9,
           0.54
          ],
          [
           4,
           "2",
           1,
           0.6
          ]
         ],
         "hovertemplate": "k=0.6<br>fp=%{x}<br>tp=%{y}<br>n_exp=%{customdata[0]}<br>threshold_exp=%{customdata[1]}<br>p=%{customdata[2]}<br>r=%{customdata[3]}<extra></extra>",
         "legendgroup": "0.6",
         "line": {
          "color": "#19d3f3",
          "dash": "solid"
         },
         "marker": {
          "symbol": "circle"
         },
         "mode": "markers+lines",
         "name": "0.6",
         "orientation": "v",
         "showlegend": true,
         "type": "scatter",
         "x": [
          0,
          0.019910880000000013,
          0.07319808000000007,
          0.15089328000000002,
          0.24496128000000011,
          0.34830000000000017,
          0.4547404800000003,
          0.55904688,
          0.65691648,
          0.7449796800000001,
          0.8208
         ],
         "xaxis": "x",
         "y": [
          0,
          0.05230000000000002,
          0.1807999999999999,
          0.3483000000000001,
          0.5248000000000002,
          0.6875000000000001,
          0.8208000000000002,
          0.9163,
          0.9728000000000001,
          0.9963,
          1
         ],
         "yaxis": "y"
        },
        {
         "customdata": [
          [
           4,
           "2",
           0,
           0
          ],
          [
           4,
           "2",
           0.1,
           0.07
          ],
          [
           4,
           "2",
           0.2,
           0.14
          ],
          [
           4,
           "2",
           0.30000000000000004,
           0.21000000000000005
          ],
          [
           4,
           "2",
           0.4,
           0.28
          ],
          [
           4,
           "2",
           0.5,
           0.35000000000000003
          ],
          [
           4,
           "2",
           0.6000000000000001,
           0.4200000000000001
          ],
          [
           4,
           "2",
           0.7000000000000001,
           0.4900000000000001
          ],
          [
           4,
           "2",
           0.8,
           0.56
          ],
          [
           4,
           "2",
           0.9,
           0.6300000000000001
          ],
          [
           4,
           "2",
           1,
           0.7000000000000001
          ]
         ],
         "hovertemplate": "k=0.7000000000000001<br>fp=%{x}<br>tp=%{y}<br>n_exp=%{customdata[0]}<br>threshold_exp=%{customdata[1]}<br>p=%{customdata[2]}<br>r=%{customdata[3]}<extra></extra>",
         "legendgroup": "0.7000000000000001",
         "line": {
          "color": "#FF6692",
          "dash": "solid"
         },
         "marker": {
          "symbol": "circle"
         },
         "mode": "markers+lines",
         "name": "0.7000000000000001",
         "orientation": "v",
         "showlegend": true,
         "type": "scatter",
         "x": [
          0,
          0.026728030000000024,
          0.09680048000000002,
          0.19634643000000016,
          0.3132236800000003,
          0.4370187500000002,
          0.5590468800000004,
          0.6723520300000003,
          0.7717068800000001,
          0.8536128300000001,
          0.9163
         ],
         "xaxis": "x",
         "y": [
          0,
          0.05230000000000002,
          0.1807999999999999,
          0.3483000000000001,
          0.5248000000000002,
          0.6875000000000001,
          0.8208000000000002,
          0.9163,
          0.9728000000000001,
          0.9963,
          1
         ],
         "yaxis": "y"
        },
        {
         "customdata": [
          [
           4,
           "2",
           0,
           0
          ],
          [
           4,
           "2",
           0.1,
           0.08000000000000002
          ],
          [
           4,
           "2",
           0.2,
           0.16000000000000003
          ],
          [
           4,
           "2",
           0.30000000000000004,
           0.24000000000000005
          ],
          [
           4,
           "2",
           0.4,
           0.32000000000000006
          ],
          [
           4,
           "2",
           0.5,
           0.4
          ],
          [
           4,
           "2",
           0.6000000000000001,
           0.4800000000000001
          ],
          [
           4,
           "2",
           0.7000000000000001,
           0.56
          ],
          [
           4,
           "2",
           0.8,
           0.6400000000000001
          ],
          [
           4,
           "2",
           0.9,
           0.7200000000000001
          ],
          [
           4,
           "2",
           1,
           0.8
          ]
         ],
         "hovertemplate": "k=0.8<br>fp=%{x}<br>tp=%{y}<br>n_exp=%{customdata[0]}<br>threshold_exp=%{customdata[1]}<br>p=%{customdata[2]}<br>r=%{customdata[3]}<extra></extra>",
         "legendgroup": "0.8",
         "line": {
          "color": "#B6E880",
          "dash": "solid"
         },
         "marker": {
          "symbol": "circle"
         },
         "mode": "markers+lines",
         "name": "0.8",
         "orientation": "v",
         "showlegend": true,
         "type": "scatter",
         "x": [
          0,
          0.034426880000000035,
          0.1227980800000001,
          0.24496128000000028,
          0.38371328000000027,
          0.5248000000000002,
          0.6569164800000002,
          0.7717068800000001,
          0.8637644800000002,
          0.9306316800000001,
          0.9728000000000001
         ],
         "xaxis": "x",
         "y": [
          0,
          0.05230000000000002,
          0.1807999999999999,
          0.3483000000000001,
          0.5248000000000002,
          0.6875000000000001,
          0.8208000000000002,
          0.9163,
          0.9728000000000001,
          0.9963,
          1
         ],
         "yaxis": "y"
        },
        {
         "customdata": [
          [
           4,
           "2",
           0,
           0
          ],
          [
           4,
           "2",
           0.1,
           0.09000000000000001
          ],
          [
           4,
           "2",
           0.2,
           0.18000000000000002
          ],
          [
           4,
           "2",
           0.30000000000000004,
           0.2700000000000001
          ],
          [
           4,
           "2",
           0.4,
           0.36000000000000004
          ],
          [
           4,
           "2",
           0.5,
           0.45
          ],
          [
           4,
           "2",
           0.6000000000000001,
           0.5400000000000001
          ],
          [
           4,
           "2",
           0.7000000000000001,
           0.6300000000000001
          ],
          [
           4,
           "2",
           0.8,
           0.7200000000000001
          ],
          [
           4,
           "2",
           0.9,
           0.81
          ],
          [
           4,
           "2",
           1,
           0.9
          ]
         ],
         "hovertemplate": "k=0.9<br>fp=%{x}<br>tp=%{y}<br>n_exp=%{customdata[0]}<br>threshold_exp=%{customdata[1]}<br>p=%{customdata[2]}<br>r=%{customdata[3]}<extra></extra>",
         "legendgroup": "0.9",
         "line": {
          "color": "#FF97FF",
          "dash": "solid"
         },
         "marker": {
          "symbol": "circle"
         },
         "mode": "markers+lines",
         "name": "0.9",
         "orientation": "v",
         "showlegend": true,
         "type": "scatter",
         "x": [
          0,
          0.04296483000000005,
          0.15089328000000002,
          0.29587923000000016,
          0.4547404800000003,
          0.60901875,
          0.7449796800000003,
          0.8536128300000001,
          0.9306316800000001,
          0.9764736300000001,
          0.9963
         ],
         "xaxis": "x",
         "y": [
          0,
          0.05230000000000002,
          0.1807999999999999,
          0.3483000000000001,
          0.5248000000000002,
          0.6875000000000001,
          0.8208000000000002,
          0.9163,
          0.9728000000000001,
          0.9963,
          1
         ],
         "yaxis": "y"
        },
        {
         "customdata": [
          [
           4,
           "2",
           0,
           0
          ],
          [
           4,
           "2",
           0.1,
           0.1
          ],
          [
           4,
           "2",
           0.2,
           0.2
          ],
          [
           4,
           "2",
           0.30000000000000004,
           0.30000000000000004
          ],
          [
           4,
           "2",
           0.4,
           0.4
          ],
          [
           4,
           "2",
           0.5,
           0.5
          ],
          [
           4,
           "2",
           0.6000000000000001,
           0.6000000000000001
          ],
          [
           4,
           "2",
           0.7000000000000001,
           0.7000000000000001
          ],
          [
           4,
           "2",
           0.8,
           0.8
          ],
          [
           4,
           "2",
           0.9,
           0.9
          ],
          [
           4,
           "2",
           1,
           1
          ]
         ],
         "hovertemplate": "k=1.0<br>fp=%{x}<br>tp=%{y}<br>n_exp=%{customdata[0]}<br>threshold_exp=%{customdata[1]}<br>p=%{customdata[2]}<br>r=%{customdata[3]}<extra></extra>",
         "legendgroup": "1.0",
         "line": {
          "color": "#FECB52",
          "dash": "solid"
         },
         "marker": {
          "symbol": "circle"
         },
         "mode": "markers+lines",
         "name": "1.0",
         "orientation": "v",
         "showlegend": true,
         "type": "scatter",
         "x": [
          0,
          0.05230000000000002,
          0.1807999999999999,
          0.3483000000000001,
          0.5248000000000002,
          0.6875000000000001,
          0.8208000000000002,
          0.9163,
          0.9728000000000001,
          0.9963,
          1
         ],
         "xaxis": "x",
         "y": [
          0,
          0.05230000000000002,
          0.1807999999999999,
          0.3483000000000001,
          0.5248000000000002,
          0.6875000000000001,
          0.8208000000000002,
          0.9163,
          0.9728000000000001,
          0.9963,
          1
         ],
         "yaxis": "y"
        }
       ],
       "layout": {
        "legend": {
         "title": {
          "text": "k"
         },
         "tracegroupgap": 0
        },
        "margin": {
         "t": 60
        },
        "template": {
         "data": {
          "bar": [
           {
            "error_x": {
             "color": "#2a3f5f"
            },
            "error_y": {
             "color": "#2a3f5f"
            },
            "marker": {
             "line": {
              "color": "#E5ECF6",
              "width": 0.5
             },
             "pattern": {
              "fillmode": "overlay",
              "size": 10,
              "solidity": 0.2
             }
            },
            "type": "bar"
           }
          ],
          "barpolar": [
           {
            "marker": {
             "line": {
              "color": "#E5ECF6",
              "width": 0.5
             },
             "pattern": {
              "fillmode": "overlay",
              "size": 10,
              "solidity": 0.2
             }
            },
            "type": "barpolar"
           }
          ],
          "carpet": [
           {
            "aaxis": {
             "endlinecolor": "#2a3f5f",
             "gridcolor": "white",
             "linecolor": "white",
             "minorgridcolor": "white",
             "startlinecolor": "#2a3f5f"
            },
            "baxis": {
             "endlinecolor": "#2a3f5f",
             "gridcolor": "white",
             "linecolor": "white",
             "minorgridcolor": "white",
             "startlinecolor": "#2a3f5f"
            },
            "type": "carpet"
           }
          ],
          "choropleth": [
           {
            "colorbar": {
             "outlinewidth": 0,
             "ticks": ""
            },
            "type": "choropleth"
           }
          ],
          "contour": [
           {
            "colorbar": {
             "outlinewidth": 0,
             "ticks": ""
            },
            "colorscale": [
             [
              0,
              "#0d0887"
             ],
             [
              0.1111111111111111,
              "#46039f"
             ],
             [
              0.2222222222222222,
              "#7201a8"
             ],
             [
              0.3333333333333333,
              "#9c179e"
             ],
             [
              0.4444444444444444,
              "#bd3786"
             ],
             [
              0.5555555555555556,
              "#d8576b"
             ],
             [
              0.6666666666666666,
              "#ed7953"
             ],
             [
              0.7777777777777778,
              "#fb9f3a"
             ],
             [
              0.8888888888888888,
              "#fdca26"
             ],
             [
              1,
              "#f0f921"
             ]
            ],
            "type": "contour"
           }
          ],
          "contourcarpet": [
           {
            "colorbar": {
             "outlinewidth": 0,
             "ticks": ""
            },
            "type": "contourcarpet"
           }
          ],
          "heatmap": [
           {
            "colorbar": {
             "outlinewidth": 0,
             "ticks": ""
            },
            "colorscale": [
             [
              0,
              "#0d0887"
             ],
             [
              0.1111111111111111,
              "#46039f"
             ],
             [
              0.2222222222222222,
              "#7201a8"
             ],
             [
              0.3333333333333333,
              "#9c179e"
             ],
             [
              0.4444444444444444,
              "#bd3786"
             ],
             [
              0.5555555555555556,
              "#d8576b"
             ],
             [
              0.6666666666666666,
              "#ed7953"
             ],
             [
              0.7777777777777778,
              "#fb9f3a"
             ],
             [
              0.8888888888888888,
              "#fdca26"
             ],
             [
              1,
              "#f0f921"
             ]
            ],
            "type": "heatmap"
           }
          ],
          "heatmapgl": [
           {
            "colorbar": {
             "outlinewidth": 0,
             "ticks": ""
            },
            "colorscale": [
             [
              0,
              "#0d0887"
             ],
             [
              0.1111111111111111,
              "#46039f"
             ],
             [
              0.2222222222222222,
              "#7201a8"
             ],
             [
              0.3333333333333333,
              "#9c179e"
             ],
             [
              0.4444444444444444,
              "#bd3786"
             ],
             [
              0.5555555555555556,
              "#d8576b"
             ],
             [
              0.6666666666666666,
              "#ed7953"
             ],
             [
              0.7777777777777778,
              "#fb9f3a"
             ],
             [
              0.8888888888888888,
              "#fdca26"
             ],
             [
              1,
              "#f0f921"
             ]
            ],
            "type": "heatmapgl"
           }
          ],
          "histogram": [
           {
            "marker": {
             "pattern": {
              "fillmode": "overlay",
              "size": 10,
              "solidity": 0.2
             }
            },
            "type": "histogram"
           }
          ],
          "histogram2d": [
           {
            "colorbar": {
             "outlinewidth": 0,
             "ticks": ""
            },
            "colorscale": [
             [
              0,
              "#0d0887"
             ],
             [
              0.1111111111111111,
              "#46039f"
             ],
             [
              0.2222222222222222,
              "#7201a8"
             ],
             [
              0.3333333333333333,
              "#9c179e"
             ],
             [
              0.4444444444444444,
              "#bd3786"
             ],
             [
              0.5555555555555556,
              "#d8576b"
             ],
             [
              0.6666666666666666,
              "#ed7953"
             ],
             [
              0.7777777777777778,
              "#fb9f3a"
             ],
             [
              0.8888888888888888,
              "#fdca26"
             ],
             [
              1,
              "#f0f921"
             ]
            ],
            "type": "histogram2d"
           }
          ],
          "histogram2dcontour": [
           {
            "colorbar": {
             "outlinewidth": 0,
             "ticks": ""
            },
            "colorscale": [
             [
              0,
              "#0d0887"
             ],
             [
              0.1111111111111111,
              "#46039f"
             ],
             [
              0.2222222222222222,
              "#7201a8"
             ],
             [
              0.3333333333333333,
              "#9c179e"
             ],
             [
              0.4444444444444444,
              "#bd3786"
             ],
             [
              0.5555555555555556,
              "#d8576b"
             ],
             [
              0.6666666666666666,
              "#ed7953"
             ],
             [
              0.7777777777777778,
              "#fb9f3a"
             ],
             [
              0.8888888888888888,
              "#fdca26"
             ],
             [
              1,
              "#f0f921"
             ]
            ],
            "type": "histogram2dcontour"
           }
          ],
          "mesh3d": [
           {
            "colorbar": {
             "outlinewidth": 0,
             "ticks": ""
            },
            "type": "mesh3d"
           }
          ],
          "parcoords": [
           {
            "line": {
             "colorbar": {
              "outlinewidth": 0,
              "ticks": ""
             }
            },
            "type": "parcoords"
           }
          ],
          "pie": [
           {
            "automargin": true,
            "type": "pie"
           }
          ],
          "scatter": [
           {
            "fillpattern": {
             "fillmode": "overlay",
             "size": 10,
             "solidity": 0.2
            },
            "type": "scatter"
           }
          ],
          "scatter3d": [
           {
            "line": {
             "colorbar": {
              "outlinewidth": 0,
              "ticks": ""
             }
            },
            "marker": {
             "colorbar": {
              "outlinewidth": 0,
              "ticks": ""
             }
            },
            "type": "scatter3d"
           }
          ],
          "scattercarpet": [
           {
            "marker": {
             "colorbar": {
              "outlinewidth": 0,
              "ticks": ""
             }
            },
            "type": "scattercarpet"
           }
          ],
          "scattergeo": [
           {
            "marker": {
             "colorbar": {
              "outlinewidth": 0,
              "ticks": ""
             }
            },
            "type": "scattergeo"
           }
          ],
          "scattergl": [
           {
            "marker": {
             "colorbar": {
              "outlinewidth": 0,
              "ticks": ""
             }
            },
            "type": "scattergl"
           }
          ],
          "scattermapbox": [
           {
            "marker": {
             "colorbar": {
              "outlinewidth": 0,
              "ticks": ""
             }
            },
            "type": "scattermapbox"
           }
          ],
          "scatterpolar": [
           {
            "marker": {
             "colorbar": {
              "outlinewidth": 0,
              "ticks": ""
             }
            },
            "type": "scatterpolar"
           }
          ],
          "scatterpolargl": [
           {
            "marker": {
             "colorbar": {
              "outlinewidth": 0,
              "ticks": ""
             }
            },
            "type": "scatterpolargl"
           }
          ],
          "scatterternary": [
           {
            "marker": {
             "colorbar": {
              "outlinewidth": 0,
              "ticks": ""
             }
            },
            "type": "scatterternary"
           }
          ],
          "surface": [
           {
            "colorbar": {
             "outlinewidth": 0,
             "ticks": ""
            },
            "colorscale": [
             [
              0,
              "#0d0887"
             ],
             [
              0.1111111111111111,
              "#46039f"
             ],
             [
              0.2222222222222222,
              "#7201a8"
             ],
             [
              0.3333333333333333,
              "#9c179e"
             ],
             [
              0.4444444444444444,
              "#bd3786"
             ],
             [
              0.5555555555555556,
              "#d8576b"
             ],
             [
              0.6666666666666666,
              "#ed7953"
             ],
             [
              0.7777777777777778,
              "#fb9f3a"
             ],
             [
              0.8888888888888888,
              "#fdca26"
             ],
             [
              1,
              "#f0f921"
             ]
            ],
            "type": "surface"
           }
          ],
          "table": [
           {
            "cells": {
             "fill": {
              "color": "#EBF0F8"
             },
             "line": {
              "color": "white"
             }
            },
            "header": {
             "fill": {
              "color": "#C8D4E3"
             },
             "line": {
              "color": "white"
             }
            },
            "type": "table"
           }
          ]
         },
         "layout": {
          "annotationdefaults": {
           "arrowcolor": "#2a3f5f",
           "arrowhead": 0,
           "arrowwidth": 1
          },
          "autotypenumbers": "strict",
          "coloraxis": {
           "colorbar": {
            "outlinewidth": 0,
            "ticks": ""
           }
          },
          "colorscale": {
           "diverging": [
            [
             0,
             "#8e0152"
            ],
            [
             0.1,
             "#c51b7d"
            ],
            [
             0.2,
             "#de77ae"
            ],
            [
             0.3,
             "#f1b6da"
            ],
            [
             0.4,
             "#fde0ef"
            ],
            [
             0.5,
             "#f7f7f7"
            ],
            [
             0.6,
             "#e6f5d0"
            ],
            [
             0.7,
             "#b8e186"
            ],
            [
             0.8,
             "#7fbc41"
            ],
            [
             0.9,
             "#4d9221"
            ],
            [
             1,
             "#276419"
            ]
           ],
           "sequential": [
            [
             0,
             "#0d0887"
            ],
            [
             0.1111111111111111,
             "#46039f"
            ],
            [
             0.2222222222222222,
             "#7201a8"
            ],
            [
             0.3333333333333333,
             "#9c179e"
            ],
            [
             0.4444444444444444,
             "#bd3786"
            ],
            [
             0.5555555555555556,
             "#d8576b"
            ],
            [
             0.6666666666666666,
             "#ed7953"
            ],
            [
             0.7777777777777778,
             "#fb9f3a"
            ],
            [
             0.8888888888888888,
             "#fdca26"
            ],
            [
             1,
             "#f0f921"
            ]
           ],
           "sequentialminus": [
            [
             0,
             "#0d0887"
            ],
            [
             0.1111111111111111,
             "#46039f"
            ],
            [
             0.2222222222222222,
             "#7201a8"
            ],
            [
             0.3333333333333333,
             "#9c179e"
            ],
            [
             0.4444444444444444,
             "#bd3786"
            ],
            [
             0.5555555555555556,
             "#d8576b"
            ],
            [
             0.6666666666666666,
             "#ed7953"
            ],
            [
             0.7777777777777778,
             "#fb9f3a"
            ],
            [
             0.8888888888888888,
             "#fdca26"
            ],
            [
             1,
             "#f0f921"
            ]
           ]
          },
          "colorway": [
           "#636efa",
           "#EF553B",
           "#00cc96",
           "#ab63fa",
           "#FFA15A",
           "#19d3f3",
           "#FF6692",
           "#B6E880",
           "#FF97FF",
           "#FECB52"
          ],
          "font": {
           "color": "#2a3f5f"
          },
          "geo": {
           "bgcolor": "white",
           "lakecolor": "white",
           "landcolor": "#E5ECF6",
           "showlakes": true,
           "showland": true,
           "subunitcolor": "white"
          },
          "hoverlabel": {
           "align": "left"
          },
          "hovermode": "closest",
          "mapbox": {
           "style": "light"
          },
          "paper_bgcolor": "white",
          "plot_bgcolor": "#E5ECF6",
          "polar": {
           "angularaxis": {
            "gridcolor": "white",
            "linecolor": "white",
            "ticks": ""
           },
           "bgcolor": "#E5ECF6",
           "radialaxis": {
            "gridcolor": "white",
            "linecolor": "white",
            "ticks": ""
           }
          },
          "scene": {
           "xaxis": {
            "backgroundcolor": "#E5ECF6",
            "gridcolor": "white",
            "gridwidth": 2,
            "linecolor": "white",
            "showbackground": true,
            "ticks": "",
            "zerolinecolor": "white"
           },
           "yaxis": {
            "backgroundcolor": "#E5ECF6",
            "gridcolor": "white",
            "gridwidth": 2,
            "linecolor": "white",
            "showbackground": true,
            "ticks": "",
            "zerolinecolor": "white"
           },
           "zaxis": {
            "backgroundcolor": "#E5ECF6",
            "gridcolor": "white",
            "gridwidth": 2,
            "linecolor": "white",
            "showbackground": true,
            "ticks": "",
            "zerolinecolor": "white"
           }
          },
          "shapedefaults": {
           "line": {
            "color": "#2a3f5f"
           }
          },
          "ternary": {
           "aaxis": {
            "gridcolor": "white",
            "linecolor": "white",
            "ticks": ""
           },
           "baxis": {
            "gridcolor": "white",
            "linecolor": "white",
            "ticks": ""
           },
           "bgcolor": "#E5ECF6",
           "caxis": {
            "gridcolor": "white",
            "linecolor": "white",
            "ticks": ""
           }
          },
          "title": {
           "x": 0.05
          },
          "xaxis": {
           "automargin": true,
           "gridcolor": "white",
           "linecolor": "white",
           "ticks": "",
           "title": {
            "standoff": 15
           },
           "zerolinecolor": "white",
           "zerolinewidth": 2
          },
          "yaxis": {
           "automargin": true,
           "gridcolor": "white",
           "linecolor": "white",
           "ticks": "",
           "title": {
            "standoff": 15
           },
           "zerolinecolor": "white",
           "zerolinewidth": 2
          }
         }
        },
        "title": {
         "text": "{Number of experiments:4}{Threshold Runs:2}"
        },
        "xaxis": {
         "anchor": "y",
         "domain": [
          0,
          1
         ],
         "title": {
          "text": "fp"
         }
        },
        "yaxis": {
         "anchor": "x",
         "domain": [
          0,
          1
         ],
         "title": {
          "text": "tp"
         }
        }
       }
      }
     },
     "metadata": {},
     "output_type": "display_data"
    },
    {
     "data": {
      "application/vnd.plotly.v1+json": {
       "config": {
        "plotlyServerURL": "https://plotly.com"
       },
       "data": [
        {
         "customdata": [
          [
           4,
           "3",
           0,
           0
          ],
          [
           4,
           "3",
           0.1,
           0.010000000000000002
          ],
          [
           4,
           "3",
           0.2,
           0.020000000000000004
          ],
          [
           4,
           "3",
           0.30000000000000004,
           0.030000000000000006
          ],
          [
           4,
           "3",
           0.4,
           0.04000000000000001
          ],
          [
           4,
           "3",
           0.5,
           0.05
          ],
          [
           4,
           "3",
           0.6000000000000001,
           0.06000000000000001
          ],
          [
           4,
           "3",
           0.7000000000000001,
           0.07
          ],
          [
           4,
           "3",
           0.8,
           0.08000000000000002
          ],
          [
           4,
           "3",
           0.9,
           0.09000000000000001
          ],
          [
           4,
           "3",
           1,
           0.1
          ]
         ],
         "hovertemplate": "k=0.1<br>fp=%{x}<br>tp=%{y}<br>n_exp=%{customdata[0]}<br>threshold_exp=%{customdata[1]}<br>p=%{customdata[2]}<br>r=%{customdata[3]}<extra></extra>",
         "legendgroup": "0.1",
         "line": {
          "color": "#636efa",
          "dash": "solid"
         },
         "marker": {
          "symbol": "circle"
         },
         "mode": "markers+lines",
         "name": "0.1",
         "orientation": "v",
         "showlegend": true,
         "type": "scatter",
         "x": [
          0,
          0.000003970000000000002,
          0.00003152000000000002,
          0.00010557000000000001,
          0.00024832000000000006,
          0.00048125000000000007,
          0.0008251200000000002,
          0.0012999700000000006,
          0.001925120000000001,
          0.002719170000000001,
          0.0036999999999999997
         ],
         "xaxis": "x",
         "y": [
          0,
          0.0036999999999999997,
          0.02719999999999999,
          0.08370000000000004,
          0.17919999999999997,
          0.3125,
          0.4752000000000002,
          0.6517,
          0.8192000000000002,
          0.9477,
          1
         ],
         "yaxis": "y"
        },
        {
         "customdata": [
          [
           4,
           "3",
           0,
           0
          ],
          [
           4,
           "3",
           0.1,
           0.020000000000000004
          ],
          [
           4,
           "3",
           0.2,
           0.04000000000000001
          ],
          [
           4,
           "3",
           0.30000000000000004,
           0.06000000000000001
          ],
          [
           4,
           "3",
           0.4,
           0.08000000000000002
          ],
          [
           4,
           "3",
           0.5,
           0.1
          ],
          [
           4,
           "3",
           0.6000000000000001,
           0.12000000000000002
          ],
          [
           4,
           "3",
           0.7000000000000001,
           0.14
          ],
          [
           4,
           "3",
           0.8,
           0.16000000000000003
          ],
          [
           4,
           "3",
           0.9,
           0.18000000000000002
          ],
          [
           4,
           "3",
           1,
           0.2
          ]
         ],
         "hovertemplate": "k=0.2<br>fp=%{x}<br>tp=%{y}<br>n_exp=%{customdata[0]}<br>threshold_exp=%{customdata[1]}<br>p=%{customdata[2]}<br>r=%{customdata[3]}<extra></extra>",
         "legendgroup": "0.2",
         "line": {
          "color": "#EF553B",
          "dash": "solid"
         },
         "marker": {
          "symbol": "circle"
         },
         "mode": "markers+lines",
         "name": "0.2",
         "orientation": "v",
         "showlegend": true,
         "type": "scatter",
         "x": [
          0,
          0.00003152000000000002,
          0.00024832000000000006,
          0.0008251200000000002,
          0.001925120000000001,
          0.0036999999999999997,
          0.00628992,
          0.009823520000000004,
          0.014417920000000004,
          0.020178720000000015,
          0.02719999999999999
         ],
         "xaxis": "x",
         "y": [
          0,
          0.0036999999999999997,
          0.02719999999999999,
          0.08370000000000004,
          0.17919999999999997,
          0.3125,
          0.4752000000000002,
          0.6517,
          0.8192000000000002,
          0.9477,
          1
         ],
         "yaxis": "y"
        },
        {
         "customdata": [
          [
           4,
           "3",
           0,
           0
          ],
          [
           4,
           "3",
           0.1,
           0.030000000000000006
          ],
          [
           4,
           "3",
           0.2,
           0.06000000000000001
          ],
          [
           4,
           "3",
           0.30000000000000004,
           0.09000000000000002
          ],
          [
           4,
           "3",
           0.4,
           0.12000000000000002
          ],
          [
           4,
           "3",
           0.5,
           0.15000000000000002
          ],
          [
           4,
           "3",
           0.6000000000000001,
           0.18000000000000005
          ],
          [
           4,
           "3",
           0.7000000000000001,
           0.21000000000000005
          ],
          [
           4,
           "3",
           0.8,
           0.24000000000000005
          ],
          [
           4,
           "3",
           0.9,
           0.2700000000000001
          ],
          [
           4,
           "3",
           1,
           0.30000000000000004
          ]
         ],
         "hovertemplate": "k=0.30000000000000004<br>fp=%{x}<br>tp=%{y}<br>n_exp=%{customdata[0]}<br>threshold_exp=%{customdata[1]}<br>p=%{customdata[2]}<br>r=%{customdata[3]}<extra></extra>",
         "legendgroup": "0.30000000000000004",
         "line": {
          "color": "#00cc96",
          "dash": "solid"
         },
         "marker": {
          "symbol": "circle"
         },
         "mode": "markers+lines",
         "name": "0.30000000000000004",
         "orientation": "v",
         "showlegend": true,
         "type": "scatter",
         "x": [
          0,
          0.00010557000000000001,
          0.0008251200000000002,
          0.002719170000000002,
          0.00628992,
          0.011981250000000002,
          0.02017872000000001,
          0.03120957000000002,
          0.04534271999999999,
          0.06278877000000004,
          0.08370000000000004
         ],
         "xaxis": "x",
         "y": [
          0,
          0.0036999999999999997,
          0.02719999999999999,
          0.08370000000000004,
          0.17919999999999997,
          0.3125,
          0.4752000000000002,
          0.6517,
          0.8192000000000002,
          0.9477,
          1
         ],
         "yaxis": "y"
        },
        {
         "customdata": [
          [
           4,
           "3",
           0,
           0
          ],
          [
           4,
           "3",
           0.1,
           0.04000000000000001
          ],
          [
           4,
           "3",
           0.2,
           0.08000000000000002
          ],
          [
           4,
           "3",
           0.30000000000000004,
           0.12000000000000002
          ],
          [
           4,
           "3",
           0.4,
           0.16000000000000003
          ],
          [
           4,
           "3",
           0.5,
           0.2
          ],
          [
           4,
           "3",
           0.6000000000000001,
           0.24000000000000005
          ],
          [
           4,
           "3",
           0.7000000000000001,
           0.28
          ],
          [
           4,
           "3",
           0.8,
           0.32000000000000006
          ],
          [
           4,
           "3",
           0.9,
           0.36000000000000004
          ],
          [
           4,
           "3",
           1,
           0.4
          ]
         ],
         "hovertemplate": "k=0.4<br>fp=%{x}<br>tp=%{y}<br>n_exp=%{customdata[0]}<br>threshold_exp=%{customdata[1]}<br>p=%{customdata[2]}<br>r=%{customdata[3]}<extra></extra>",
         "legendgroup": "0.4",
         "line": {
          "color": "#ab63fa",
          "dash": "solid"
         },
         "marker": {
          "symbol": "circle"
         },
         "mode": "markers+lines",
         "name": "0.4",
         "orientation": "v",
         "showlegend": true,
         "type": "scatter",
         "x": [
          0,
          0.00024832000000000006,
          0.001925120000000001,
          0.00628992,
          0.014417920000000004,
          0.02719999999999999,
          0.04534271999999999,
          0.06936832000000001,
          0.09961472000000003,
          0.13623552000000008,
          0.17919999999999997
         ],
         "xaxis": "x",
         "y": [
          0,
          0.0036999999999999997,
          0.02719999999999999,
          0.08370000000000004,
          0.17919999999999997,
          0.3125,
          0.4752000000000002,
          0.6517,
          0.8192000000000002,
          0.9477,
          1
         ],
         "yaxis": "y"
        },
        {
         "customdata": [
          [
           4,
           "3",
           0,
           0
          ],
          [
           4,
           "3",
           0.1,
           0.05
          ],
          [
           4,
           "3",
           0.2,
           0.1
          ],
          [
           4,
           "3",
           0.30000000000000004,
           0.15000000000000002
          ],
          [
           4,
           "3",
           0.4,
           0.2
          ],
          [
           4,
           "3",
           0.5,
           0.25
          ],
          [
           4,
           "3",
           0.6000000000000001,
           0.30000000000000004
          ],
          [
           4,
           "3",
           0.7000000000000001,
           0.35000000000000003
          ],
          [
           4,
           "3",
           0.8,
           0.4
          ],
          [
           4,
           "3",
           0.9,
           0.45
          ],
          [
           4,
           "3",
           1,
           0.5
          ]
         ],
         "hovertemplate": "k=0.5<br>fp=%{x}<br>tp=%{y}<br>n_exp=%{customdata[0]}<br>threshold_exp=%{customdata[1]}<br>p=%{customdata[2]}<br>r=%{customdata[3]}<extra></extra>",
         "legendgroup": "0.5",
         "line": {
          "color": "#FFA15A",
          "dash": "solid"
         },
         "marker": {
          "symbol": "circle"
         },
         "mode": "markers+lines",
         "name": "0.5",
         "orientation": "v",
         "showlegend": true,
         "type": "scatter",
         "x": [
          0,
          0.00048125000000000007,
          0.0036999999999999997,
          0.011981250000000002,
          0.02719999999999999,
          0.05078125,
          0.08370000000000004,
          0.12648125000000002,
          0.17919999999999997,
          0.2414812499999999,
          0.3125
         ],
         "xaxis": "x",
         "y": [
          0,
          0.0036999999999999997,
          0.02719999999999999,
          0.08370000000000004,
          0.17919999999999997,
          0.3125,
          0.4752000000000002,
          0.6517,
          0.8192000000000002,
          0.9477,
          1
         ],
         "yaxis": "y"
        },
        {
         "customdata": [
          [
           4,
           "3",
           0,
           0
          ],
          [
           4,
           "3",
           0.1,
           0.06
          ],
          [
           4,
           "3",
           0.2,
           0.12
          ],
          [
           4,
           "3",
           0.30000000000000004,
           0.18000000000000002
          ],
          [
           4,
           "3",
           0.4,
           0.24
          ],
          [
           4,
           "3",
           0.5,
           0.3
          ],
          [
           4,
           "3",
           0.6000000000000001,
           0.36000000000000004
          ],
          [
           4,
           "3",
           0.7000000000000001,
           0.42000000000000004
          ],
          [
           4,
           "3",
           0.8,
           0.48
          ],
          [
           4,
           "3",
           0.9,
           0.54
          ],
          [
           4,
           "3",
           1,
           0.6
          ]
         ],
         "hovertemplate": "k=0.6<br>fp=%{x}<br>tp=%{y}<br>n_exp=%{customdata[0]}<br>threshold_exp=%{customdata[1]}<br>p=%{customdata[2]}<br>r=%{customdata[3]}<extra></extra>",
         "legendgroup": "0.6",
         "line": {
          "color": "#19d3f3",
          "dash": "solid"
         },
         "marker": {
          "symbol": "circle"
         },
         "mode": "markers+lines",
         "name": "0.6",
         "orientation": "v",
         "showlegend": true,
         "type": "scatter",
         "x": [
          0,
          0.0008251199999999999,
          0.00628992,
          0.020178720000000015,
          0.04534272,
          0.08369999999999997,
          0.13623552000000008,
          0.20300111999999998,
          0.28311551999999995,
          0.37476432000000004,
          0.4751999999999999
         ],
         "xaxis": "x",
         "y": [
          0,
          0.0036999999999999997,
          0.02719999999999999,
          0.08370000000000004,
          0.17919999999999997,
          0.3125,
          0.4752000000000002,
          0.6517,
          0.8192000000000002,
          0.9477,
          1
         ],
         "yaxis": "y"
        },
        {
         "customdata": [
          [
           4,
           "3",
           0,
           0
          ],
          [
           4,
           "3",
           0.1,
           0.07
          ],
          [
           4,
           "3",
           0.2,
           0.14
          ],
          [
           4,
           "3",
           0.30000000000000004,
           0.21000000000000005
          ],
          [
           4,
           "3",
           0.4,
           0.28
          ],
          [
           4,
           "3",
           0.5,
           0.35000000000000003
          ],
          [
           4,
           "3",
           0.6000000000000001,
           0.4200000000000001
          ],
          [
           4,
           "3",
           0.7000000000000001,
           0.4900000000000001
          ],
          [
           4,
           "3",
           0.8,
           0.56
          ],
          [
           4,
           "3",
           0.9,
           0.6300000000000001
          ],
          [
           4,
           "3",
           1,
           0.7000000000000001
          ]
         ],
         "hovertemplate": "k=0.7000000000000001<br>fp=%{x}<br>tp=%{y}<br>n_exp=%{customdata[0]}<br>threshold_exp=%{customdata[1]}<br>p=%{customdata[2]}<br>r=%{customdata[3]}<extra></extra>",
         "legendgroup": "0.7000000000000001",
         "line": {
          "color": "#FF6692",
          "dash": "solid"
         },
         "marker": {
          "symbol": "circle"
         },
         "mode": "markers+lines",
         "name": "0.7000000000000001",
         "orientation": "v",
         "showlegend": true,
         "type": "scatter",
         "x": [
          0,
          0.0012999700000000006,
          0.009823520000000004,
          0.03120957000000002,
          0.06936832000000001,
          0.12648125000000002,
          0.20300112000000015,
          0.2976519700000001,
          0.4074291200000001,
          0.5275991700000001,
          0.6517
         ],
         "xaxis": "x",
         "y": [
          0,
          0.0036999999999999997,
          0.02719999999999999,
          0.08370000000000004,
          0.17919999999999997,
          0.3125,
          0.4752000000000002,
          0.6517,
          0.8192000000000002,
          0.9477,
          1
         ],
         "yaxis": "y"
        },
        {
         "customdata": [
          [
           4,
           "3",
           0,
           0
          ],
          [
           4,
           "3",
           0.1,
           0.08000000000000002
          ],
          [
           4,
           "3",
           0.2,
           0.16000000000000003
          ],
          [
           4,
           "3",
           0.30000000000000004,
           0.24000000000000005
          ],
          [
           4,
           "3",
           0.4,
           0.32000000000000006
          ],
          [
           4,
           "3",
           0.5,
           0.4
          ],
          [
           4,
           "3",
           0.6000000000000001,
           0.4800000000000001
          ],
          [
           4,
           "3",
           0.7000000000000001,
           0.56
          ],
          [
           4,
           "3",
           0.8,
           0.6400000000000001
          ],
          [
           4,
           "3",
           0.9,
           0.7200000000000001
          ],
          [
           4,
           "3",
           1,
           0.8
          ]
         ],
         "hovertemplate": "k=0.8<br>fp=%{x}<br>tp=%{y}<br>n_exp=%{customdata[0]}<br>threshold_exp=%{customdata[1]}<br>p=%{customdata[2]}<br>r=%{customdata[3]}<extra></extra>",
         "legendgroup": "0.8",
         "line": {
          "color": "#B6E880",
          "dash": "solid"
         },
         "marker": {
          "symbol": "circle"
         },
         "mode": "markers+lines",
         "name": "0.8",
         "orientation": "v",
         "showlegend": true,
         "type": "scatter",
         "x": [
          0,
          0.001925120000000001,
          0.014417920000000004,
          0.04534271999999999,
          0.09961472000000003,
          0.17919999999999997,
          0.28311552000000006,
          0.4074291200000001,
          0.5452595200000001,
          0.6867763200000001,
          0.8192000000000002
         ],
         "xaxis": "x",
         "y": [
          0,
          0.0036999999999999997,
          0.02719999999999999,
          0.08370000000000004,
          0.17919999999999997,
          0.3125,
          0.4752000000000002,
          0.6517,
          0.8192000000000002,
          0.9477,
          1
         ],
         "yaxis": "y"
        },
        {
         "customdata": [
          [
           4,
           "3",
           0,
           0
          ],
          [
           4,
           "3",
           0.1,
           0.09000000000000001
          ],
          [
           4,
           "3",
           0.2,
           0.18000000000000002
          ],
          [
           4,
           "3",
           0.30000000000000004,
           0.2700000000000001
          ],
          [
           4,
           "3",
           0.4,
           0.36000000000000004
          ],
          [
           4,
           "3",
           0.5,
           0.45
          ],
          [
           4,
           "3",
           0.6000000000000001,
           0.5400000000000001
          ],
          [
           4,
           "3",
           0.7000000000000001,
           0.6300000000000001
          ],
          [
           4,
           "3",
           0.8,
           0.7200000000000001
          ],
          [
           4,
           "3",
           0.9,
           0.81
          ],
          [
           4,
           "3",
           1,
           0.9
          ]
         ],
         "hovertemplate": "k=0.9<br>fp=%{x}<br>tp=%{y}<br>n_exp=%{customdata[0]}<br>threshold_exp=%{customdata[1]}<br>p=%{customdata[2]}<br>r=%{customdata[3]}<extra></extra>",
         "legendgroup": "0.9",
         "line": {
          "color": "#FF97FF",
          "dash": "solid"
         },
         "marker": {
          "symbol": "circle"
         },
         "mode": "markers+lines",
         "name": "0.9",
         "orientation": "v",
         "showlegend": true,
         "type": "scatter",
         "x": [
          0,
          0.002719170000000001,
          0.020178720000000015,
          0.06278877000000004,
          0.13623552000000008,
          0.2414812499999999,
          0.37476432000000026,
          0.5275991700000001,
          0.6867763200000001,
          0.83436237,
          0.9477
         ],
         "xaxis": "x",
         "y": [
          0,
          0.0036999999999999997,
          0.02719999999999999,
          0.08370000000000004,
          0.17919999999999997,
          0.3125,
          0.4752000000000002,
          0.6517,
          0.8192000000000002,
          0.9477,
          1
         ],
         "yaxis": "y"
        },
        {
         "customdata": [
          [
           4,
           "3",
           0,
           0
          ],
          [
           4,
           "3",
           0.1,
           0.1
          ],
          [
           4,
           "3",
           0.2,
           0.2
          ],
          [
           4,
           "3",
           0.30000000000000004,
           0.30000000000000004
          ],
          [
           4,
           "3",
           0.4,
           0.4
          ],
          [
           4,
           "3",
           0.5,
           0.5
          ],
          [
           4,
           "3",
           0.6000000000000001,
           0.6000000000000001
          ],
          [
           4,
           "3",
           0.7000000000000001,
           0.7000000000000001
          ],
          [
           4,
           "3",
           0.8,
           0.8
          ],
          [
           4,
           "3",
           0.9,
           0.9
          ],
          [
           4,
           "3",
           1,
           1
          ]
         ],
         "hovertemplate": "k=1.0<br>fp=%{x}<br>tp=%{y}<br>n_exp=%{customdata[0]}<br>threshold_exp=%{customdata[1]}<br>p=%{customdata[2]}<br>r=%{customdata[3]}<extra></extra>",
         "legendgroup": "1.0",
         "line": {
          "color": "#FECB52",
          "dash": "solid"
         },
         "marker": {
          "symbol": "circle"
         },
         "mode": "markers+lines",
         "name": "1.0",
         "orientation": "v",
         "showlegend": true,
         "type": "scatter",
         "x": [
          0,
          0.0036999999999999997,
          0.02719999999999999,
          0.08370000000000004,
          0.17919999999999997,
          0.3125,
          0.4752000000000002,
          0.6517,
          0.8192000000000002,
          0.9477,
          1
         ],
         "xaxis": "x",
         "y": [
          0,
          0.0036999999999999997,
          0.02719999999999999,
          0.08370000000000004,
          0.17919999999999997,
          0.3125,
          0.4752000000000002,
          0.6517,
          0.8192000000000002,
          0.9477,
          1
         ],
         "yaxis": "y"
        }
       ],
       "layout": {
        "legend": {
         "title": {
          "text": "k"
         },
         "tracegroupgap": 0
        },
        "margin": {
         "t": 60
        },
        "template": {
         "data": {
          "bar": [
           {
            "error_x": {
             "color": "#2a3f5f"
            },
            "error_y": {
             "color": "#2a3f5f"
            },
            "marker": {
             "line": {
              "color": "#E5ECF6",
              "width": 0.5
             },
             "pattern": {
              "fillmode": "overlay",
              "size": 10,
              "solidity": 0.2
             }
            },
            "type": "bar"
           }
          ],
          "barpolar": [
           {
            "marker": {
             "line": {
              "color": "#E5ECF6",
              "width": 0.5
             },
             "pattern": {
              "fillmode": "overlay",
              "size": 10,
              "solidity": 0.2
             }
            },
            "type": "barpolar"
           }
          ],
          "carpet": [
           {
            "aaxis": {
             "endlinecolor": "#2a3f5f",
             "gridcolor": "white",
             "linecolor": "white",
             "minorgridcolor": "white",
             "startlinecolor": "#2a3f5f"
            },
            "baxis": {
             "endlinecolor": "#2a3f5f",
             "gridcolor": "white",
             "linecolor": "white",
             "minorgridcolor": "white",
             "startlinecolor": "#2a3f5f"
            },
            "type": "carpet"
           }
          ],
          "choropleth": [
           {
            "colorbar": {
             "outlinewidth": 0,
             "ticks": ""
            },
            "type": "choropleth"
           }
          ],
          "contour": [
           {
            "colorbar": {
             "outlinewidth": 0,
             "ticks": ""
            },
            "colorscale": [
             [
              0,
              "#0d0887"
             ],
             [
              0.1111111111111111,
              "#46039f"
             ],
             [
              0.2222222222222222,
              "#7201a8"
             ],
             [
              0.3333333333333333,
              "#9c179e"
             ],
             [
              0.4444444444444444,
              "#bd3786"
             ],
             [
              0.5555555555555556,
              "#d8576b"
             ],
             [
              0.6666666666666666,
              "#ed7953"
             ],
             [
              0.7777777777777778,
              "#fb9f3a"
             ],
             [
              0.8888888888888888,
              "#fdca26"
             ],
             [
              1,
              "#f0f921"
             ]
            ],
            "type": "contour"
           }
          ],
          "contourcarpet": [
           {
            "colorbar": {
             "outlinewidth": 0,
             "ticks": ""
            },
            "type": "contourcarpet"
           }
          ],
          "heatmap": [
           {
            "colorbar": {
             "outlinewidth": 0,
             "ticks": ""
            },
            "colorscale": [
             [
              0,
              "#0d0887"
             ],
             [
              0.1111111111111111,
              "#46039f"
             ],
             [
              0.2222222222222222,
              "#7201a8"
             ],
             [
              0.3333333333333333,
              "#9c179e"
             ],
             [
              0.4444444444444444,
              "#bd3786"
             ],
             [
              0.5555555555555556,
              "#d8576b"
             ],
             [
              0.6666666666666666,
              "#ed7953"
             ],
             [
              0.7777777777777778,
              "#fb9f3a"
             ],
             [
              0.8888888888888888,
              "#fdca26"
             ],
             [
              1,
              "#f0f921"
             ]
            ],
            "type": "heatmap"
           }
          ],
          "heatmapgl": [
           {
            "colorbar": {
             "outlinewidth": 0,
             "ticks": ""
            },
            "colorscale": [
             [
              0,
              "#0d0887"
             ],
             [
              0.1111111111111111,
              "#46039f"
             ],
             [
              0.2222222222222222,
              "#7201a8"
             ],
             [
              0.3333333333333333,
              "#9c179e"
             ],
             [
              0.4444444444444444,
              "#bd3786"
             ],
             [
              0.5555555555555556,
              "#d8576b"
             ],
             [
              0.6666666666666666,
              "#ed7953"
             ],
             [
              0.7777777777777778,
              "#fb9f3a"
             ],
             [
              0.8888888888888888,
              "#fdca26"
             ],
             [
              1,
              "#f0f921"
             ]
            ],
            "type": "heatmapgl"
           }
          ],
          "histogram": [
           {
            "marker": {
             "pattern": {
              "fillmode": "overlay",
              "size": 10,
              "solidity": 0.2
             }
            },
            "type": "histogram"
           }
          ],
          "histogram2d": [
           {
            "colorbar": {
             "outlinewidth": 0,
             "ticks": ""
            },
            "colorscale": [
             [
              0,
              "#0d0887"
             ],
             [
              0.1111111111111111,
              "#46039f"
             ],
             [
              0.2222222222222222,
              "#7201a8"
             ],
             [
              0.3333333333333333,
              "#9c179e"
             ],
             [
              0.4444444444444444,
              "#bd3786"
             ],
             [
              0.5555555555555556,
              "#d8576b"
             ],
             [
              0.6666666666666666,
              "#ed7953"
             ],
             [
              0.7777777777777778,
              "#fb9f3a"
             ],
             [
              0.8888888888888888,
              "#fdca26"
             ],
             [
              1,
              "#f0f921"
             ]
            ],
            "type": "histogram2d"
           }
          ],
          "histogram2dcontour": [
           {
            "colorbar": {
             "outlinewidth": 0,
             "ticks": ""
            },
            "colorscale": [
             [
              0,
              "#0d0887"
             ],
             [
              0.1111111111111111,
              "#46039f"
             ],
             [
              0.2222222222222222,
              "#7201a8"
             ],
             [
              0.3333333333333333,
              "#9c179e"
             ],
             [
              0.4444444444444444,
              "#bd3786"
             ],
             [
              0.5555555555555556,
              "#d8576b"
             ],
             [
              0.6666666666666666,
              "#ed7953"
             ],
             [
              0.7777777777777778,
              "#fb9f3a"
             ],
             [
              0.8888888888888888,
              "#fdca26"
             ],
             [
              1,
              "#f0f921"
             ]
            ],
            "type": "histogram2dcontour"
           }
          ],
          "mesh3d": [
           {
            "colorbar": {
             "outlinewidth": 0,
             "ticks": ""
            },
            "type": "mesh3d"
           }
          ],
          "parcoords": [
           {
            "line": {
             "colorbar": {
              "outlinewidth": 0,
              "ticks": ""
             }
            },
            "type": "parcoords"
           }
          ],
          "pie": [
           {
            "automargin": true,
            "type": "pie"
           }
          ],
          "scatter": [
           {
            "fillpattern": {
             "fillmode": "overlay",
             "size": 10,
             "solidity": 0.2
            },
            "type": "scatter"
           }
          ],
          "scatter3d": [
           {
            "line": {
             "colorbar": {
              "outlinewidth": 0,
              "ticks": ""
             }
            },
            "marker": {
             "colorbar": {
              "outlinewidth": 0,
              "ticks": ""
             }
            },
            "type": "scatter3d"
           }
          ],
          "scattercarpet": [
           {
            "marker": {
             "colorbar": {
              "outlinewidth": 0,
              "ticks": ""
             }
            },
            "type": "scattercarpet"
           }
          ],
          "scattergeo": [
           {
            "marker": {
             "colorbar": {
              "outlinewidth": 0,
              "ticks": ""
             }
            },
            "type": "scattergeo"
           }
          ],
          "scattergl": [
           {
            "marker": {
             "colorbar": {
              "outlinewidth": 0,
              "ticks": ""
             }
            },
            "type": "scattergl"
           }
          ],
          "scattermapbox": [
           {
            "marker": {
             "colorbar": {
              "outlinewidth": 0,
              "ticks": ""
             }
            },
            "type": "scattermapbox"
           }
          ],
          "scatterpolar": [
           {
            "marker": {
             "colorbar": {
              "outlinewidth": 0,
              "ticks": ""
             }
            },
            "type": "scatterpolar"
           }
          ],
          "scatterpolargl": [
           {
            "marker": {
             "colorbar": {
              "outlinewidth": 0,
              "ticks": ""
             }
            },
            "type": "scatterpolargl"
           }
          ],
          "scatterternary": [
           {
            "marker": {
             "colorbar": {
              "outlinewidth": 0,
              "ticks": ""
             }
            },
            "type": "scatterternary"
           }
          ],
          "surface": [
           {
            "colorbar": {
             "outlinewidth": 0,
             "ticks": ""
            },
            "colorscale": [
             [
              0,
              "#0d0887"
             ],
             [
              0.1111111111111111,
              "#46039f"
             ],
             [
              0.2222222222222222,
              "#7201a8"
             ],
             [
              0.3333333333333333,
              "#9c179e"
             ],
             [
              0.4444444444444444,
              "#bd3786"
             ],
             [
              0.5555555555555556,
              "#d8576b"
             ],
             [
              0.6666666666666666,
              "#ed7953"
             ],
             [
              0.7777777777777778,
              "#fb9f3a"
             ],
             [
              0.8888888888888888,
              "#fdca26"
             ],
             [
              1,
              "#f0f921"
             ]
            ],
            "type": "surface"
           }
          ],
          "table": [
           {
            "cells": {
             "fill": {
              "color": "#EBF0F8"
             },
             "line": {
              "color": "white"
             }
            },
            "header": {
             "fill": {
              "color": "#C8D4E3"
             },
             "line": {
              "color": "white"
             }
            },
            "type": "table"
           }
          ]
         },
         "layout": {
          "annotationdefaults": {
           "arrowcolor": "#2a3f5f",
           "arrowhead": 0,
           "arrowwidth": 1
          },
          "autotypenumbers": "strict",
          "coloraxis": {
           "colorbar": {
            "outlinewidth": 0,
            "ticks": ""
           }
          },
          "colorscale": {
           "diverging": [
            [
             0,
             "#8e0152"
            ],
            [
             0.1,
             "#c51b7d"
            ],
            [
             0.2,
             "#de77ae"
            ],
            [
             0.3,
             "#f1b6da"
            ],
            [
             0.4,
             "#fde0ef"
            ],
            [
             0.5,
             "#f7f7f7"
            ],
            [
             0.6,
             "#e6f5d0"
            ],
            [
             0.7,
             "#b8e186"
            ],
            [
             0.8,
             "#7fbc41"
            ],
            [
             0.9,
             "#4d9221"
            ],
            [
             1,
             "#276419"
            ]
           ],
           "sequential": [
            [
             0,
             "#0d0887"
            ],
            [
             0.1111111111111111,
             "#46039f"
            ],
            [
             0.2222222222222222,
             "#7201a8"
            ],
            [
             0.3333333333333333,
             "#9c179e"
            ],
            [
             0.4444444444444444,
             "#bd3786"
            ],
            [
             0.5555555555555556,
             "#d8576b"
            ],
            [
             0.6666666666666666,
             "#ed7953"
            ],
            [
             0.7777777777777778,
             "#fb9f3a"
            ],
            [
             0.8888888888888888,
             "#fdca26"
            ],
            [
             1,
             "#f0f921"
            ]
           ],
           "sequentialminus": [
            [
             0,
             "#0d0887"
            ],
            [
             0.1111111111111111,
             "#46039f"
            ],
            [
             0.2222222222222222,
             "#7201a8"
            ],
            [
             0.3333333333333333,
             "#9c179e"
            ],
            [
             0.4444444444444444,
             "#bd3786"
            ],
            [
             0.5555555555555556,
             "#d8576b"
            ],
            [
             0.6666666666666666,
             "#ed7953"
            ],
            [
             0.7777777777777778,
             "#fb9f3a"
            ],
            [
             0.8888888888888888,
             "#fdca26"
            ],
            [
             1,
             "#f0f921"
            ]
           ]
          },
          "colorway": [
           "#636efa",
           "#EF553B",
           "#00cc96",
           "#ab63fa",
           "#FFA15A",
           "#19d3f3",
           "#FF6692",
           "#B6E880",
           "#FF97FF",
           "#FECB52"
          ],
          "font": {
           "color": "#2a3f5f"
          },
          "geo": {
           "bgcolor": "white",
           "lakecolor": "white",
           "landcolor": "#E5ECF6",
           "showlakes": true,
           "showland": true,
           "subunitcolor": "white"
          },
          "hoverlabel": {
           "align": "left"
          },
          "hovermode": "closest",
          "mapbox": {
           "style": "light"
          },
          "paper_bgcolor": "white",
          "plot_bgcolor": "#E5ECF6",
          "polar": {
           "angularaxis": {
            "gridcolor": "white",
            "linecolor": "white",
            "ticks": ""
           },
           "bgcolor": "#E5ECF6",
           "radialaxis": {
            "gridcolor": "white",
            "linecolor": "white",
            "ticks": ""
           }
          },
          "scene": {
           "xaxis": {
            "backgroundcolor": "#E5ECF6",
            "gridcolor": "white",
            "gridwidth": 2,
            "linecolor": "white",
            "showbackground": true,
            "ticks": "",
            "zerolinecolor": "white"
           },
           "yaxis": {
            "backgroundcolor": "#E5ECF6",
            "gridcolor": "white",
            "gridwidth": 2,
            "linecolor": "white",
            "showbackground": true,
            "ticks": "",
            "zerolinecolor": "white"
           },
           "zaxis": {
            "backgroundcolor": "#E5ECF6",
            "gridcolor": "white",
            "gridwidth": 2,
            "linecolor": "white",
            "showbackground": true,
            "ticks": "",
            "zerolinecolor": "white"
           }
          },
          "shapedefaults": {
           "line": {
            "color": "#2a3f5f"
           }
          },
          "ternary": {
           "aaxis": {
            "gridcolor": "white",
            "linecolor": "white",
            "ticks": ""
           },
           "baxis": {
            "gridcolor": "white",
            "linecolor": "white",
            "ticks": ""
           },
           "bgcolor": "#E5ECF6",
           "caxis": {
            "gridcolor": "white",
            "linecolor": "white",
            "ticks": ""
           }
          },
          "title": {
           "x": 0.05
          },
          "xaxis": {
           "automargin": true,
           "gridcolor": "white",
           "linecolor": "white",
           "ticks": "",
           "title": {
            "standoff": 15
           },
           "zerolinecolor": "white",
           "zerolinewidth": 2
          },
          "yaxis": {
           "automargin": true,
           "gridcolor": "white",
           "linecolor": "white",
           "ticks": "",
           "title": {
            "standoff": 15
           },
           "zerolinecolor": "white",
           "zerolinewidth": 2
          }
         }
        },
        "title": {
         "text": "{Number of experiments:4}{Threshold Runs:3}"
        },
        "xaxis": {
         "anchor": "y",
         "domain": [
          0,
          1
         ],
         "title": {
          "text": "fp"
         }
        },
        "yaxis": {
         "anchor": "x",
         "domain": [
          0,
          1
         ],
         "title": {
          "text": "tp"
         }
        }
       }
      }
     },
     "metadata": {},
     "output_type": "display_data"
    },
    {
     "data": {
      "application/vnd.plotly.v1+json": {
       "config": {
        "plotlyServerURL": "https://plotly.com"
       },
       "data": [
        {
         "customdata": [
          [
           4,
           "4",
           0,
           0
          ],
          [
           4,
           "4",
           0.1,
           0.010000000000000002
          ],
          [
           4,
           "4",
           0.2,
           0.020000000000000004
          ],
          [
           4,
           "4",
           0.30000000000000004,
           0.030000000000000006
          ],
          [
           4,
           "4",
           0.4,
           0.04000000000000001
          ],
          [
           4,
           "4",
           0.5,
           0.05
          ],
          [
           4,
           "4",
           0.6000000000000001,
           0.06000000000000001
          ],
          [
           4,
           "4",
           0.7000000000000001,
           0.07
          ],
          [
           4,
           "4",
           0.8,
           0.08000000000000002
          ],
          [
           4,
           "4",
           0.9,
           0.09000000000000001
          ],
          [
           4,
           "4",
           1,
           0.1
          ]
         ],
         "hovertemplate": "k=0.1<br>fp=%{x}<br>tp=%{y}<br>n_exp=%{customdata[0]}<br>threshold_exp=%{customdata[1]}<br>p=%{customdata[2]}<br>r=%{customdata[3]}<extra></extra>",
         "legendgroup": "0.1",
         "line": {
          "color": "#636efa",
          "dash": "solid"
         },
         "marker": {
          "symbol": "circle"
         },
         "mode": "markers+lines",
         "name": "0.1",
         "orientation": "v",
         "showlegend": true,
         "type": "scatter",
         "x": [
          0,
          1.0000000000000008e-8,
          1.6000000000000014e-7,
          8.100000000000007e-7,
          0.0000025600000000000026,
          0.000006250000000000002,
          0.00001296000000000001,
          0.000024010000000000016,
          0.00004096000000000004,
          0.00006561000000000002,
          0.00010000000000000002
         ],
         "xaxis": "x",
         "y": [
          0,
          0.00010000000000000002,
          0.0016000000000000003,
          0.008100000000000001,
          0.025599999999999998,
          0.0625,
          0.12960000000000005,
          0.24010000000000012,
          0.4096000000000001,
          0.6561,
          1
         ],
         "yaxis": "y"
        },
        {
         "customdata": [
          [
           4,
           "4",
           0,
           0
          ],
          [
           4,
           "4",
           0.1,
           0.020000000000000004
          ],
          [
           4,
           "4",
           0.2,
           0.04000000000000001
          ],
          [
           4,
           "4",
           0.30000000000000004,
           0.06000000000000001
          ],
          [
           4,
           "4",
           0.4,
           0.08000000000000002
          ],
          [
           4,
           "4",
           0.5,
           0.1
          ],
          [
           4,
           "4",
           0.6000000000000001,
           0.12000000000000002
          ],
          [
           4,
           "4",
           0.7000000000000001,
           0.14
          ],
          [
           4,
           "4",
           0.8,
           0.16000000000000003
          ],
          [
           4,
           "4",
           0.9,
           0.18000000000000002
          ],
          [
           4,
           "4",
           1,
           0.2
          ]
         ],
         "hovertemplate": "k=0.2<br>fp=%{x}<br>tp=%{y}<br>n_exp=%{customdata[0]}<br>threshold_exp=%{customdata[1]}<br>p=%{customdata[2]}<br>r=%{customdata[3]}<extra></extra>",
         "legendgroup": "0.2",
         "line": {
          "color": "#EF553B",
          "dash": "solid"
         },
         "marker": {
          "symbol": "circle"
         },
         "mode": "markers+lines",
         "name": "0.2",
         "orientation": "v",
         "showlegend": true,
         "type": "scatter",
         "x": [
          0,
          1.6000000000000014e-7,
          0.0000025600000000000026,
          0.00001296000000000001,
          0.00004096000000000004,
          0.00010000000000000002,
          0.00020736000000000016,
          0.00038416000000000014,
          0.0006553600000000006,
          0.0010497600000000005,
          0.0016000000000000003
         ],
         "xaxis": "x",
         "y": [
          0,
          0.00010000000000000002,
          0.0016000000000000003,
          0.008100000000000001,
          0.025599999999999998,
          0.0625,
          0.12960000000000005,
          0.24010000000000012,
          0.4096000000000001,
          0.6561,
          1
         ],
         "yaxis": "y"
        },
        {
         "customdata": [
          [
           4,
           "4",
           0,
           0
          ],
          [
           4,
           "4",
           0.1,
           0.030000000000000006
          ],
          [
           4,
           "4",
           0.2,
           0.06000000000000001
          ],
          [
           4,
           "4",
           0.30000000000000004,
           0.09000000000000002
          ],
          [
           4,
           "4",
           0.4,
           0.12000000000000002
          ],
          [
           4,
           "4",
           0.5,
           0.15000000000000002
          ],
          [
           4,
           "4",
           0.6000000000000001,
           0.18000000000000005
          ],
          [
           4,
           "4",
           0.7000000000000001,
           0.21000000000000005
          ],
          [
           4,
           "4",
           0.8,
           0.24000000000000005
          ],
          [
           4,
           "4",
           0.9,
           0.2700000000000001
          ],
          [
           4,
           "4",
           1,
           0.30000000000000004
          ]
         ],
         "hovertemplate": "k=0.30000000000000004<br>fp=%{x}<br>tp=%{y}<br>n_exp=%{customdata[0]}<br>threshold_exp=%{customdata[1]}<br>p=%{customdata[2]}<br>r=%{customdata[3]}<extra></extra>",
         "legendgroup": "0.30000000000000004",
         "line": {
          "color": "#00cc96",
          "dash": "solid"
         },
         "marker": {
          "symbol": "circle"
         },
         "mode": "markers+lines",
         "name": "0.30000000000000004",
         "orientation": "v",
         "showlegend": true,
         "type": "scatter",
         "x": [
          0,
          8.100000000000007e-7,
          0.00001296000000000001,
          0.00006561000000000007,
          0.00020736000000000016,
          0.0005062500000000002,
          0.0010497600000000011,
          0.0019448100000000017,
          0.0033177600000000016,
          0.005314410000000003,
          0.008100000000000001
         ],
         "xaxis": "x",
         "y": [
          0,
          0.00010000000000000002,
          0.0016000000000000003,
          0.008100000000000001,
          0.025599999999999998,
          0.0625,
          0.12960000000000005,
          0.24010000000000012,
          0.4096000000000001,
          0.6561,
          1
         ],
         "yaxis": "y"
        },
        {
         "customdata": [
          [
           4,
           "4",
           0,
           0
          ],
          [
           4,
           "4",
           0.1,
           0.04000000000000001
          ],
          [
           4,
           "4",
           0.2,
           0.08000000000000002
          ],
          [
           4,
           "4",
           0.30000000000000004,
           0.12000000000000002
          ],
          [
           4,
           "4",
           0.4,
           0.16000000000000003
          ],
          [
           4,
           "4",
           0.5,
           0.2
          ],
          [
           4,
           "4",
           0.6000000000000001,
           0.24000000000000005
          ],
          [
           4,
           "4",
           0.7000000000000001,
           0.28
          ],
          [
           4,
           "4",
           0.8,
           0.32000000000000006
          ],
          [
           4,
           "4",
           0.9,
           0.36000000000000004
          ],
          [
           4,
           "4",
           1,
           0.4
          ]
         ],
         "hovertemplate": "k=0.4<br>fp=%{x}<br>tp=%{y}<br>n_exp=%{customdata[0]}<br>threshold_exp=%{customdata[1]}<br>p=%{customdata[2]}<br>r=%{customdata[3]}<extra></extra>",
         "legendgroup": "0.4",
         "line": {
          "color": "#ab63fa",
          "dash": "solid"
         },
         "marker": {
          "symbol": "circle"
         },
         "mode": "markers+lines",
         "name": "0.4",
         "orientation": "v",
         "showlegend": true,
         "type": "scatter",
         "x": [
          0,
          0.0000025600000000000026,
          0.00004096000000000004,
          0.00020736000000000016,
          0.0006553600000000006,
          0.0016000000000000003,
          0.0033177600000000016,
          0.006146560000000002,
          0.010485760000000009,
          0.01679616000000001,
          0.025599999999999998
         ],
         "xaxis": "x",
         "y": [
          0,
          0.00010000000000000002,
          0.0016000000000000003,
          0.008100000000000001,
          0.025599999999999998,
          0.0625,
          0.12960000000000005,
          0.24010000000000012,
          0.4096000000000001,
          0.6561,
          1
         ],
         "yaxis": "y"
        },
        {
         "customdata": [
          [
           4,
           "4",
           0,
           0
          ],
          [
           4,
           "4",
           0.1,
           0.05
          ],
          [
           4,
           "4",
           0.2,
           0.1
          ],
          [
           4,
           "4",
           0.30000000000000004,
           0.15000000000000002
          ],
          [
           4,
           "4",
           0.4,
           0.2
          ],
          [
           4,
           "4",
           0.5,
           0.25
          ],
          [
           4,
           "4",
           0.6000000000000001,
           0.30000000000000004
          ],
          [
           4,
           "4",
           0.7000000000000001,
           0.35000000000000003
          ],
          [
           4,
           "4",
           0.8,
           0.4
          ],
          [
           4,
           "4",
           0.9,
           0.45
          ],
          [
           4,
           "4",
           1,
           0.5
          ]
         ],
         "hovertemplate": "k=0.5<br>fp=%{x}<br>tp=%{y}<br>n_exp=%{customdata[0]}<br>threshold_exp=%{customdata[1]}<br>p=%{customdata[2]}<br>r=%{customdata[3]}<extra></extra>",
         "legendgroup": "0.5",
         "line": {
          "color": "#FFA15A",
          "dash": "solid"
         },
         "marker": {
          "symbol": "circle"
         },
         "mode": "markers+lines",
         "name": "0.5",
         "orientation": "v",
         "showlegend": true,
         "type": "scatter",
         "x": [
          0,
          0.000006250000000000002,
          0.00010000000000000002,
          0.0005062500000000002,
          0.0016000000000000003,
          0.00390625,
          0.008100000000000001,
          0.015006250000000007,
          0.025599999999999998,
          0.04100624999999998,
          0.0625
         ],
         "xaxis": "x",
         "y": [
          0,
          0.00010000000000000002,
          0.0016000000000000003,
          0.008100000000000001,
          0.025599999999999998,
          0.0625,
          0.12960000000000005,
          0.24010000000000012,
          0.4096000000000001,
          0.6561,
          1
         ],
         "yaxis": "y"
        },
        {
         "customdata": [
          [
           4,
           "4",
           0,
           0
          ],
          [
           4,
           "4",
           0.1,
           0.06
          ],
          [
           4,
           "4",
           0.2,
           0.12
          ],
          [
           4,
           "4",
           0.30000000000000004,
           0.18000000000000002
          ],
          [
           4,
           "4",
           0.4,
           0.24
          ],
          [
           4,
           "4",
           0.5,
           0.3
          ],
          [
           4,
           "4",
           0.6000000000000001,
           0.36000000000000004
          ],
          [
           4,
           "4",
           0.7000000000000001,
           0.42000000000000004
          ],
          [
           4,
           "4",
           0.8,
           0.48
          ],
          [
           4,
           "4",
           0.9,
           0.54
          ],
          [
           4,
           "4",
           1,
           0.6
          ]
         ],
         "hovertemplate": "k=0.6<br>fp=%{x}<br>tp=%{y}<br>n_exp=%{customdata[0]}<br>threshold_exp=%{customdata[1]}<br>p=%{customdata[2]}<br>r=%{customdata[3]}<extra></extra>",
         "legendgroup": "0.6",
         "line": {
          "color": "#19d3f3",
          "dash": "solid"
         },
         "marker": {
          "symbol": "circle"
         },
         "mode": "markers+lines",
         "name": "0.6",
         "orientation": "v",
         "showlegend": true,
         "type": "scatter",
         "x": [
          0,
          0.00001296,
          0.00020735999999999997,
          0.0010497600000000005,
          0.00331776,
          0.008099999999999996,
          0.01679616000000001,
          0.031116960000000013,
          0.05308415999999999,
          0.08503056,
          0.12959999999999997
         ],
         "xaxis": "x",
         "y": [
          0,
          0.00010000000000000002,
          0.0016000000000000003,
          0.008100000000000001,
          0.025599999999999998,
          0.0625,
          0.12960000000000005,
          0.24010000000000012,
          0.4096000000000001,
          0.6561,
          1
         ],
         "yaxis": "y"
        },
        {
         "customdata": [
          [
           4,
           "4",
           0,
           0
          ],
          [
           4,
           "4",
           0.1,
           0.07
          ],
          [
           4,
           "4",
           0.2,
           0.14
          ],
          [
           4,
           "4",
           0.30000000000000004,
           0.21000000000000005
          ],
          [
           4,
           "4",
           0.4,
           0.28
          ],
          [
           4,
           "4",
           0.5,
           0.35000000000000003
          ],
          [
           4,
           "4",
           0.6000000000000001,
           0.4200000000000001
          ],
          [
           4,
           "4",
           0.7000000000000001,
           0.4900000000000001
          ],
          [
           4,
           "4",
           0.8,
           0.56
          ],
          [
           4,
           "4",
           0.9,
           0.6300000000000001
          ],
          [
           4,
           "4",
           1,
           0.7000000000000001
          ]
         ],
         "hovertemplate": "k=0.7000000000000001<br>fp=%{x}<br>tp=%{y}<br>n_exp=%{customdata[0]}<br>threshold_exp=%{customdata[1]}<br>p=%{customdata[2]}<br>r=%{customdata[3]}<extra></extra>",
         "legendgroup": "0.7000000000000001",
         "line": {
          "color": "#FF6692",
          "dash": "solid"
         },
         "marker": {
          "symbol": "circle"
         },
         "mode": "markers+lines",
         "name": "0.7000000000000001",
         "orientation": "v",
         "showlegend": true,
         "type": "scatter",
         "x": [
          0,
          0.000024010000000000016,
          0.00038416000000000014,
          0.0019448100000000017,
          0.006146560000000002,
          0.015006250000000007,
          0.03111696000000004,
          0.057648010000000034,
          0.09834496000000004,
          0.1575296100000001,
          0.24010000000000012
         ],
         "xaxis": "x",
         "y": [
          0,
          0.00010000000000000002,
          0.0016000000000000003,
          0.008100000000000001,
          0.025599999999999998,
          0.0625,
          0.12960000000000005,
          0.24010000000000012,
          0.4096000000000001,
          0.6561,
          1
         ],
         "yaxis": "y"
        },
        {
         "customdata": [
          [
           4,
           "4",
           0,
           0
          ],
          [
           4,
           "4",
           0.1,
           0.08000000000000002
          ],
          [
           4,
           "4",
           0.2,
           0.16000000000000003
          ],
          [
           4,
           "4",
           0.30000000000000004,
           0.24000000000000005
          ],
          [
           4,
           "4",
           0.4,
           0.32000000000000006
          ],
          [
           4,
           "4",
           0.5,
           0.4
          ],
          [
           4,
           "4",
           0.6000000000000001,
           0.4800000000000001
          ],
          [
           4,
           "4",
           0.7000000000000001,
           0.56
          ],
          [
           4,
           "4",
           0.8,
           0.6400000000000001
          ],
          [
           4,
           "4",
           0.9,
           0.7200000000000001
          ],
          [
           4,
           "4",
           1,
           0.8
          ]
         ],
         "hovertemplate": "k=0.8<br>fp=%{x}<br>tp=%{y}<br>n_exp=%{customdata[0]}<br>threshold_exp=%{customdata[1]}<br>p=%{customdata[2]}<br>r=%{customdata[3]}<extra></extra>",
         "legendgroup": "0.8",
         "line": {
          "color": "#B6E880",
          "dash": "solid"
         },
         "marker": {
          "symbol": "circle"
         },
         "mode": "markers+lines",
         "name": "0.8",
         "orientation": "v",
         "showlegend": true,
         "type": "scatter",
         "x": [
          0,
          0.00004096000000000004,
          0.0006553600000000006,
          0.0033177600000000016,
          0.010485760000000009,
          0.025599999999999998,
          0.05308416000000004,
          0.09834496000000004,
          0.16777216000000011,
          0.2687385600000001,
          0.4096000000000001
         ],
         "xaxis": "x",
         "y": [
          0,
          0.00010000000000000002,
          0.0016000000000000003,
          0.008100000000000001,
          0.025599999999999998,
          0.0625,
          0.12960000000000005,
          0.24010000000000012,
          0.4096000000000001,
          0.6561,
          1
         ],
         "yaxis": "y"
        },
        {
         "customdata": [
          [
           4,
           "4",
           0,
           0
          ],
          [
           4,
           "4",
           0.1,
           0.09000000000000001
          ],
          [
           4,
           "4",
           0.2,
           0.18000000000000002
          ],
          [
           4,
           "4",
           0.30000000000000004,
           0.2700000000000001
          ],
          [
           4,
           "4",
           0.4,
           0.36000000000000004
          ],
          [
           4,
           "4",
           0.5,
           0.45
          ],
          [
           4,
           "4",
           0.6000000000000001,
           0.5400000000000001
          ],
          [
           4,
           "4",
           0.7000000000000001,
           0.6300000000000001
          ],
          [
           4,
           "4",
           0.8,
           0.7200000000000001
          ],
          [
           4,
           "4",
           0.9,
           0.81
          ],
          [
           4,
           "4",
           1,
           0.9
          ]
         ],
         "hovertemplate": "k=0.9<br>fp=%{x}<br>tp=%{y}<br>n_exp=%{customdata[0]}<br>threshold_exp=%{customdata[1]}<br>p=%{customdata[2]}<br>r=%{customdata[3]}<extra></extra>",
         "legendgroup": "0.9",
         "line": {
          "color": "#FF97FF",
          "dash": "solid"
         },
         "marker": {
          "symbol": "circle"
         },
         "mode": "markers+lines",
         "name": "0.9",
         "orientation": "v",
         "showlegend": true,
         "type": "scatter",
         "x": [
          0,
          0.00006561000000000002,
          0.0010497600000000005,
          0.005314410000000003,
          0.01679616000000001,
          0.04100624999999998,
          0.08503056000000007,
          0.1575296100000001,
          0.2687385600000001,
          0.4304672100000001,
          0.6561
         ],
         "xaxis": "x",
         "y": [
          0,
          0.00010000000000000002,
          0.0016000000000000003,
          0.008100000000000001,
          0.025599999999999998,
          0.0625,
          0.12960000000000005,
          0.24010000000000012,
          0.4096000000000001,
          0.6561,
          1
         ],
         "yaxis": "y"
        },
        {
         "customdata": [
          [
           4,
           "4",
           0,
           0
          ],
          [
           4,
           "4",
           0.1,
           0.1
          ],
          [
           4,
           "4",
           0.2,
           0.2
          ],
          [
           4,
           "4",
           0.30000000000000004,
           0.30000000000000004
          ],
          [
           4,
           "4",
           0.4,
           0.4
          ],
          [
           4,
           "4",
           0.5,
           0.5
          ],
          [
           4,
           "4",
           0.6000000000000001,
           0.6000000000000001
          ],
          [
           4,
           "4",
           0.7000000000000001,
           0.7000000000000001
          ],
          [
           4,
           "4",
           0.8,
           0.8
          ],
          [
           4,
           "4",
           0.9,
           0.9
          ],
          [
           4,
           "4",
           1,
           1
          ]
         ],
         "hovertemplate": "k=1.0<br>fp=%{x}<br>tp=%{y}<br>n_exp=%{customdata[0]}<br>threshold_exp=%{customdata[1]}<br>p=%{customdata[2]}<br>r=%{customdata[3]}<extra></extra>",
         "legendgroup": "1.0",
         "line": {
          "color": "#FECB52",
          "dash": "solid"
         },
         "marker": {
          "symbol": "circle"
         },
         "mode": "markers+lines",
         "name": "1.0",
         "orientation": "v",
         "showlegend": true,
         "type": "scatter",
         "x": [
          0,
          0.00010000000000000002,
          0.0016000000000000003,
          0.008100000000000001,
          0.025599999999999998,
          0.0625,
          0.12960000000000005,
          0.24010000000000012,
          0.4096000000000001,
          0.6561,
          1
         ],
         "xaxis": "x",
         "y": [
          0,
          0.00010000000000000002,
          0.0016000000000000003,
          0.008100000000000001,
          0.025599999999999998,
          0.0625,
          0.12960000000000005,
          0.24010000000000012,
          0.4096000000000001,
          0.6561,
          1
         ],
         "yaxis": "y"
        }
       ],
       "layout": {
        "legend": {
         "title": {
          "text": "k"
         },
         "tracegroupgap": 0
        },
        "margin": {
         "t": 60
        },
        "template": {
         "data": {
          "bar": [
           {
            "error_x": {
             "color": "#2a3f5f"
            },
            "error_y": {
             "color": "#2a3f5f"
            },
            "marker": {
             "line": {
              "color": "#E5ECF6",
              "width": 0.5
             },
             "pattern": {
              "fillmode": "overlay",
              "size": 10,
              "solidity": 0.2
             }
            },
            "type": "bar"
           }
          ],
          "barpolar": [
           {
            "marker": {
             "line": {
              "color": "#E5ECF6",
              "width": 0.5
             },
             "pattern": {
              "fillmode": "overlay",
              "size": 10,
              "solidity": 0.2
             }
            },
            "type": "barpolar"
           }
          ],
          "carpet": [
           {
            "aaxis": {
             "endlinecolor": "#2a3f5f",
             "gridcolor": "white",
             "linecolor": "white",
             "minorgridcolor": "white",
             "startlinecolor": "#2a3f5f"
            },
            "baxis": {
             "endlinecolor": "#2a3f5f",
             "gridcolor": "white",
             "linecolor": "white",
             "minorgridcolor": "white",
             "startlinecolor": "#2a3f5f"
            },
            "type": "carpet"
           }
          ],
          "choropleth": [
           {
            "colorbar": {
             "outlinewidth": 0,
             "ticks": ""
            },
            "type": "choropleth"
           }
          ],
          "contour": [
           {
            "colorbar": {
             "outlinewidth": 0,
             "ticks": ""
            },
            "colorscale": [
             [
              0,
              "#0d0887"
             ],
             [
              0.1111111111111111,
              "#46039f"
             ],
             [
              0.2222222222222222,
              "#7201a8"
             ],
             [
              0.3333333333333333,
              "#9c179e"
             ],
             [
              0.4444444444444444,
              "#bd3786"
             ],
             [
              0.5555555555555556,
              "#d8576b"
             ],
             [
              0.6666666666666666,
              "#ed7953"
             ],
             [
              0.7777777777777778,
              "#fb9f3a"
             ],
             [
              0.8888888888888888,
              "#fdca26"
             ],
             [
              1,
              "#f0f921"
             ]
            ],
            "type": "contour"
           }
          ],
          "contourcarpet": [
           {
            "colorbar": {
             "outlinewidth": 0,
             "ticks": ""
            },
            "type": "contourcarpet"
           }
          ],
          "heatmap": [
           {
            "colorbar": {
             "outlinewidth": 0,
             "ticks": ""
            },
            "colorscale": [
             [
              0,
              "#0d0887"
             ],
             [
              0.1111111111111111,
              "#46039f"
             ],
             [
              0.2222222222222222,
              "#7201a8"
             ],
             [
              0.3333333333333333,
              "#9c179e"
             ],
             [
              0.4444444444444444,
              "#bd3786"
             ],
             [
              0.5555555555555556,
              "#d8576b"
             ],
             [
              0.6666666666666666,
              "#ed7953"
             ],
             [
              0.7777777777777778,
              "#fb9f3a"
             ],
             [
              0.8888888888888888,
              "#fdca26"
             ],
             [
              1,
              "#f0f921"
             ]
            ],
            "type": "heatmap"
           }
          ],
          "heatmapgl": [
           {
            "colorbar": {
             "outlinewidth": 0,
             "ticks": ""
            },
            "colorscale": [
             [
              0,
              "#0d0887"
             ],
             [
              0.1111111111111111,
              "#46039f"
             ],
             [
              0.2222222222222222,
              "#7201a8"
             ],
             [
              0.3333333333333333,
              "#9c179e"
             ],
             [
              0.4444444444444444,
              "#bd3786"
             ],
             [
              0.5555555555555556,
              "#d8576b"
             ],
             [
              0.6666666666666666,
              "#ed7953"
             ],
             [
              0.7777777777777778,
              "#fb9f3a"
             ],
             [
              0.8888888888888888,
              "#fdca26"
             ],
             [
              1,
              "#f0f921"
             ]
            ],
            "type": "heatmapgl"
           }
          ],
          "histogram": [
           {
            "marker": {
             "pattern": {
              "fillmode": "overlay",
              "size": 10,
              "solidity": 0.2
             }
            },
            "type": "histogram"
           }
          ],
          "histogram2d": [
           {
            "colorbar": {
             "outlinewidth": 0,
             "ticks": ""
            },
            "colorscale": [
             [
              0,
              "#0d0887"
             ],
             [
              0.1111111111111111,
              "#46039f"
             ],
             [
              0.2222222222222222,
              "#7201a8"
             ],
             [
              0.3333333333333333,
              "#9c179e"
             ],
             [
              0.4444444444444444,
              "#bd3786"
             ],
             [
              0.5555555555555556,
              "#d8576b"
             ],
             [
              0.6666666666666666,
              "#ed7953"
             ],
             [
              0.7777777777777778,
              "#fb9f3a"
             ],
             [
              0.8888888888888888,
              "#fdca26"
             ],
             [
              1,
              "#f0f921"
             ]
            ],
            "type": "histogram2d"
           }
          ],
          "histogram2dcontour": [
           {
            "colorbar": {
             "outlinewidth": 0,
             "ticks": ""
            },
            "colorscale": [
             [
              0,
              "#0d0887"
             ],
             [
              0.1111111111111111,
              "#46039f"
             ],
             [
              0.2222222222222222,
              "#7201a8"
             ],
             [
              0.3333333333333333,
              "#9c179e"
             ],
             [
              0.4444444444444444,
              "#bd3786"
             ],
             [
              0.5555555555555556,
              "#d8576b"
             ],
             [
              0.6666666666666666,
              "#ed7953"
             ],
             [
              0.7777777777777778,
              "#fb9f3a"
             ],
             [
              0.8888888888888888,
              "#fdca26"
             ],
             [
              1,
              "#f0f921"
             ]
            ],
            "type": "histogram2dcontour"
           }
          ],
          "mesh3d": [
           {
            "colorbar": {
             "outlinewidth": 0,
             "ticks": ""
            },
            "type": "mesh3d"
           }
          ],
          "parcoords": [
           {
            "line": {
             "colorbar": {
              "outlinewidth": 0,
              "ticks": ""
             }
            },
            "type": "parcoords"
           }
          ],
          "pie": [
           {
            "automargin": true,
            "type": "pie"
           }
          ],
          "scatter": [
           {
            "fillpattern": {
             "fillmode": "overlay",
             "size": 10,
             "solidity": 0.2
            },
            "type": "scatter"
           }
          ],
          "scatter3d": [
           {
            "line": {
             "colorbar": {
              "outlinewidth": 0,
              "ticks": ""
             }
            },
            "marker": {
             "colorbar": {
              "outlinewidth": 0,
              "ticks": ""
             }
            },
            "type": "scatter3d"
           }
          ],
          "scattercarpet": [
           {
            "marker": {
             "colorbar": {
              "outlinewidth": 0,
              "ticks": ""
             }
            },
            "type": "scattercarpet"
           }
          ],
          "scattergeo": [
           {
            "marker": {
             "colorbar": {
              "outlinewidth": 0,
              "ticks": ""
             }
            },
            "type": "scattergeo"
           }
          ],
          "scattergl": [
           {
            "marker": {
             "colorbar": {
              "outlinewidth": 0,
              "ticks": ""
             }
            },
            "type": "scattergl"
           }
          ],
          "scattermapbox": [
           {
            "marker": {
             "colorbar": {
              "outlinewidth": 0,
              "ticks": ""
             }
            },
            "type": "scattermapbox"
           }
          ],
          "scatterpolar": [
           {
            "marker": {
             "colorbar": {
              "outlinewidth": 0,
              "ticks": ""
             }
            },
            "type": "scatterpolar"
           }
          ],
          "scatterpolargl": [
           {
            "marker": {
             "colorbar": {
              "outlinewidth": 0,
              "ticks": ""
             }
            },
            "type": "scatterpolargl"
           }
          ],
          "scatterternary": [
           {
            "marker": {
             "colorbar": {
              "outlinewidth": 0,
              "ticks": ""
             }
            },
            "type": "scatterternary"
           }
          ],
          "surface": [
           {
            "colorbar": {
             "outlinewidth": 0,
             "ticks": ""
            },
            "colorscale": [
             [
              0,
              "#0d0887"
             ],
             [
              0.1111111111111111,
              "#46039f"
             ],
             [
              0.2222222222222222,
              "#7201a8"
             ],
             [
              0.3333333333333333,
              "#9c179e"
             ],
             [
              0.4444444444444444,
              "#bd3786"
             ],
             [
              0.5555555555555556,
              "#d8576b"
             ],
             [
              0.6666666666666666,
              "#ed7953"
             ],
             [
              0.7777777777777778,
              "#fb9f3a"
             ],
             [
              0.8888888888888888,
              "#fdca26"
             ],
             [
              1,
              "#f0f921"
             ]
            ],
            "type": "surface"
           }
          ],
          "table": [
           {
            "cells": {
             "fill": {
              "color": "#EBF0F8"
             },
             "line": {
              "color": "white"
             }
            },
            "header": {
             "fill": {
              "color": "#C8D4E3"
             },
             "line": {
              "color": "white"
             }
            },
            "type": "table"
           }
          ]
         },
         "layout": {
          "annotationdefaults": {
           "arrowcolor": "#2a3f5f",
           "arrowhead": 0,
           "arrowwidth": 1
          },
          "autotypenumbers": "strict",
          "coloraxis": {
           "colorbar": {
            "outlinewidth": 0,
            "ticks": ""
           }
          },
          "colorscale": {
           "diverging": [
            [
             0,
             "#8e0152"
            ],
            [
             0.1,
             "#c51b7d"
            ],
            [
             0.2,
             "#de77ae"
            ],
            [
             0.3,
             "#f1b6da"
            ],
            [
             0.4,
             "#fde0ef"
            ],
            [
             0.5,
             "#f7f7f7"
            ],
            [
             0.6,
             "#e6f5d0"
            ],
            [
             0.7,
             "#b8e186"
            ],
            [
             0.8,
             "#7fbc41"
            ],
            [
             0.9,
             "#4d9221"
            ],
            [
             1,
             "#276419"
            ]
           ],
           "sequential": [
            [
             0,
             "#0d0887"
            ],
            [
             0.1111111111111111,
             "#46039f"
            ],
            [
             0.2222222222222222,
             "#7201a8"
            ],
            [
             0.3333333333333333,
             "#9c179e"
            ],
            [
             0.4444444444444444,
             "#bd3786"
            ],
            [
             0.5555555555555556,
             "#d8576b"
            ],
            [
             0.6666666666666666,
             "#ed7953"
            ],
            [
             0.7777777777777778,
             "#fb9f3a"
            ],
            [
             0.8888888888888888,
             "#fdca26"
            ],
            [
             1,
             "#f0f921"
            ]
           ],
           "sequentialminus": [
            [
             0,
             "#0d0887"
            ],
            [
             0.1111111111111111,
             "#46039f"
            ],
            [
             0.2222222222222222,
             "#7201a8"
            ],
            [
             0.3333333333333333,
             "#9c179e"
            ],
            [
             0.4444444444444444,
             "#bd3786"
            ],
            [
             0.5555555555555556,
             "#d8576b"
            ],
            [
             0.6666666666666666,
             "#ed7953"
            ],
            [
             0.7777777777777778,
             "#fb9f3a"
            ],
            [
             0.8888888888888888,
             "#fdca26"
            ],
            [
             1,
             "#f0f921"
            ]
           ]
          },
          "colorway": [
           "#636efa",
           "#EF553B",
           "#00cc96",
           "#ab63fa",
           "#FFA15A",
           "#19d3f3",
           "#FF6692",
           "#B6E880",
           "#FF97FF",
           "#FECB52"
          ],
          "font": {
           "color": "#2a3f5f"
          },
          "geo": {
           "bgcolor": "white",
           "lakecolor": "white",
           "landcolor": "#E5ECF6",
           "showlakes": true,
           "showland": true,
           "subunitcolor": "white"
          },
          "hoverlabel": {
           "align": "left"
          },
          "hovermode": "closest",
          "mapbox": {
           "style": "light"
          },
          "paper_bgcolor": "white",
          "plot_bgcolor": "#E5ECF6",
          "polar": {
           "angularaxis": {
            "gridcolor": "white",
            "linecolor": "white",
            "ticks": ""
           },
           "bgcolor": "#E5ECF6",
           "radialaxis": {
            "gridcolor": "white",
            "linecolor": "white",
            "ticks": ""
           }
          },
          "scene": {
           "xaxis": {
            "backgroundcolor": "#E5ECF6",
            "gridcolor": "white",
            "gridwidth": 2,
            "linecolor": "white",
            "showbackground": true,
            "ticks": "",
            "zerolinecolor": "white"
           },
           "yaxis": {
            "backgroundcolor": "#E5ECF6",
            "gridcolor": "white",
            "gridwidth": 2,
            "linecolor": "white",
            "showbackground": true,
            "ticks": "",
            "zerolinecolor": "white"
           },
           "zaxis": {
            "backgroundcolor": "#E5ECF6",
            "gridcolor": "white",
            "gridwidth": 2,
            "linecolor": "white",
            "showbackground": true,
            "ticks": "",
            "zerolinecolor": "white"
           }
          },
          "shapedefaults": {
           "line": {
            "color": "#2a3f5f"
           }
          },
          "ternary": {
           "aaxis": {
            "gridcolor": "white",
            "linecolor": "white",
            "ticks": ""
           },
           "baxis": {
            "gridcolor": "white",
            "linecolor": "white",
            "ticks": ""
           },
           "bgcolor": "#E5ECF6",
           "caxis": {
            "gridcolor": "white",
            "linecolor": "white",
            "ticks": ""
           }
          },
          "title": {
           "x": 0.05
          },
          "xaxis": {
           "automargin": true,
           "gridcolor": "white",
           "linecolor": "white",
           "ticks": "",
           "title": {
            "standoff": 15
           },
           "zerolinecolor": "white",
           "zerolinewidth": 2
          },
          "yaxis": {
           "automargin": true,
           "gridcolor": "white",
           "linecolor": "white",
           "ticks": "",
           "title": {
            "standoff": 15
           },
           "zerolinecolor": "white",
           "zerolinewidth": 2
          }
         }
        },
        "title": {
         "text": "{Number of experiments:4}{Threshold Runs:4}"
        },
        "xaxis": {
         "anchor": "y",
         "domain": [
          0,
          1
         ],
         "title": {
          "text": "fp"
         }
        },
        "yaxis": {
         "anchor": "x",
         "domain": [
          0,
          1
         ],
         "title": {
          "text": "tp"
         }
        }
       }
      }
     },
     "metadata": {},
     "output_type": "display_data"
    }
   ],
   "source": [
    "dfs = df.groupby(['n_exp','threshold_exp'])\n",
    "fig = go.Figure()\n",
    "for i in dfs:\n",
    "    i[1]['groups'] = np.floor_divide(i[1].index, len(p_list)).astype(str)\n",
    "#     print(i[1]['groups'].values.tolist())\n",
    "    i[1]['k'] = i[1]['groups'].apply(lambda d: proportionality_factor[int(d)%len(proportionality_factor)])\n",
    "#     display(i[1])\n",
    "    i[1]['threshold_exp'] = i[1]['threshold_exp'].astype('string')\n",
    "    fig = px.line(i[1], x=\"fp\", y=\"tp\", hover_data=['n_exp','threshold_exp','p','r'],color='k',markers=True)\n",
    "    fig.update_layout(title_text=\"{Number of experiments:\"+str(i[1]['n_exp'].unique()[0])+\"}{Threshold Runs:\"+str(i[1]['threshold_exp'].unique()[0])+\"}\")\n",
    "    fig.show()\n"
   ]
  },
  {
   "cell_type": "markdown",
   "id": "e6747802",
   "metadata": {},
   "source": [
    "# Observations\n",
    "\n",
    "- As the threshold for number of experiments (`threshold_exp`) increases, the `false positive` rate decreases. This is intuitive as it is less probable that the node `Test Results say it works properly` states `correct` when `Algorithm works properly` is `false.\n",
    "- When the proportionality constant `k` in the equation `r=k*p` is high, the `True Positive` vs `False Positive` becomes a linear relationship. It is also the case when `Number of experiments` equals the threshold for number of experiments considered for the success of the test."
   ]
  },
  {
   "cell_type": "markdown",
   "id": "5a73c497",
   "metadata": {},
   "source": [
    "03/01/2023\n",
    "- Pick a particular combination of (p, r), where p is large but less than 1, and r is small (but not too small), and see how the P{TP} and P{FP} change as a function of the number of tests and the threshold."
   ]
  },
  {
   "cell_type": "code",
   "execution_count": 58,
   "id": "00601ca4",
   "metadata": {},
   "outputs": [],
   "source": [
    "# threshold_num_runs = 2 # rule\n",
    "min_exp_runs = 3\n",
    "max_exp_runs = 15\n",
    "\n",
    "total_exp_runs_list = list(range(min_exp_runs,max_exp_runs+1))\n",
    "\n",
    "p_list = [0.9]\n",
    "p = p_list[0]\n",
    "r_list = [0.25,0.5,0.75]\n",
    "\n",
    "row = []\n",
    "\n",
    "for total_exp_runs in total_exp_runs_list:\n",
    "    \n",
    "    for threshold_num_runs in range(1,total_exp_runs+1):\n",
    "            if total_exp_runs%3!=0:\n",
    "                continue\n",
    "            else: pass\n",
    "            # for p in p_list:\n",
    "            for r in r_list:\n",
    "                \n",
    "                # r = 0.45\n",
    "#                 print(\"p(successful run|algo = T):\",p)\n",
    "#                 print(\"p(successful run|algo = F):\",r,\" r = \",k,\"*\",\"p\")\n",
    "                exp_T = getBinomProb(total_exp_runs,p)\n",
    "                exp_F = getBinomProb(total_exp_runs,r)\n",
    "                exp_dict = {\"True\":exp_T,\"False\":exp_F}\n",
    "                exp_cpt = pd.DataFrame(exp_dict)\n",
    "                test_keys = []\n",
    "                test_values = []\n",
    "\n",
    "                for i in range(total_exp_runs+1):\n",
    "                    test_keys.append(str(i))\n",
    "                    if i >= threshold_num_runs:\n",
    "                        test_values.append([1,0])\n",
    "                    else:\n",
    "                        test_values.append([0,1])\n",
    "\n",
    "                test_results_dict = dict(zip(test_keys, test_values))\n",
    "                test_results_cpt = pd.DataFrame(test_results_dict) \n",
    "                test_results_cpt[\"States\"] = ['Correct','Incorrect']\n",
    "                test_results_cpt.set_index(\"States\",inplace=True)\n",
    "                \n",
    "                # display(test_results_cpt)\n",
    "\n",
    "\n",
    "                # Create nodes by manually typing in probabilities\n",
    "                test_results = BbnNode(Variable(0, 'Test Results say it works properly', test_results_cpt.index.values.tolist()), np.ndarray.flatten(test_results_cpt.values.transpose()).tolist())\n",
    "                exp1 = BbnNode(Variable(1, 'Experiment 1 - Successes', test_results_cpt.columns), exp_T+exp_F)\n",
    "                algo = BbnNode(Variable(2, 'Algorithm works correctly', [\"True\",\"False\"]), [0.5,0.5])\n",
    "\n",
    "                bbn = Bbn() \\\n",
    "                    .add_node(algo) \\\n",
    "                    .add_node(exp1) \\\n",
    "                    .add_node(test_results) \\\n",
    "                    .add_edge(Edge(algo, exp1, EdgeType.DIRECTED)) \\\n",
    "                    .add_edge(Edge(exp1, test_results, EdgeType.DIRECTED))\n",
    "\n",
    "                join_tree = InferenceController.apply(bbn)\n",
    "\n",
    "                dffp,dftn = getFPTN(join_tree)\n",
    "                dffn,dftp = getFNTP(join_tree)\n",
    "                \n",
    "#                 print(\"FP : P(Test=T|Algo=F)=\",dffp.tolist())\n",
    "#                 print(\"TN : P(Test=F|Algo=F)=\",dftn.tolist())\n",
    "#                 print(\"FN : P(Test=F|Algo=T)=\",dffn.tolist())\n",
    "#                 print(\"TP : P(Test=T|Algo=T)=\",dftp.tolist())\n",
    "\n",
    "                fp = dffp.tolist()[0]\n",
    "                tn = dftn.tolist()[0]\n",
    "                fn = dffn.tolist()[0]\n",
    "                tp = dftp.tolist()[0]\n",
    "\n",
    "                data = [total_exp_runs,threshold_num_runs,p,r,fp,tn,fn,tp]\n",
    "                row.append(data)\n",
    "#                 print(\"+\"*80)\n",
    "                \n",
    "    checkdf = pd.DataFrame(row, columns = ['n_exp','threshold_exp','p','r','fp','tn','fn','tp'])\n",
    "#     display(checkdf)\n",
    "    \n",
    "df = pd.DataFrame(row, columns = ['n_exp','threshold_exp','p','r','fp','tn','fn','tp'])\n",
    "# display(df.head())    \n"
   ]
  },
  {
   "cell_type": "markdown",
   "id": "bc132eb0",
   "metadata": {},
   "source": [
    "# Trend of `FP` and `TP` as `n_exp` increases with fixed `threshold_exp`"
   ]
  },
  {
   "cell_type": "markdown",
   "id": "9381c4d0",
   "metadata": {},
   "source": [
    "# Number of experiments vs Threshold Runs "
   ]
  },
  {
   "cell_type": "code",
   "execution_count": 51,
   "id": "289fe6fb",
   "metadata": {},
   "outputs": [],
   "source": [
    "# fig = go.Figure()\n",
    "# fig = px.line(df, x=\"fp\", y=\"tp\", hover_data=['n_exp','threshold_exp','p','r'],color='n_exp',markers=True)\n",
    "# fig.update_layout(title_text=\"{Number of experiments vs Threshold Runs at (p,r):{\"+str(p)+\",\"+str(r)+\"}\")\n",
    "# # fig.show()"
   ]
  },
  {
   "cell_type": "markdown",
   "id": "2d00cb8b",
   "metadata": {},
   "source": [
    "# Observations\n",
    "\n",
    "- For `n_exp = 7`, when the `threshold_exp` is either `5` or `6`:\n",
    "    - `tp` is 0.974 and 0.85 respectively. \n",
    "    - `fp` is 0.096 and 0.0085 respectively.\n",
    "- For `n_exp = 8`, when the `threshold_exp` is `6`:\n",
    "    - `tp` is 0.9619.\n",
    "    - `fp` is 0.049.\n",
    "\n",
    "As number of experiments to be performed increases, the curves become steeper as `threshold_exp` increases and the `tp` values decreases. `fp` values increase as `threshold_exp` decrease."
   ]
  },
  {
   "cell_type": "markdown",
   "id": "59d1d9e6",
   "metadata": {},
   "source": [
    "03/02/2023\n",
    "\n",
    "- Separate plots (one curve per plot) (e.g., n = 3, 6, 9, 12, 15) and labelled the points with the threshold values."
   ]
  },
  {
   "cell_type": "code",
   "execution_count": 63,
   "id": "7e095142",
   "metadata": {
    "scrolled": false
   },
   "outputs": [
    {
     "data": {
      "image/png": "[encoded data removed]",
      "text/plain": [
       "<Figure size 640x480 with 1 Axes>"
      ]
     },
     "metadata": {},
     "output_type": "display_data"
    },
    {
     "data": {
      "text/html": [
       "<div>\n",
       "<style scoped>\n",
       "    .dataframe tbody tr th:only-of-type {\n",
       "        vertical-align: middle;\n",
       "    }\n",
       "\n",
       "    .dataframe tbody tr th {\n",
       "        vertical-align: top;\n",
       "    }\n",
       "\n",
       "    .dataframe thead th {\n",
       "        text-align: right;\n",
       "    }\n",
       "</style>\n",
       "<table border=\"1\" class=\"dataframe\">\n",
       "  <thead>\n",
       "    <tr style=\"text-align: right;\">\n",
       "      <th></th>\n",
       "      <th>Number of Experiments</th>\n",
       "      <th>Threshold number of successes</th>\n",
       "      <th>p</th>\n",
       "      <th>r</th>\n",
       "      <th>FP</th>\n",
       "      <th>TN</th>\n",
       "      <th>FN</th>\n",
       "      <th>TP</th>\n",
       "      <th>distances</th>\n",
       "    </tr>\n",
       "  </thead>\n",
       "  <tbody>\n",
       "    <tr>\n",
       "      <th>3</th>\n",
       "      <td>3.0</td>\n",
       "      <td>2.0</td>\n",
       "      <td>0.9</td>\n",
       "      <td>0.25</td>\n",
       "      <td>0.15625</td>\n",
       "      <td>0.84375</td>\n",
       "      <td>0.028</td>\n",
       "      <td>0.972</td>\n",
       "      <td>0.158739</td>\n",
       "    </tr>\n",
       "  </tbody>\n",
       "</table>\n",
       "</div>"
      ],
      "text/plain": [
       "   Number of Experiments  Threshold number of successes    p     r       FP  \\\n",
       "3                    3.0                            2.0  0.9  0.25  0.15625   \n",
       "\n",
       "        TN     FN     TP  distances  \n",
       "3  0.84375  0.028  0.972   0.158739  "
      ]
     },
     "metadata": {},
     "output_type": "display_data"
    },
    {
     "name": "stdout",
     "output_type": "stream",
     "text": [
      "\u001b[32m TP closest to the perfect classifier: 0.972\n",
      "\u001b[0m\u001b[33m FP closest to the perfect classifier: 0.156\n",
      "\u001b[0m"
     ]
    },
    {
     "data": {
      "image/png": "[encoded data removed]",
      "text/plain": [
       "<Figure size 640x480 with 1 Axes>"
      ]
     },
     "metadata": {},
     "output_type": "display_data"
    },
    {
     "data": {
      "text/html": [
       "<div>\n",
       "<style scoped>\n",
       "    .dataframe tbody tr th:only-of-type {\n",
       "        vertical-align: middle;\n",
       "    }\n",
       "\n",
       "    .dataframe tbody tr th {\n",
       "        vertical-align: top;\n",
       "    }\n",
       "\n",
       "    .dataframe thead th {\n",
       "        text-align: right;\n",
       "    }\n",
       "</style>\n",
       "<table border=\"1\" class=\"dataframe\">\n",
       "  <thead>\n",
       "    <tr style=\"text-align: right;\">\n",
       "      <th></th>\n",
       "      <th>Number of Experiments</th>\n",
       "      <th>Threshold number of successes</th>\n",
       "      <th>p</th>\n",
       "      <th>r</th>\n",
       "      <th>FP</th>\n",
       "      <th>TN</th>\n",
       "      <th>FN</th>\n",
       "      <th>TP</th>\n",
       "      <th>distances</th>\n",
       "    </tr>\n",
       "  </thead>\n",
       "  <tbody>\n",
       "    <tr>\n",
       "      <th>7</th>\n",
       "      <td>3.0</td>\n",
       "      <td>3.0</td>\n",
       "      <td>0.9</td>\n",
       "      <td>0.5</td>\n",
       "      <td>0.125</td>\n",
       "      <td>0.875</td>\n",
       "      <td>0.271</td>\n",
       "      <td>0.729</td>\n",
       "      <td>0.298439</td>\n",
       "    </tr>\n",
       "  </tbody>\n",
       "</table>\n",
       "</div>"
      ],
      "text/plain": [
       "   Number of Experiments  Threshold number of successes    p    r     FP  \\\n",
       "7                    3.0                            3.0  0.9  0.5  0.125   \n",
       "\n",
       "      TN     FN     TP  distances  \n",
       "7  0.875  0.271  0.729   0.298439  "
      ]
     },
     "metadata": {},
     "output_type": "display_data"
    },
    {
     "name": "stdout",
     "output_type": "stream",
     "text": [
      "\u001b[32m TP closest to the perfect classifier: 0.729\n",
      "\u001b[0m\u001b[33m FP closest to the perfect classifier: 0.125\n",
      "\u001b[0m"
     ]
    },
    {
     "data": {
      "image/png": "[encoded data removed]",
      "text/plain": [
       "<Figure size 640x480 with 1 Axes>"
      ]
     },
     "metadata": {},
     "output_type": "display_data"
    },
    {
     "data": {
      "text/html": [
       "<div>\n",
       "<style scoped>\n",
       "    .dataframe tbody tr th:only-of-type {\n",
       "        vertical-align: middle;\n",
       "    }\n",
       "\n",
       "    .dataframe tbody tr th {\n",
       "        vertical-align: top;\n",
       "    }\n",
       "\n",
       "    .dataframe thead th {\n",
       "        text-align: right;\n",
       "    }\n",
       "</style>\n",
       "<table border=\"1\" class=\"dataframe\">\n",
       "  <thead>\n",
       "    <tr style=\"text-align: right;\">\n",
       "      <th></th>\n",
       "      <th>Number of Experiments</th>\n",
       "      <th>Threshold number of successes</th>\n",
       "      <th>p</th>\n",
       "      <th>r</th>\n",
       "      <th>FP</th>\n",
       "      <th>TN</th>\n",
       "      <th>FN</th>\n",
       "      <th>TP</th>\n",
       "      <th>distances</th>\n",
       "    </tr>\n",
       "  </thead>\n",
       "  <tbody>\n",
       "    <tr>\n",
       "      <th>8</th>\n",
       "      <td>3.0</td>\n",
       "      <td>3.0</td>\n",
       "      <td>0.9</td>\n",
       "      <td>0.75</td>\n",
       "      <td>0.421875</td>\n",
       "      <td>0.578125</td>\n",
       "      <td>0.271</td>\n",
       "      <td>0.729</td>\n",
       "      <td>0.501418</td>\n",
       "    </tr>\n",
       "  </tbody>\n",
       "</table>\n",
       "</div>"
      ],
      "text/plain": [
       "   Number of Experiments  Threshold number of successes    p     r        FP  \\\n",
       "8                    3.0                            3.0  0.9  0.75  0.421875   \n",
       "\n",
       "         TN     FN     TP  distances  \n",
       "8  0.578125  0.271  0.729   0.501418  "
      ]
     },
     "metadata": {},
     "output_type": "display_data"
    },
    {
     "name": "stdout",
     "output_type": "stream",
     "text": [
      "\u001b[32m TP closest to the perfect classifier: 0.729\n",
      "\u001b[0m\u001b[33m FP closest to the perfect classifier: 0.422\n",
      "\u001b[0m"
     ]
    },
    {
     "data": {
      "image/png": "[encoded data removed]",
      "text/plain": [
       "<Figure size 640x480 with 1 Axes>"
      ]
     },
     "metadata": {},
     "output_type": "display_data"
    },
    {
     "data": {
      "text/html": [
       "<div>\n",
       "<style scoped>\n",
       "    .dataframe tbody tr th:only-of-type {\n",
       "        vertical-align: middle;\n",
       "    }\n",
       "\n",
       "    .dataframe tbody tr th {\n",
       "        vertical-align: top;\n",
       "    }\n",
       "\n",
       "    .dataframe thead th {\n",
       "        text-align: right;\n",
       "    }\n",
       "</style>\n",
       "<table border=\"1\" class=\"dataframe\">\n",
       "  <thead>\n",
       "    <tr style=\"text-align: right;\">\n",
       "      <th></th>\n",
       "      <th>Number of Experiments</th>\n",
       "      <th>Threshold number of successes</th>\n",
       "      <th>p</th>\n",
       "      <th>r</th>\n",
       "      <th>FP</th>\n",
       "      <th>TN</th>\n",
       "      <th>FN</th>\n",
       "      <th>TP</th>\n",
       "      <th>distances</th>\n",
       "    </tr>\n",
       "  </thead>\n",
       "  <tbody>\n",
       "    <tr>\n",
       "      <th>18</th>\n",
       "      <td>6.0</td>\n",
       "      <td>4.0</td>\n",
       "      <td>0.9</td>\n",
       "      <td>0.25</td>\n",
       "      <td>0.037598</td>\n",
       "      <td>0.962402</td>\n",
       "      <td>0.01585</td>\n",
       "      <td>0.98415</td>\n",
       "      <td>0.040802</td>\n",
       "    </tr>\n",
       "  </tbody>\n",
       "</table>\n",
       "</div>"
      ],
      "text/plain": [
       "    Number of Experiments  Threshold number of successes    p     r        FP  \\\n",
       "18                    6.0                            4.0  0.9  0.25  0.037598   \n",
       "\n",
       "          TN       FN       TP  distances  \n",
       "18  0.962402  0.01585  0.98415   0.040802  "
      ]
     },
     "metadata": {},
     "output_type": "display_data"
    },
    {
     "name": "stdout",
     "output_type": "stream",
     "text": [
      "\u001b[32m TP closest to the perfect classifier: 0.984\n",
      "\u001b[0m\u001b[33m FP closest to the perfect classifier: 0.038\n",
      "\u001b[0m"
     ]
    },
    {
     "data": {
      "image/png": "[encoded data removed]",
      "text/plain": [
       "<Figure size 640x480 with 1 Axes>"
      ]
     },
     "metadata": {},
     "output_type": "display_data"
    },
    {
     "data": {
      "text/html": [
       "<div>\n",
       "<style scoped>\n",
       "    .dataframe tbody tr th:only-of-type {\n",
       "        vertical-align: middle;\n",
       "    }\n",
       "\n",
       "    .dataframe tbody tr th {\n",
       "        vertical-align: top;\n",
       "    }\n",
       "\n",
       "    .dataframe thead th {\n",
       "        text-align: right;\n",
       "    }\n",
       "</style>\n",
       "<table border=\"1\" class=\"dataframe\">\n",
       "  <thead>\n",
       "    <tr style=\"text-align: right;\">\n",
       "      <th></th>\n",
       "      <th>Number of Experiments</th>\n",
       "      <th>Threshold number of successes</th>\n",
       "      <th>p</th>\n",
       "      <th>r</th>\n",
       "      <th>FP</th>\n",
       "      <th>TN</th>\n",
       "      <th>FN</th>\n",
       "      <th>TP</th>\n",
       "      <th>distances</th>\n",
       "    </tr>\n",
       "  </thead>\n",
       "  <tbody>\n",
       "    <tr>\n",
       "      <th>22</th>\n",
       "      <td>6.0</td>\n",
       "      <td>5.0</td>\n",
       "      <td>0.9</td>\n",
       "      <td>0.5</td>\n",
       "      <td>0.109375</td>\n",
       "      <td>0.890625</td>\n",
       "      <td>0.114265</td>\n",
       "      <td>0.885735</td>\n",
       "      <td>0.158175</td>\n",
       "    </tr>\n",
       "  </tbody>\n",
       "</table>\n",
       "</div>"
      ],
      "text/plain": [
       "    Number of Experiments  Threshold number of successes    p    r        FP  \\\n",
       "22                    6.0                            5.0  0.9  0.5  0.109375   \n",
       "\n",
       "          TN        FN        TP  distances  \n",
       "22  0.890625  0.114265  0.885735   0.158175  "
      ]
     },
     "metadata": {},
     "output_type": "display_data"
    },
    {
     "name": "stdout",
     "output_type": "stream",
     "text": [
      "\u001b[32m TP closest to the perfect classifier: 0.886\n",
      "\u001b[0m\u001b[33m FP closest to the perfect classifier: 0.109\n",
      "\u001b[0m"
     ]
    },
    {
     "data": {
      "image/png": "[encoded data removed]",
      "text/plain": [
       "<Figure size 640x480 with 1 Axes>"
      ]
     },
     "metadata": {},
     "output_type": "display_data"
    },
    {
     "data": {
      "text/html": [
       "<div>\n",
       "<style scoped>\n",
       "    .dataframe tbody tr th:only-of-type {\n",
       "        vertical-align: middle;\n",
       "    }\n",
       "\n",
       "    .dataframe tbody tr th {\n",
       "        vertical-align: top;\n",
       "    }\n",
       "\n",
       "    .dataframe thead th {\n",
       "        text-align: right;\n",
       "    }\n",
       "</style>\n",
       "<table border=\"1\" class=\"dataframe\">\n",
       "  <thead>\n",
       "    <tr style=\"text-align: right;\">\n",
       "      <th></th>\n",
       "      <th>Number of Experiments</th>\n",
       "      <th>Threshold number of successes</th>\n",
       "      <th>p</th>\n",
       "      <th>r</th>\n",
       "      <th>FP</th>\n",
       "      <th>TN</th>\n",
       "      <th>FN</th>\n",
       "      <th>TP</th>\n",
       "      <th>distances</th>\n",
       "    </tr>\n",
       "  </thead>\n",
       "  <tbody>\n",
       "    <tr>\n",
       "      <th>26</th>\n",
       "      <td>6.0</td>\n",
       "      <td>6.0</td>\n",
       "      <td>0.9</td>\n",
       "      <td>0.75</td>\n",
       "      <td>0.177979</td>\n",
       "      <td>0.822021</td>\n",
       "      <td>0.468559</td>\n",
       "      <td>0.531441</td>\n",
       "      <td>0.501222</td>\n",
       "    </tr>\n",
       "  </tbody>\n",
       "</table>\n",
       "</div>"
      ],
      "text/plain": [
       "    Number of Experiments  Threshold number of successes    p     r        FP  \\\n",
       "26                    6.0                            6.0  0.9  0.75  0.177979   \n",
       "\n",
       "          TN        FN        TP  distances  \n",
       "26  0.822021  0.468559  0.531441   0.501222  "
      ]
     },
     "metadata": {},
     "output_type": "display_data"
    },
    {
     "name": "stdout",
     "output_type": "stream",
     "text": [
      "\u001b[32m TP closest to the perfect classifier: 0.531\n",
      "\u001b[0m\u001b[33m FP closest to the perfect classifier: 0.178\n",
      "\u001b[0m"
     ]
    },
    {
     "data": {
      "image/png": "[encoded data removed]",
      "text/plain": [
       "<Figure size 640x480 with 1 Axes>"
      ]
     },
     "metadata": {},
     "output_type": "display_data"
    },
    {
     "data": {
      "text/html": [
       "<div>\n",
       "<style scoped>\n",
       "    .dataframe tbody tr th:only-of-type {\n",
       "        vertical-align: middle;\n",
       "    }\n",
       "\n",
       "    .dataframe tbody tr th {\n",
       "        vertical-align: top;\n",
       "    }\n",
       "\n",
       "    .dataframe thead th {\n",
       "        text-align: right;\n",
       "    }\n",
       "</style>\n",
       "<table border=\"1\" class=\"dataframe\">\n",
       "  <thead>\n",
       "    <tr style=\"text-align: right;\">\n",
       "      <th></th>\n",
       "      <th>Number of Experiments</th>\n",
       "      <th>Threshold number of successes</th>\n",
       "      <th>p</th>\n",
       "      <th>r</th>\n",
       "      <th>FP</th>\n",
       "      <th>TN</th>\n",
       "      <th>FN</th>\n",
       "      <th>TP</th>\n",
       "      <th>distances</th>\n",
       "    </tr>\n",
       "  </thead>\n",
       "  <tbody>\n",
       "    <tr>\n",
       "      <th>42</th>\n",
       "      <td>9.0</td>\n",
       "      <td>6.0</td>\n",
       "      <td>0.9</td>\n",
       "      <td>0.25</td>\n",
       "      <td>0.009995</td>\n",
       "      <td>0.990005</td>\n",
       "      <td>0.008331</td>\n",
       "      <td>0.991669</td>\n",
       "      <td>0.013011</td>\n",
       "    </tr>\n",
       "  </tbody>\n",
       "</table>\n",
       "</div>"
      ],
      "text/plain": [
       "    Number of Experiments  Threshold number of successes    p     r        FP  \\\n",
       "42                    9.0                            6.0  0.9  0.25  0.009995   \n",
       "\n",
       "          TN        FN        TP  distances  \n",
       "42  0.990005  0.008331  0.991669   0.013011  "
      ]
     },
     "metadata": {},
     "output_type": "display_data"
    },
    {
     "name": "stdout",
     "output_type": "stream",
     "text": [
      "\u001b[32m TP closest to the perfect classifier: 0.992\n",
      "\u001b[0m\u001b[33m FP closest to the perfect classifier: 0.010\n",
      "\u001b[0m"
     ]
    },
    {
     "data": {
      "image/png": "[encoded data removed]",
      "text/plain": [
       "<Figure size 640x480 with 1 Axes>"
      ]
     },
     "metadata": {},
     "output_type": "display_data"
    },
    {
     "data": {
      "text/html": [
       "<div>\n",
       "<style scoped>\n",
       "    .dataframe tbody tr th:only-of-type {\n",
       "        vertical-align: middle;\n",
       "    }\n",
       "\n",
       "    .dataframe tbody tr th {\n",
       "        vertical-align: top;\n",
       "    }\n",
       "\n",
       "    .dataframe thead th {\n",
       "        text-align: right;\n",
       "    }\n",
       "</style>\n",
       "<table border=\"1\" class=\"dataframe\">\n",
       "  <thead>\n",
       "    <tr style=\"text-align: right;\">\n",
       "      <th></th>\n",
       "      <th>Number of Experiments</th>\n",
       "      <th>Threshold number of successes</th>\n",
       "      <th>p</th>\n",
       "      <th>r</th>\n",
       "      <th>FP</th>\n",
       "      <th>TN</th>\n",
       "      <th>FN</th>\n",
       "      <th>TP</th>\n",
       "      <th>distances</th>\n",
       "    </tr>\n",
       "  </thead>\n",
       "  <tbody>\n",
       "    <tr>\n",
       "      <th>46</th>\n",
       "      <td>9.0</td>\n",
       "      <td>7.0</td>\n",
       "      <td>0.9</td>\n",
       "      <td>0.5</td>\n",
       "      <td>0.089844</td>\n",
       "      <td>0.910156</td>\n",
       "      <td>0.052972</td>\n",
       "      <td>0.947028</td>\n",
       "      <td>0.104297</td>\n",
       "    </tr>\n",
       "  </tbody>\n",
       "</table>\n",
       "</div>"
      ],
      "text/plain": [
       "    Number of Experiments  Threshold number of successes    p    r        FP  \\\n",
       "46                    9.0                            7.0  0.9  0.5  0.089844   \n",
       "\n",
       "          TN        FN        TP  distances  \n",
       "46  0.910156  0.052972  0.947028   0.104297  "
      ]
     },
     "metadata": {},
     "output_type": "display_data"
    },
    {
     "name": "stdout",
     "output_type": "stream",
     "text": [
      "\u001b[32m TP closest to the perfect classifier: 0.947\n",
      "\u001b[0m\u001b[33m FP closest to the perfect classifier: 0.090\n",
      "\u001b[0m"
     ]
    },
    {
     "data": {
      "image/png": "[encoded data removed]",
      "text/plain": [
       "<Figure size 640x480 with 1 Axes>"
      ]
     },
     "metadata": {},
     "output_type": "display_data"
    },
    {
     "data": {
      "text/html": [
       "<div>\n",
       "<style scoped>\n",
       "    .dataframe tbody tr th:only-of-type {\n",
       "        vertical-align: middle;\n",
       "    }\n",
       "\n",
       "    .dataframe tbody tr th {\n",
       "        vertical-align: top;\n",
       "    }\n",
       "\n",
       "    .dataframe thead th {\n",
       "        text-align: right;\n",
       "    }\n",
       "</style>\n",
       "<table border=\"1\" class=\"dataframe\">\n",
       "  <thead>\n",
       "    <tr style=\"text-align: right;\">\n",
       "      <th></th>\n",
       "      <th>Number of Experiments</th>\n",
       "      <th>Threshold number of successes</th>\n",
       "      <th>p</th>\n",
       "      <th>r</th>\n",
       "      <th>FP</th>\n",
       "      <th>TN</th>\n",
       "      <th>FN</th>\n",
       "      <th>TP</th>\n",
       "      <th>distances</th>\n",
       "    </tr>\n",
       "  </thead>\n",
       "  <tbody>\n",
       "    <tr>\n",
       "      <th>50</th>\n",
       "      <td>9.0</td>\n",
       "      <td>8.0</td>\n",
       "      <td>0.9</td>\n",
       "      <td>0.75</td>\n",
       "      <td>0.300339</td>\n",
       "      <td>0.699661</td>\n",
       "      <td>0.225159</td>\n",
       "      <td>0.774841</td>\n",
       "      <td>0.375366</td>\n",
       "    </tr>\n",
       "  </tbody>\n",
       "</table>\n",
       "</div>"
      ],
      "text/plain": [
       "    Number of Experiments  Threshold number of successes    p     r        FP  \\\n",
       "50                    9.0                            8.0  0.9  0.75  0.300339   \n",
       "\n",
       "          TN        FN        TP  distances  \n",
       "50  0.699661  0.225159  0.774841   0.375366  "
      ]
     },
     "metadata": {},
     "output_type": "display_data"
    },
    {
     "name": "stdout",
     "output_type": "stream",
     "text": [
      "\u001b[32m TP closest to the perfect classifier: 0.775\n",
      "\u001b[0m\u001b[33m FP closest to the perfect classifier: 0.300\n",
      "\u001b[0m"
     ]
    },
    {
     "data": {
      "image/png": "[encoded data removed]",
      "text/plain": [
       "<Figure size 640x480 with 1 Axes>"
      ]
     },
     "metadata": {},
     "output_type": "display_data"
    },
    {
     "data": {
      "text/html": [
       "<div>\n",
       "<style scoped>\n",
       "    .dataframe tbody tr th:only-of-type {\n",
       "        vertical-align: middle;\n",
       "    }\n",
       "\n",
       "    .dataframe tbody tr th {\n",
       "        vertical-align: top;\n",
       "    }\n",
       "\n",
       "    .dataframe thead th {\n",
       "        text-align: right;\n",
       "    }\n",
       "</style>\n",
       "<table border=\"1\" class=\"dataframe\">\n",
       "  <thead>\n",
       "    <tr style=\"text-align: right;\">\n",
       "      <th></th>\n",
       "      <th>Number of Experiments</th>\n",
       "      <th>Threshold number of successes</th>\n",
       "      <th>p</th>\n",
       "      <th>r</th>\n",
       "      <th>FP</th>\n",
       "      <th>TN</th>\n",
       "      <th>FN</th>\n",
       "      <th>TP</th>\n",
       "      <th>distances</th>\n",
       "    </tr>\n",
       "  </thead>\n",
       "  <tbody>\n",
       "    <tr>\n",
       "      <th>75</th>\n",
       "      <td>12.0</td>\n",
       "      <td>8.0</td>\n",
       "      <td>0.9</td>\n",
       "      <td>0.25</td>\n",
       "      <td>0.002782</td>\n",
       "      <td>0.997218</td>\n",
       "      <td>0.004329</td>\n",
       "      <td>0.995671</td>\n",
       "      <td>0.005146</td>\n",
       "    </tr>\n",
       "  </tbody>\n",
       "</table>\n",
       "</div>"
      ],
      "text/plain": [
       "    Number of Experiments  Threshold number of successes    p     r        FP  \\\n",
       "75                   12.0                            8.0  0.9  0.25  0.002782   \n",
       "\n",
       "          TN        FN        TP  distances  \n",
       "75  0.997218  0.004329  0.995671   0.005146  "
      ]
     },
     "metadata": {},
     "output_type": "display_data"
    },
    {
     "name": "stdout",
     "output_type": "stream",
     "text": [
      "\u001b[32m TP closest to the perfect classifier: 0.996\n",
      "\u001b[0m\u001b[33m FP closest to the perfect classifier: 0.003\n",
      "\u001b[0m"
     ]
    },
    {
     "data": {
      "image/png": "[encoded data removed]",
      "text/plain": [
       "<Figure size 640x480 with 1 Axes>"
      ]
     },
     "metadata": {},
     "output_type": "display_data"
    },
    {
     "data": {
      "text/html": [
       "<div>\n",
       "<style scoped>\n",
       "    .dataframe tbody tr th:only-of-type {\n",
       "        vertical-align: middle;\n",
       "    }\n",
       "\n",
       "    .dataframe tbody tr th {\n",
       "        vertical-align: top;\n",
       "    }\n",
       "\n",
       "    .dataframe thead th {\n",
       "        text-align: right;\n",
       "    }\n",
       "</style>\n",
       "<table border=\"1\" class=\"dataframe\">\n",
       "  <thead>\n",
       "    <tr style=\"text-align: right;\">\n",
       "      <th></th>\n",
       "      <th>Number of Experiments</th>\n",
       "      <th>Threshold number of successes</th>\n",
       "      <th>p</th>\n",
       "      <th>r</th>\n",
       "      <th>FP</th>\n",
       "      <th>TN</th>\n",
       "      <th>FN</th>\n",
       "      <th>TP</th>\n",
       "      <th>distances</th>\n",
       "    </tr>\n",
       "  </thead>\n",
       "  <tbody>\n",
       "    <tr>\n",
       "      <th>79</th>\n",
       "      <td>12.0</td>\n",
       "      <td>9.0</td>\n",
       "      <td>0.9</td>\n",
       "      <td>0.5</td>\n",
       "      <td>0.072998</td>\n",
       "      <td>0.927002</td>\n",
       "      <td>0.025637</td>\n",
       "      <td>0.974363</td>\n",
       "      <td>0.077369</td>\n",
       "    </tr>\n",
       "  </tbody>\n",
       "</table>\n",
       "</div>"
      ],
      "text/plain": [
       "    Number of Experiments  Threshold number of successes    p    r        FP  \\\n",
       "79                   12.0                            9.0  0.9  0.5  0.072998   \n",
       "\n",
       "          TN        FN        TP  distances  \n",
       "79  0.927002  0.025637  0.974363   0.077369  "
      ]
     },
     "metadata": {},
     "output_type": "display_data"
    },
    {
     "name": "stdout",
     "output_type": "stream",
     "text": [
      "\u001b[32m TP closest to the perfect classifier: 0.974\n",
      "\u001b[0m\u001b[33m FP closest to the perfect classifier: 0.073\n",
      "\u001b[0m"
     ]
    },
    {
     "data": {
      "image/png": "[encoded data removed]",
      "text/plain": [
       "<Figure size 640x480 with 1 Axes>"
      ]
     },
     "metadata": {},
     "output_type": "display_data"
    },
    {
     "data": {
      "text/html": [
       "<div>\n",
       "<style scoped>\n",
       "    .dataframe tbody tr th:only-of-type {\n",
       "        vertical-align: middle;\n",
       "    }\n",
       "\n",
       "    .dataframe tbody tr th {\n",
       "        vertical-align: top;\n",
       "    }\n",
       "\n",
       "    .dataframe thead th {\n",
       "        text-align: right;\n",
       "    }\n",
       "</style>\n",
       "<table border=\"1\" class=\"dataframe\">\n",
       "  <thead>\n",
       "    <tr style=\"text-align: right;\">\n",
       "      <th></th>\n",
       "      <th>Number of Experiments</th>\n",
       "      <th>Threshold number of successes</th>\n",
       "      <th>p</th>\n",
       "      <th>r</th>\n",
       "      <th>FP</th>\n",
       "      <th>TN</th>\n",
       "      <th>FN</th>\n",
       "      <th>TP</th>\n",
       "      <th>distances</th>\n",
       "    </tr>\n",
       "  </thead>\n",
       "  <tbody>\n",
       "    <tr>\n",
       "      <th>86</th>\n",
       "      <td>12.0</td>\n",
       "      <td>11.0</td>\n",
       "      <td>0.9</td>\n",
       "      <td>0.75</td>\n",
       "      <td>0.158382</td>\n",
       "      <td>0.841618</td>\n",
       "      <td>0.340998</td>\n",
       "      <td>0.659002</td>\n",
       "      <td>0.375984</td>\n",
       "    </tr>\n",
       "  </tbody>\n",
       "</table>\n",
       "</div>"
      ],
      "text/plain": [
       "    Number of Experiments  Threshold number of successes    p     r        FP  \\\n",
       "86                   12.0                           11.0  0.9  0.75  0.158382   \n",
       "\n",
       "          TN        FN        TP  distances  \n",
       "86  0.841618  0.340998  0.659002   0.375984  "
      ]
     },
     "metadata": {},
     "output_type": "display_data"
    },
    {
     "name": "stdout",
     "output_type": "stream",
     "text": [
      "\u001b[32m TP closest to the perfect classifier: 0.659\n",
      "\u001b[0m\u001b[33m FP closest to the perfect classifier: 0.158\n",
      "\u001b[0m"
     ]
    },
    {
     "data": {
      "image/png": "[encoded data removed]",
      "text/plain": [
       "<Figure size 640x480 with 1 Axes>"
      ]
     },
     "metadata": {},
     "output_type": "display_data"
    },
    {
     "data": {
      "text/html": [
       "<div>\n",
       "<style scoped>\n",
       "    .dataframe tbody tr th:only-of-type {\n",
       "        vertical-align: middle;\n",
       "    }\n",
       "\n",
       "    .dataframe tbody tr th {\n",
       "        vertical-align: top;\n",
       "    }\n",
       "\n",
       "    .dataframe thead th {\n",
       "        text-align: right;\n",
       "    }\n",
       "</style>\n",
       "<table border=\"1\" class=\"dataframe\">\n",
       "  <thead>\n",
       "    <tr style=\"text-align: right;\">\n",
       "      <th></th>\n",
       "      <th>Number of Experiments</th>\n",
       "      <th>Threshold number of successes</th>\n",
       "      <th>p</th>\n",
       "      <th>r</th>\n",
       "      <th>FP</th>\n",
       "      <th>TN</th>\n",
       "      <th>FN</th>\n",
       "      <th>TP</th>\n",
       "      <th>distances</th>\n",
       "    </tr>\n",
       "  </thead>\n",
       "  <tbody>\n",
       "    <tr>\n",
       "      <th>117</th>\n",
       "      <td>15.0</td>\n",
       "      <td>10.0</td>\n",
       "      <td>0.9</td>\n",
       "      <td>0.25</td>\n",
       "      <td>0.000795</td>\n",
       "      <td>0.999205</td>\n",
       "      <td>0.00225</td>\n",
       "      <td>0.99775</td>\n",
       "      <td>0.002386</td>\n",
       "    </tr>\n",
       "  </tbody>\n",
       "</table>\n",
       "</div>"
      ],
      "text/plain": [
       "     Number of Experiments  Threshold number of successes    p     r  \\\n",
       "117                   15.0                           10.0  0.9  0.25   \n",
       "\n",
       "           FP        TN       FN       TP  distances  \n",
       "117  0.000795  0.999205  0.00225  0.99775   0.002386  "
      ]
     },
     "metadata": {},
     "output_type": "display_data"
    },
    {
     "name": "stdout",
     "output_type": "stream",
     "text": [
      "\u001b[32m TP closest to the perfect classifier: 0.998\n",
      "\u001b[0m\u001b[33m FP closest to the perfect classifier: 0.001\n",
      "\u001b[0m"
     ]
    },
    {
     "data": {
      "image/png": "[encoded data removed]",
      "text/plain": [
       "<Figure size 640x480 with 1 Axes>"
      ]
     },
     "metadata": {},
     "output_type": "display_data"
    },
    {
     "data": {
      "text/html": [
       "<div>\n",
       "<style scoped>\n",
       "    .dataframe tbody tr th:only-of-type {\n",
       "        vertical-align: middle;\n",
       "    }\n",
       "\n",
       "    .dataframe tbody tr th {\n",
       "        vertical-align: top;\n",
       "    }\n",
       "\n",
       "    .dataframe thead th {\n",
       "        text-align: right;\n",
       "    }\n",
       "</style>\n",
       "<table border=\"1\" class=\"dataframe\">\n",
       "  <thead>\n",
       "    <tr style=\"text-align: right;\">\n",
       "      <th></th>\n",
       "      <th>Number of Experiments</th>\n",
       "      <th>Threshold number of successes</th>\n",
       "      <th>p</th>\n",
       "      <th>r</th>\n",
       "      <th>FP</th>\n",
       "      <th>TN</th>\n",
       "      <th>FN</th>\n",
       "      <th>TP</th>\n",
       "      <th>distances</th>\n",
       "    </tr>\n",
       "  </thead>\n",
       "  <tbody>\n",
       "    <tr>\n",
       "      <th>124</th>\n",
       "      <td>15.0</td>\n",
       "      <td>12.0</td>\n",
       "      <td>0.9</td>\n",
       "      <td>0.5</td>\n",
       "      <td>0.017578</td>\n",
       "      <td>0.982422</td>\n",
       "      <td>0.055556</td>\n",
       "      <td>0.944444</td>\n",
       "      <td>0.05827</td>\n",
       "    </tr>\n",
       "  </tbody>\n",
       "</table>\n",
       "</div>"
      ],
      "text/plain": [
       "     Number of Experiments  Threshold number of successes    p    r        FP  \\\n",
       "124                   15.0                           12.0  0.9  0.5  0.017578   \n",
       "\n",
       "           TN        FN        TP  distances  \n",
       "124  0.982422  0.055556  0.944444    0.05827  "
      ]
     },
     "metadata": {},
     "output_type": "display_data"
    },
    {
     "name": "stdout",
     "output_type": "stream",
     "text": [
      "\u001b[32m TP closest to the perfect classifier: 0.944\n",
      "\u001b[0m\u001b[33m FP closest to the perfect classifier: 0.018\n",
      "\u001b[0m"
     ]
    },
    {
     "data": {
      "image/png": "[encoded data removed]",
      "text/plain": [
       "<Figure size 640x480 with 1 Axes>"
      ]
     },
     "metadata": {},
     "output_type": "display_data"
    },
    {
     "data": {
      "text/html": [
       "<div>\n",
       "<style scoped>\n",
       "    .dataframe tbody tr th:only-of-type {\n",
       "        vertical-align: middle;\n",
       "    }\n",
       "\n",
       "    .dataframe tbody tr th {\n",
       "        vertical-align: top;\n",
       "    }\n",
       "\n",
       "    .dataframe thead th {\n",
       "        text-align: right;\n",
       "    }\n",
       "</style>\n",
       "<table border=\"1\" class=\"dataframe\">\n",
       "  <thead>\n",
       "    <tr style=\"text-align: right;\">\n",
       "      <th></th>\n",
       "      <th>Number of Experiments</th>\n",
       "      <th>Threshold number of successes</th>\n",
       "      <th>p</th>\n",
       "      <th>r</th>\n",
       "      <th>FP</th>\n",
       "      <th>TN</th>\n",
       "      <th>FN</th>\n",
       "      <th>TP</th>\n",
       "      <th>distances</th>\n",
       "    </tr>\n",
       "  </thead>\n",
       "  <tbody>\n",
       "    <tr>\n",
       "      <th>128</th>\n",
       "      <td>15.0</td>\n",
       "      <td>13.0</td>\n",
       "      <td>0.9</td>\n",
       "      <td>0.75</td>\n",
       "      <td>0.236088</td>\n",
       "      <td>0.763912</td>\n",
       "      <td>0.184061</td>\n",
       "      <td>0.815939</td>\n",
       "      <td>0.299359</td>\n",
       "    </tr>\n",
       "  </tbody>\n",
       "</table>\n",
       "</div>"
      ],
      "text/plain": [
       "     Number of Experiments  Threshold number of successes    p     r  \\\n",
       "128                   15.0                           13.0  0.9  0.75   \n",
       "\n",
       "           FP        TN        FN        TP  distances  \n",
       "128  0.236088  0.763912  0.184061  0.815939   0.299359  "
      ]
     },
     "metadata": {},
     "output_type": "display_data"
    },
    {
     "name": "stdout",
     "output_type": "stream",
     "text": [
      "\u001b[32m TP closest to the perfect classifier: 0.816\n",
      "\u001b[0m\u001b[33m FP closest to the perfect classifier: 0.236\n",
      "\u001b[0m"
     ]
    },
    {
     "data": {
      "text/html": [
       "<div>\n",
       "<style scoped>\n",
       "    .dataframe tbody tr th:only-of-type {\n",
       "        vertical-align: middle;\n",
       "    }\n",
       "\n",
       "    .dataframe tbody tr th {\n",
       "        vertical-align: top;\n",
       "    }\n",
       "\n",
       "    .dataframe thead th {\n",
       "        text-align: right;\n",
       "    }\n",
       "</style>\n",
       "<table border=\"1\" class=\"dataframe\">\n",
       "  <thead>\n",
       "    <tr style=\"text-align: right;\">\n",
       "      <th></th>\n",
       "      <th>Number of Experiments</th>\n",
       "      <th>Threshold number of successes</th>\n",
       "      <th>p</th>\n",
       "      <th>r</th>\n",
       "      <th>FP</th>\n",
       "      <th>TN</th>\n",
       "      <th>FN</th>\n",
       "      <th>TP</th>\n",
       "    </tr>\n",
       "  </thead>\n",
       "  <tbody>\n",
       "    <tr>\n",
       "      <th>0</th>\n",
       "      <td>3.0</td>\n",
       "      <td>2.0</td>\n",
       "      <td>0.9</td>\n",
       "      <td>0.25</td>\n",
       "      <td>0.156250</td>\n",
       "      <td>0.843750</td>\n",
       "      <td>0.028000</td>\n",
       "      <td>0.972000</td>\n",
       "    </tr>\n",
       "    <tr>\n",
       "      <th>1</th>\n",
       "      <td>3.0</td>\n",
       "      <td>3.0</td>\n",
       "      <td>0.9</td>\n",
       "      <td>0.50</td>\n",
       "      <td>0.125000</td>\n",
       "      <td>0.875000</td>\n",
       "      <td>0.271000</td>\n",
       "      <td>0.729000</td>\n",
       "    </tr>\n",
       "    <tr>\n",
       "      <th>2</th>\n",
       "      <td>3.0</td>\n",
       "      <td>3.0</td>\n",
       "      <td>0.9</td>\n",
       "      <td>0.75</td>\n",
       "      <td>0.421875</td>\n",
       "      <td>0.578125</td>\n",
       "      <td>0.271000</td>\n",
       "      <td>0.729000</td>\n",
       "    </tr>\n",
       "    <tr>\n",
       "      <th>3</th>\n",
       "      <td>6.0</td>\n",
       "      <td>4.0</td>\n",
       "      <td>0.9</td>\n",
       "      <td>0.25</td>\n",
       "      <td>0.037598</td>\n",
       "      <td>0.962402</td>\n",
       "      <td>0.015850</td>\n",
       "      <td>0.984150</td>\n",
       "    </tr>\n",
       "    <tr>\n",
       "      <th>4</th>\n",
       "      <td>6.0</td>\n",
       "      <td>5.0</td>\n",
       "      <td>0.9</td>\n",
       "      <td>0.50</td>\n",
       "      <td>0.109375</td>\n",
       "      <td>0.890625</td>\n",
       "      <td>0.114265</td>\n",
       "      <td>0.885735</td>\n",
       "    </tr>\n",
       "    <tr>\n",
       "      <th>5</th>\n",
       "      <td>6.0</td>\n",
       "      <td>6.0</td>\n",
       "      <td>0.9</td>\n",
       "      <td>0.75</td>\n",
       "      <td>0.177979</td>\n",
       "      <td>0.822021</td>\n",
       "      <td>0.468559</td>\n",
       "      <td>0.531441</td>\n",
       "    </tr>\n",
       "    <tr>\n",
       "      <th>6</th>\n",
       "      <td>9.0</td>\n",
       "      <td>6.0</td>\n",
       "      <td>0.9</td>\n",
       "      <td>0.25</td>\n",
       "      <td>0.009995</td>\n",
       "      <td>0.990005</td>\n",
       "      <td>0.008331</td>\n",
       "      <td>0.991669</td>\n",
       "    </tr>\n",
       "    <tr>\n",
       "      <th>7</th>\n",
       "      <td>9.0</td>\n",
       "      <td>7.0</td>\n",
       "      <td>0.9</td>\n",
       "      <td>0.50</td>\n",
       "      <td>0.089844</td>\n",
       "      <td>0.910156</td>\n",
       "      <td>0.052972</td>\n",
       "      <td>0.947028</td>\n",
       "    </tr>\n",
       "    <tr>\n",
       "      <th>8</th>\n",
       "      <td>9.0</td>\n",
       "      <td>8.0</td>\n",
       "      <td>0.9</td>\n",
       "      <td>0.75</td>\n",
       "      <td>0.300339</td>\n",
       "      <td>0.699661</td>\n",
       "      <td>0.225159</td>\n",
       "      <td>0.774841</td>\n",
       "    </tr>\n",
       "    <tr>\n",
       "      <th>9</th>\n",
       "      <td>12.0</td>\n",
       "      <td>8.0</td>\n",
       "      <td>0.9</td>\n",
       "      <td>0.25</td>\n",
       "      <td>0.002782</td>\n",
       "      <td>0.997218</td>\n",
       "      <td>0.004329</td>\n",
       "      <td>0.995671</td>\n",
       "    </tr>\n",
       "    <tr>\n",
       "      <th>10</th>\n",
       "      <td>12.0</td>\n",
       "      <td>9.0</td>\n",
       "      <td>0.9</td>\n",
       "      <td>0.50</td>\n",
       "      <td>0.072998</td>\n",
       "      <td>0.927002</td>\n",
       "      <td>0.025637</td>\n",
       "      <td>0.974363</td>\n",
       "    </tr>\n",
       "    <tr>\n",
       "      <th>11</th>\n",
       "      <td>12.0</td>\n",
       "      <td>11.0</td>\n",
       "      <td>0.9</td>\n",
       "      <td>0.75</td>\n",
       "      <td>0.158382</td>\n",
       "      <td>0.841618</td>\n",
       "      <td>0.340998</td>\n",
       "      <td>0.659002</td>\n",
       "    </tr>\n",
       "    <tr>\n",
       "      <th>12</th>\n",
       "      <td>15.0</td>\n",
       "      <td>10.0</td>\n",
       "      <td>0.9</td>\n",
       "      <td>0.25</td>\n",
       "      <td>0.000795</td>\n",
       "      <td>0.999205</td>\n",
       "      <td>0.002250</td>\n",
       "      <td>0.997750</td>\n",
       "    </tr>\n",
       "    <tr>\n",
       "      <th>13</th>\n",
       "      <td>15.0</td>\n",
       "      <td>12.0</td>\n",
       "      <td>0.9</td>\n",
       "      <td>0.50</td>\n",
       "      <td>0.017578</td>\n",
       "      <td>0.982422</td>\n",
       "      <td>0.055556</td>\n",
       "      <td>0.944444</td>\n",
       "    </tr>\n",
       "    <tr>\n",
       "      <th>14</th>\n",
       "      <td>15.0</td>\n",
       "      <td>13.0</td>\n",
       "      <td>0.9</td>\n",
       "      <td>0.75</td>\n",
       "      <td>0.236088</td>\n",
       "      <td>0.763912</td>\n",
       "      <td>0.184061</td>\n",
       "      <td>0.815939</td>\n",
       "    </tr>\n",
       "  </tbody>\n",
       "</table>\n",
       "</div>"
      ],
      "text/plain": [
       "    Number of Experiments  Threshold number of successes    p     r        FP  \\\n",
       "0                     3.0                            2.0  0.9  0.25  0.156250   \n",
       "1                     3.0                            3.0  0.9  0.50  0.125000   \n",
       "2                     3.0                            3.0  0.9  0.75  0.421875   \n",
       "3                     6.0                            4.0  0.9  0.25  0.037598   \n",
       "4                     6.0                            5.0  0.9  0.50  0.109375   \n",
       "5                     6.0                            6.0  0.9  0.75  0.177979   \n",
       "6                     9.0                            6.0  0.9  0.25  0.009995   \n",
       "7                     9.0                            7.0  0.9  0.50  0.089844   \n",
       "8                     9.0                            8.0  0.9  0.75  0.300339   \n",
       "9                    12.0                            8.0  0.9  0.25  0.002782   \n",
       "10                   12.0                            9.0  0.9  0.50  0.072998   \n",
       "11                   12.0                           11.0  0.9  0.75  0.158382   \n",
       "12                   15.0                           10.0  0.9  0.25  0.000795   \n",
       "13                   15.0                           12.0  0.9  0.50  0.017578   \n",
       "14                   15.0                           13.0  0.9  0.75  0.236088   \n",
       "\n",
       "          TN        FN        TP  \n",
       "0   0.843750  0.028000  0.972000  \n",
       "1   0.875000  0.271000  0.729000  \n",
       "2   0.578125  0.271000  0.729000  \n",
       "3   0.962402  0.015850  0.984150  \n",
       "4   0.890625  0.114265  0.885735  \n",
       "5   0.822021  0.468559  0.531441  \n",
       "6   0.990005  0.008331  0.991669  \n",
       "7   0.910156  0.052972  0.947028  \n",
       "8   0.699661  0.225159  0.774841  \n",
       "9   0.997218  0.004329  0.995671  \n",
       "10  0.927002  0.025637  0.974363  \n",
       "11  0.841618  0.340998  0.659002  \n",
       "12  0.999205  0.002250  0.997750  \n",
       "13  0.982422  0.055556  0.944444  \n",
       "14  0.763912  0.184061  0.815939  "
      ]
     },
     "metadata": {},
     "output_type": "display_data"
    }
   ],
   "source": [
    "dfs = df.groupby(['n_exp','p','r'])   \n",
    "fig = go.Figure()\n",
    "best_dfs = []\n",
    "for i in dfs:\n",
    "#     display(i[1])\n",
    "#     fig = go.Figure()\n",
    "#     fig = px.line(i[1], x=\"fp\", y=\"tp\",text='threshold_exp',hover_data=['n_exp','threshold_exp','p','r'],color='n_exp',markers=True)\n",
    "#     fig.update_traces(textposition='top center')\n",
    "#     fig.update_layout(title_text=\"{Number of experiments vs Threshold Runs at (p,r):{\"+str(p)+\",\"+str(r)+\"}\")\n",
    "#     fig.show()\n",
    "    # print(i[1].columns)\n",
    "    # calculate difference between max and min values\n",
    "    fpr = i[1].fp.to_numpy()\n",
    "    tpr = i[1].tp.to_numpy()\n",
    "    distances = [np.sqrt((1 - tpr[i])**2 + fpr[i]**2) for i in range(len(fpr))]\n",
    "    i[1][\"distances\"] = distances\n",
    "    # find index of the point with minimum distance\n",
    "    min_index = np.argmin(distances)\n",
    "    # get the corresponding values of FP and TP\n",
    "    best_fp = fpr[min_index]\n",
    "    best_tp = tpr[min_index]\n",
    "    # find the row with the least value in the 'Salary' column\n",
    "    best = i[1].loc[i[1]['distances'].idxmin()].to_frame().transpose()\n",
    "    best.columns = [\"Number of Experiments\",\"Threshold number of successes\",\"p\",\"r\",\"FP\",\"TN\",\"FN\",\"TP\",\"distances\"]\n",
    "    \n",
    "    p = i[1].p.unique().tolist()[0]\n",
    "    r = i[1].r.unique().tolist()[0]\n",
    "    \n",
    "    plt.plot(i[1].fp,i[1].tp,marker=\".\")\n",
    "    for j in range(len(i[1])):\n",
    "#         print(j,(i[1].iloc[j].fp), (i[1].iloc[j].tp))\n",
    "        plt.annotate(str(i[1].threshold_exp.tolist()[j]), ((i[1].iloc[j].fp), (i[1].iloc[j].tp)+0.01))\n",
    "    plt.legend([\"#Experiments: \"+str(i[1].n_exp.unique().tolist()[0])]  ,loc='lower right')\n",
    "    plt.xlabel(\"False Positive\")\n",
    "    plt.ylabel(\"True Positive\")\n",
    "    plt.title(str(i[1].n_exp.unique().tolist()[0])+\" experiments run at (p,r):{\"+str(p)+\",\"+str(r)+\"}\")\n",
    "    plt.xlim([-0.1,1.1])\n",
    "    plt.ylim([-0.1,1.1])\n",
    "    plt.grid(True)\n",
    "    plt.tight_layout()\n",
    "    plt.show()\n",
    "    display(best)\n",
    "    best_dfs.append(best)\n",
    "    Printer.green(f\"TP closest to the perfect classifier: {best_tp:.3f}\")\n",
    "    Printer.orange(f\"FP closest to the perfect classifier: {best_fp:.3f}\")\n",
    "    \n",
    "result = pd.concat(best_dfs, axis=0, ignore_index=True)\n",
    "# drop a column\n",
    "result = result.drop('distances', axis=1)\n",
    "display(result)"
   ]
  },
  {
   "cell_type": "code",
   "execution_count": null,
   "id": "0f067ee5",
   "metadata": {},
   "outputs": [],
   "source": []
  }
 ],
 "metadata": {
  "kernelspec": {
   "display_name": "base",
   "language": "python",
   "name": "python3"
  },
  "language_info": {
   "codemirror_mode": {
    "name": "ipython",
    "version": 3
   },
   "file_extension": ".py",
   "mimetype": "text/x-python",
   "name": "python",
   "nbconvert_exporter": "python",
   "pygments_lexer": "ipython3",
   "version": "3.9.16"
  }
 },
 "nbformat": 4,
 "nbformat_minor": 5
}
