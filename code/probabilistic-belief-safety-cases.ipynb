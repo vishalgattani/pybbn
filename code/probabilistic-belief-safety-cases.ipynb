{
 "cells": [
  {
   "cell_type": "markdown",
   "id": "6e12b0a2",
   "metadata": {},
   "source": [
    "# Safety-case fragment in GSN format which is used for evaluation\n",
    "\n",
    "<img width=\"638\" alt=\"Screenshot 2023-01-17 at 10 49 46 PM\" src=\"https://user-images.githubusercontent.com/24211929/212967903-cd1af9b5-5421-43b7-b1ff-9ec20ec0e26c.png\">\n",
    "\n"
   ]
  },
  {
   "cell_type": "markdown",
   "id": "0a130881",
   "metadata": {},
   "source": [
    "# The Bayesian Network for the GSN argument from above\n",
    "\n",
    "<img width=\"638\" alt=\"Screenshot 2023-01-17 at 10 50 13 PM\" src=\"https://user-images.githubusercontent.com/24211929/212967878-340e9178-69ee-42b7-ac90-6e05a09b31ca.png\">\n"
   ]
  },
  {
   "cell_type": "markdown",
   "id": "b3129bea",
   "metadata": {},
   "source": [
    "# Mapping GSN nodes to concepts based on formulas of $L$\n",
    "|GSN node|Concept based on $L$|\n",
    "|:--------:|:--------------------:|\n",
    "|Goal|Claim|\n",
    "|Strategy|Inference rule|\n",
    "|Solution|Evidence|\n",
    "|Assumption|axiom|\n",
    "|Justification|axiom|\n",
    "|Context|Claim|"
   ]
  },
  {
   "cell_type": "markdown",
   "id": "bd05d068",
   "metadata": {},
   "source": [
    "# Encoding inequality as a Bayesian Network\n",
    "|Concept based on $L$|Random Variable|State Space|\n",
    "|:--------:|:--------------------:|:-----------:|\n",
    "|Evidence $e$|$X_e$|$sat$,$notsat$|\n",
    "|axiom $\\alpha$|$X_\\alpha$|$sat$,$notsat$|\n",
    "|Inference rule $\\psi$|$X_\\psi$|$sound$,$notsound$|\n",
    "|premises $p_1,p_2,...$|$X_{p_1},X_{p_2},...$|$sat$,$notsat$|\n",
    "|conclusion $q$|$X_q$|$sat$,$notsat$|"
   ]
  },
  {
   "cell_type": "markdown",
   "id": "fe830b88",
   "metadata": {},
   "source": [
    "#  GSN structure and the corresponding Bayesian Network\n",
    "> Nodes with dashed outline represent implicit inference rules.\n",
    "\n",
    "\n",
    "<img width=\"1000\" alt=\"Screenshot 2023-01-18 at 2 01 23 AM\" src=\"https://user-images.githubusercontent.com/24211929/213006359-fcb0da34-fba7-45ae-879c-ab7f5e4b08c2.png\">\n"
   ]
  },
  {
   "cell_type": "code",
   "execution_count": null,
   "id": "da25f61c",
   "metadata": {},
   "outputs": [],
   "source": [
    "import pandas as pd \n",
    "import networkx as nx \n",
    "from networkx.drawing.nx_agraph import graphviz_layout\n",
    "import matplotlib.pyplot as plt \n",
    "from netgraph import Graph, InteractiveGraph, EditableGraph\n",
    "%matplotlib inline\n",
    "\n",
    "import pybbn\n",
    "from pybbn.graph.dag import Bbn as bbn\n",
    "from pybbn.graph.edge import Edge, EdgeType\n",
    "from pybbn.graph.jointree import EvidenceBuilder\n",
    "from pybbn.graph.node import BbnNode as bbnNode\n",
    "from pybbn.graph.variable import Variable\n",
    "from pybbn.pptc.inferencecontroller import InferenceController\n",
    "\n",
    "import warnings\n",
    "warnings.filterwarnings('ignore')"
   ]
  },
  {
   "cell_type": "markdown",
   "id": "089471e0",
   "metadata": {},
   "source": [
    "|Node|Random Variable|State Space|\n",
    "|:--------:|:--------------------:|:-----------:|\n",
    "|Test Results say Algorithm 1 works properly|$X_{TA1}$|$Correct$,$Incorrect$|\n",
    "|Experiment 1 |$X_{E1}$|$n_0,n_1,\\cdots,n_{n-1}$|\n",
    "|Algorithm 1 works correctly|$X_{A1}$|$True$,$False$|\n"
   ]
  }
 ],
 "metadata": {
  "kernelspec": {
   "display_name": "pybbn37",
   "language": "python",
   "name": "pybbn37"
  },
  "language_info": {
   "codemirror_mode": {
    "name": "ipython",
    "version": 3
   },
   "file_extension": ".py",
   "mimetype": "text/x-python",
   "name": "python",
   "nbconvert_exporter": "python",
   "pygments_lexer": "ipython3",
   "version": "3.7.15"
  }
 },
 "nbformat": 4,
 "nbformat_minor": 5
}
